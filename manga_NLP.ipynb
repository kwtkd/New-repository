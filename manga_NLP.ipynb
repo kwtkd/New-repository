{
  "cells": [
    {
      "cell_type": "markdown",
      "metadata": {
        "id": "view-in-github",
        "colab_type": "text"
      },
      "source": [
        "<a href=\"https://colab.research.google.com/github/kwtkd/New-repository/blob/main/manga_NLP.ipynb\" target=\"_parent\"><img src=\"https://colab.research.google.com/assets/colab-badge.svg\" alt=\"Open In Colab\"/></a>"
      ]
    },
    {
      "cell_type": "code",
      "execution_count": null,
      "metadata": {
        "id": "GR5x8jAxtn0_",
        "colab": {
          "base_uri": "https://localhost:8080/"
        },
        "outputId": "0115b31c-c2c5-45cd-843d-e6134ad04883"
      },
      "outputs": [
        {
          "output_type": "stream",
          "name": "stdout",
          "text": [
            "Mounted at /content/drive/\n"
          ]
        }
      ],
      "source": [
        "from google.colab import drive\n",
        "drive.mount('/content/drive/')\n",
        "#ドライブをマウントしたらカレントディレクトリの設定はしない。"
      ]
    },
    {
      "cell_type": "code",
      "execution_count": null,
      "metadata": {
        "id": "VMA_hxAEuZSI"
      },
      "outputs": [],
      "source": [
        "import pandas as pd\n",
        "import numpy as np\n",
        "\n",
        " # CSVファイルのパスを指定する\n",
        " file_path = '/content/drive/My Drive/***********/oshinoko_reviews.csv'\n",
        " # CSVファイルを読み込む\n",
        " df = pd.read_csv(file_path, encoding=\"Shift_JIS\")"
      ]
    },
    {
      "cell_type": "code",
      "execution_count": null,
      "metadata": {
        "colab": {
          "base_uri": "https://localhost:8080/",
          "height": 147
        },
        "id": "6wugH8dQxMff",
        "outputId": "dbd5f70b-958d-4163-f280-9eef796fb67f"
      },
      "outputs": [
        {
          "output_type": "error",
          "ename": "NameError",
          "evalue": "name 'df' is not defined",
          "traceback": [
            "\u001b[0;31m---------------------------------------------------------------------------\u001b[0m",
            "\u001b[0;31mNameError\u001b[0m                                 Traceback (most recent call last)",
            "\u001b[0;32m<ipython-input-4-4add252522c8>\u001b[0m in \u001b[0;36m<cell line: 1>\u001b[0;34m()\u001b[0m\n\u001b[0;32m----> 1\u001b[0;31m \u001b[0mdf\u001b[0m\u001b[0;34m.\u001b[0m\u001b[0mtail\u001b[0m\u001b[0;34m(\u001b[0m\u001b[0;34m)\u001b[0m\u001b[0;34m\u001b[0m\u001b[0;34m\u001b[0m\u001b[0m\n\u001b[0m",
            "\u001b[0;31mNameError\u001b[0m: name 'df' is not defined"
          ]
        }
      ],
      "source": [
        "df.tail()"
      ]
    },
    {
      "cell_type": "code",
      "execution_count": null,
      "metadata": {
        "colab": {
          "base_uri": "https://localhost:8080/",
          "height": 191
        },
        "id": "WxhwDQicrs1m",
        "outputId": "96e365ad-4262-4545-874b-8738b7fad003"
      },
      "outputs": [
        {
          "output_type": "execute_result",
          "data": {
            "text/plain": [
              "                                                  content\n",
              "count                                                 703\n",
              "unique                                                687\n",
              "top     \\n           闇鬱要素てんこ盛り！\\nキラキラした芸能界の深淵というか、ドロドロ...\n",
              "freq                                                    3"
            ],
            "text/html": [
              "\n",
              "  <div id=\"df-47d8ddd5-a190-4091-8045-3621092cffe8\" class=\"colab-df-container\">\n",
              "    <div>\n",
              "<style scoped>\n",
              "    .dataframe tbody tr th:only-of-type {\n",
              "        vertical-align: middle;\n",
              "    }\n",
              "\n",
              "    .dataframe tbody tr th {\n",
              "        vertical-align: top;\n",
              "    }\n",
              "\n",
              "    .dataframe thead th {\n",
              "        text-align: right;\n",
              "    }\n",
              "</style>\n",
              "<table border=\"1\" class=\"dataframe\">\n",
              "  <thead>\n",
              "    <tr style=\"text-align: right;\">\n",
              "      <th></th>\n",
              "      <th>content</th>\n",
              "    </tr>\n",
              "  </thead>\n",
              "  <tbody>\n",
              "    <tr>\n",
              "      <th>count</th>\n",
              "      <td>703</td>\n",
              "    </tr>\n",
              "    <tr>\n",
              "      <th>unique</th>\n",
              "      <td>687</td>\n",
              "    </tr>\n",
              "    <tr>\n",
              "      <th>top</th>\n",
              "      <td>\\n           闇鬱要素てんこ盛り！\\nキラキラした芸能界の深淵というか、ドロドロ...</td>\n",
              "    </tr>\n",
              "    <tr>\n",
              "      <th>freq</th>\n",
              "      <td>3</td>\n",
              "    </tr>\n",
              "  </tbody>\n",
              "</table>\n",
              "</div>\n",
              "    <div class=\"colab-df-buttons\">\n",
              "\n",
              "  <div class=\"colab-df-container\">\n",
              "    <button class=\"colab-df-convert\" onclick=\"convertToInteractive('df-47d8ddd5-a190-4091-8045-3621092cffe8')\"\n",
              "            title=\"Convert this dataframe to an interactive table.\"\n",
              "            style=\"display:none;\">\n",
              "\n",
              "  <svg xmlns=\"http://www.w3.org/2000/svg\" height=\"24px\" viewBox=\"0 -960 960 960\">\n",
              "    <path d=\"M120-120v-720h720v720H120Zm60-500h600v-160H180v160Zm220 220h160v-160H400v160Zm0 220h160v-160H400v160ZM180-400h160v-160H180v160Zm440 0h160v-160H620v160ZM180-180h160v-160H180v160Zm440 0h160v-160H620v160Z\"/>\n",
              "  </svg>\n",
              "    </button>\n",
              "\n",
              "  <style>\n",
              "    .colab-df-container {\n",
              "      display:flex;\n",
              "      gap: 12px;\n",
              "    }\n",
              "\n",
              "    .colab-df-convert {\n",
              "      background-color: #E8F0FE;\n",
              "      border: none;\n",
              "      border-radius: 50%;\n",
              "      cursor: pointer;\n",
              "      display: none;\n",
              "      fill: #1967D2;\n",
              "      height: 32px;\n",
              "      padding: 0 0 0 0;\n",
              "      width: 32px;\n",
              "    }\n",
              "\n",
              "    .colab-df-convert:hover {\n",
              "      background-color: #E2EBFA;\n",
              "      box-shadow: 0px 1px 2px rgba(60, 64, 67, 0.3), 0px 1px 3px 1px rgba(60, 64, 67, 0.15);\n",
              "      fill: #174EA6;\n",
              "    }\n",
              "\n",
              "    .colab-df-buttons div {\n",
              "      margin-bottom: 4px;\n",
              "    }\n",
              "\n",
              "    [theme=dark] .colab-df-convert {\n",
              "      background-color: #3B4455;\n",
              "      fill: #D2E3FC;\n",
              "    }\n",
              "\n",
              "    [theme=dark] .colab-df-convert:hover {\n",
              "      background-color: #434B5C;\n",
              "      box-shadow: 0px 1px 3px 1px rgba(0, 0, 0, 0.15);\n",
              "      filter: drop-shadow(0px 1px 2px rgba(0, 0, 0, 0.3));\n",
              "      fill: #FFFFFF;\n",
              "    }\n",
              "  </style>\n",
              "\n",
              "    <script>\n",
              "      const buttonEl =\n",
              "        document.querySelector('#df-47d8ddd5-a190-4091-8045-3621092cffe8 button.colab-df-convert');\n",
              "      buttonEl.style.display =\n",
              "        google.colab.kernel.accessAllowed ? 'block' : 'none';\n",
              "\n",
              "      async function convertToInteractive(key) {\n",
              "        const element = document.querySelector('#df-47d8ddd5-a190-4091-8045-3621092cffe8');\n",
              "        const dataTable =\n",
              "          await google.colab.kernel.invokeFunction('convertToInteractive',\n",
              "                                                    [key], {});\n",
              "        if (!dataTable) return;\n",
              "\n",
              "        const docLinkHtml = 'Like what you see? Visit the ' +\n",
              "          '<a target=\"_blank\" href=https://colab.research.google.com/notebooks/data_table.ipynb>data table notebook</a>'\n",
              "          + ' to learn more about interactive tables.';\n",
              "        element.innerHTML = '';\n",
              "        dataTable['output_type'] = 'display_data';\n",
              "        await google.colab.output.renderOutput(dataTable, element);\n",
              "        const docLink = document.createElement('div');\n",
              "        docLink.innerHTML = docLinkHtml;\n",
              "        element.appendChild(docLink);\n",
              "      }\n",
              "    </script>\n",
              "  </div>\n",
              "\n",
              "\n",
              "<div id=\"df-39034755-2395-4360-93e8-e77dce95136d\">\n",
              "  <button class=\"colab-df-quickchart\" onclick=\"quickchart('df-39034755-2395-4360-93e8-e77dce95136d')\"\n",
              "            title=\"Suggest charts\"\n",
              "            style=\"display:none;\">\n",
              "\n",
              "<svg xmlns=\"http://www.w3.org/2000/svg\" height=\"24px\"viewBox=\"0 0 24 24\"\n",
              "     width=\"24px\">\n",
              "    <g>\n",
              "        <path d=\"M19 3H5c-1.1 0-2 .9-2 2v14c0 1.1.9 2 2 2h14c1.1 0 2-.9 2-2V5c0-1.1-.9-2-2-2zM9 17H7v-7h2v7zm4 0h-2V7h2v10zm4 0h-2v-4h2v4z\"/>\n",
              "    </g>\n",
              "</svg>\n",
              "  </button>\n",
              "\n",
              "<style>\n",
              "  .colab-df-quickchart {\n",
              "      --bg-color: #E8F0FE;\n",
              "      --fill-color: #1967D2;\n",
              "      --hover-bg-color: #E2EBFA;\n",
              "      --hover-fill-color: #174EA6;\n",
              "      --disabled-fill-color: #AAA;\n",
              "      --disabled-bg-color: #DDD;\n",
              "  }\n",
              "\n",
              "  [theme=dark] .colab-df-quickchart {\n",
              "      --bg-color: #3B4455;\n",
              "      --fill-color: #D2E3FC;\n",
              "      --hover-bg-color: #434B5C;\n",
              "      --hover-fill-color: #FFFFFF;\n",
              "      --disabled-bg-color: #3B4455;\n",
              "      --disabled-fill-color: #666;\n",
              "  }\n",
              "\n",
              "  .colab-df-quickchart {\n",
              "    background-color: var(--bg-color);\n",
              "    border: none;\n",
              "    border-radius: 50%;\n",
              "    cursor: pointer;\n",
              "    display: none;\n",
              "    fill: var(--fill-color);\n",
              "    height: 32px;\n",
              "    padding: 0;\n",
              "    width: 32px;\n",
              "  }\n",
              "\n",
              "  .colab-df-quickchart:hover {\n",
              "    background-color: var(--hover-bg-color);\n",
              "    box-shadow: 0 1px 2px rgba(60, 64, 67, 0.3), 0 1px 3px 1px rgba(60, 64, 67, 0.15);\n",
              "    fill: var(--button-hover-fill-color);\n",
              "  }\n",
              "\n",
              "  .colab-df-quickchart-complete:disabled,\n",
              "  .colab-df-quickchart-complete:disabled:hover {\n",
              "    background-color: var(--disabled-bg-color);\n",
              "    fill: var(--disabled-fill-color);\n",
              "    box-shadow: none;\n",
              "  }\n",
              "\n",
              "  .colab-df-spinner {\n",
              "    border: 2px solid var(--fill-color);\n",
              "    border-color: transparent;\n",
              "    border-bottom-color: var(--fill-color);\n",
              "    animation:\n",
              "      spin 1s steps(1) infinite;\n",
              "  }\n",
              "\n",
              "  @keyframes spin {\n",
              "    0% {\n",
              "      border-color: transparent;\n",
              "      border-bottom-color: var(--fill-color);\n",
              "      border-left-color: var(--fill-color);\n",
              "    }\n",
              "    20% {\n",
              "      border-color: transparent;\n",
              "      border-left-color: var(--fill-color);\n",
              "      border-top-color: var(--fill-color);\n",
              "    }\n",
              "    30% {\n",
              "      border-color: transparent;\n",
              "      border-left-color: var(--fill-color);\n",
              "      border-top-color: var(--fill-color);\n",
              "      border-right-color: var(--fill-color);\n",
              "    }\n",
              "    40% {\n",
              "      border-color: transparent;\n",
              "      border-right-color: var(--fill-color);\n",
              "      border-top-color: var(--fill-color);\n",
              "    }\n",
              "    60% {\n",
              "      border-color: transparent;\n",
              "      border-right-color: var(--fill-color);\n",
              "    }\n",
              "    80% {\n",
              "      border-color: transparent;\n",
              "      border-right-color: var(--fill-color);\n",
              "      border-bottom-color: var(--fill-color);\n",
              "    }\n",
              "    90% {\n",
              "      border-color: transparent;\n",
              "      border-bottom-color: var(--fill-color);\n",
              "    }\n",
              "  }\n",
              "</style>\n",
              "\n",
              "  <script>\n",
              "    async function quickchart(key) {\n",
              "      const quickchartButtonEl =\n",
              "        document.querySelector('#' + key + ' button');\n",
              "      quickchartButtonEl.disabled = true;  // To prevent multiple clicks.\n",
              "      quickchartButtonEl.classList.add('colab-df-spinner');\n",
              "      try {\n",
              "        const charts = await google.colab.kernel.invokeFunction(\n",
              "            'suggestCharts', [key], {});\n",
              "      } catch (error) {\n",
              "        console.error('Error during call to suggestCharts:', error);\n",
              "      }\n",
              "      quickchartButtonEl.classList.remove('colab-df-spinner');\n",
              "      quickchartButtonEl.classList.add('colab-df-quickchart-complete');\n",
              "    }\n",
              "    (() => {\n",
              "      let quickchartButtonEl =\n",
              "        document.querySelector('#df-39034755-2395-4360-93e8-e77dce95136d button');\n",
              "      quickchartButtonEl.style.display =\n",
              "        google.colab.kernel.accessAllowed ? 'block' : 'none';\n",
              "    })();\n",
              "  </script>\n",
              "</div>\n",
              "\n",
              "    </div>\n",
              "  </div>\n"
            ]
          },
          "metadata": {},
          "execution_count": 5
        }
      ],
      "source": [
        "df.describe()"
      ]
    },
    {
      "cell_type": "code",
      "execution_count": null,
      "metadata": {
        "colab": {
          "base_uri": "https://localhost:8080/",
          "height": 1000
        },
        "id": "6iqS3yYet6fQ",
        "outputId": "b373fa41-fcab-440a-daeb-2f417b83c3f7"
      },
      "outputs": [
        {
          "output_type": "execute_result",
          "data": {
            "text/plain": [
              "                                               content\n",
              "601  \\n           　かぐや様は好きだけど本作は未読でした。\\n　試し読みしたらどハマ...\n",
              "461  \\n           　かぐや様は好きだけど本作は未読でした。\\n　試し読みしたらどハマ...\n",
              "559  \\n           おもしろい！かわいい！\\nかわいくて、ハマってしまいました！\\n読...\n",
              "373  \\n           おもしろい！かわいい！\\nかわいくて、ハマってしまいました！\\n読...\n",
              "337  \\n           おもしろい！毎話楽しみで仕方ない笑　死んじゃう展開には驚いたけどそ...\n",
              "334  \\n           おもしろい！毎話楽しみで仕方ない笑　死んじゃう展開には驚いたけどそ...\n",
              "336  \\n           まだ無料分のみですが、転生モノでこんなに面白い物があったんだー！と...\n",
              "333  \\n           まだ無料分のみですが、転生モノでこんなに面白い物があったんだー！と...\n",
              "335  \\n           アイドルの話かと思って読んでなかったんですが、アニメ化されるとのこ...\n",
              "332  \\n           アイドルの話かと思って読んでなかったんですが、アニメ化されるとのこ...\n",
              "544  \\n           アイドル系のキャピった話かと思ったら母親を殺された前世の記憶がある...\n",
              "549  \\n           アイドル系のキャピった話かと思ったら母親を殺された前世の記憶がある...\n",
              "543  \\n           アニメから入りました。アニメがおもしろすぎるから、原作も読むことに...\n",
              "548  \\n           アニメから入りました。アニメがおもしろすぎるから、原作も読むことに...\n",
              "584  \\n           アニメを観るべきか、原作の方を読むべきかで悩んだため評価3。内容は...\n",
              "454  \\n           アニメを観るべきか、原作の方を読むべきかで悩んだため評価3。内容は...\n",
              "542  \\n           アニメ版を観て、めちゃコミで原作探してみたらありましたー！\\nさっ...\n",
              "547  \\n           アニメ版を観て、めちゃコミで原作探してみたらありましたー！\\nさっ...\n",
              "577  \\n           単純にアイドルの話かと思いきや、全然途中からシリアスな話になり、ゾ...\n",
              "440  \\n           単純にアイドルの話かと思いきや、全然途中からシリアスな話になり、ゾ...\n",
              "377  \\n           友人に勧められていたけれど、好みのジャンルじゃなさそう、という理由...\n",
              "575  \\n           友人に勧められていたけれど、好みのジャンルじゃなさそう、という理由...\n",
              "540  \\n           推しの子ってタイトルから、推しだった子から産まれた子の推しになる話...\n",
              "545  \\n           推しの子ってタイトルから、推しだった子から産まれた子の推しになる話...\n",
              "439  \\n           最近凄い良く聞くなあ〜と思ったので読み始めました。人気の理由がわか...\n",
              "576  \\n           最近凄い良く聞くなあ〜と思ったので読み始めました。人気の理由がわか...\n",
              "357  \\n           華やかな世界だけどミステリアスで闇深くて。絵は本当に最高！ストーリ...\n",
              "317  \\n           華やかな世界だけどミステリアスで闇深くて。絵は本当に最高！ストーリ...\n",
              "541  \\n           闇鬱要素てんこ盛り！\\nキラキラした芸能界の深淵というか、ドロドロ...\n",
              "420  \\n           闇鬱要素てんこ盛り！\\nキラキラした芸能界の深淵というか、ドロドロ...\n",
              "546  \\n           闇鬱要素てんこ盛り！\\nキラキラした芸能界の深淵というか、ドロドロ..."
            ],
            "text/html": [
              "\n",
              "  <div id=\"df-9b77e103-d899-4857-a6f0-718d095dad7a\" class=\"colab-df-container\">\n",
              "    <div>\n",
              "<style scoped>\n",
              "    .dataframe tbody tr th:only-of-type {\n",
              "        vertical-align: middle;\n",
              "    }\n",
              "\n",
              "    .dataframe tbody tr th {\n",
              "        vertical-align: top;\n",
              "    }\n",
              "\n",
              "    .dataframe thead th {\n",
              "        text-align: right;\n",
              "    }\n",
              "</style>\n",
              "<table border=\"1\" class=\"dataframe\">\n",
              "  <thead>\n",
              "    <tr style=\"text-align: right;\">\n",
              "      <th></th>\n",
              "      <th>content</th>\n",
              "    </tr>\n",
              "  </thead>\n",
              "  <tbody>\n",
              "    <tr>\n",
              "      <th>601</th>\n",
              "      <td>\\n           　かぐや様は好きだけど本作は未読でした。\\n　試し読みしたらどハマ...</td>\n",
              "    </tr>\n",
              "    <tr>\n",
              "      <th>461</th>\n",
              "      <td>\\n           　かぐや様は好きだけど本作は未読でした。\\n　試し読みしたらどハマ...</td>\n",
              "    </tr>\n",
              "    <tr>\n",
              "      <th>559</th>\n",
              "      <td>\\n           おもしろい！かわいい！\\nかわいくて、ハマってしまいました！\\n読...</td>\n",
              "    </tr>\n",
              "    <tr>\n",
              "      <th>373</th>\n",
              "      <td>\\n           おもしろい！かわいい！\\nかわいくて、ハマってしまいました！\\n読...</td>\n",
              "    </tr>\n",
              "    <tr>\n",
              "      <th>337</th>\n",
              "      <td>\\n           おもしろい！毎話楽しみで仕方ない笑　死んじゃう展開には驚いたけどそ...</td>\n",
              "    </tr>\n",
              "    <tr>\n",
              "      <th>334</th>\n",
              "      <td>\\n           おもしろい！毎話楽しみで仕方ない笑　死んじゃう展開には驚いたけどそ...</td>\n",
              "    </tr>\n",
              "    <tr>\n",
              "      <th>336</th>\n",
              "      <td>\\n           まだ無料分のみですが、転生モノでこんなに面白い物があったんだー！と...</td>\n",
              "    </tr>\n",
              "    <tr>\n",
              "      <th>333</th>\n",
              "      <td>\\n           まだ無料分のみですが、転生モノでこんなに面白い物があったんだー！と...</td>\n",
              "    </tr>\n",
              "    <tr>\n",
              "      <th>335</th>\n",
              "      <td>\\n           アイドルの話かと思って読んでなかったんですが、アニメ化されるとのこ...</td>\n",
              "    </tr>\n",
              "    <tr>\n",
              "      <th>332</th>\n",
              "      <td>\\n           アイドルの話かと思って読んでなかったんですが、アニメ化されるとのこ...</td>\n",
              "    </tr>\n",
              "    <tr>\n",
              "      <th>544</th>\n",
              "      <td>\\n           アイドル系のキャピった話かと思ったら母親を殺された前世の記憶がある...</td>\n",
              "    </tr>\n",
              "    <tr>\n",
              "      <th>549</th>\n",
              "      <td>\\n           アイドル系のキャピった話かと思ったら母親を殺された前世の記憶がある...</td>\n",
              "    </tr>\n",
              "    <tr>\n",
              "      <th>543</th>\n",
              "      <td>\\n           アニメから入りました。アニメがおもしろすぎるから、原作も読むことに...</td>\n",
              "    </tr>\n",
              "    <tr>\n",
              "      <th>548</th>\n",
              "      <td>\\n           アニメから入りました。アニメがおもしろすぎるから、原作も読むことに...</td>\n",
              "    </tr>\n",
              "    <tr>\n",
              "      <th>584</th>\n",
              "      <td>\\n           アニメを観るべきか、原作の方を読むべきかで悩んだため評価3。内容は...</td>\n",
              "    </tr>\n",
              "    <tr>\n",
              "      <th>454</th>\n",
              "      <td>\\n           アニメを観るべきか、原作の方を読むべきかで悩んだため評価3。内容は...</td>\n",
              "    </tr>\n",
              "    <tr>\n",
              "      <th>542</th>\n",
              "      <td>\\n           アニメ版を観て、めちゃコミで原作探してみたらありましたー！\\nさっ...</td>\n",
              "    </tr>\n",
              "    <tr>\n",
              "      <th>547</th>\n",
              "      <td>\\n           アニメ版を観て、めちゃコミで原作探してみたらありましたー！\\nさっ...</td>\n",
              "    </tr>\n",
              "    <tr>\n",
              "      <th>577</th>\n",
              "      <td>\\n           単純にアイドルの話かと思いきや、全然途中からシリアスな話になり、ゾ...</td>\n",
              "    </tr>\n",
              "    <tr>\n",
              "      <th>440</th>\n",
              "      <td>\\n           単純にアイドルの話かと思いきや、全然途中からシリアスな話になり、ゾ...</td>\n",
              "    </tr>\n",
              "    <tr>\n",
              "      <th>377</th>\n",
              "      <td>\\n           友人に勧められていたけれど、好みのジャンルじゃなさそう、という理由...</td>\n",
              "    </tr>\n",
              "    <tr>\n",
              "      <th>575</th>\n",
              "      <td>\\n           友人に勧められていたけれど、好みのジャンルじゃなさそう、という理由...</td>\n",
              "    </tr>\n",
              "    <tr>\n",
              "      <th>540</th>\n",
              "      <td>\\n           推しの子ってタイトルから、推しだった子から産まれた子の推しになる話...</td>\n",
              "    </tr>\n",
              "    <tr>\n",
              "      <th>545</th>\n",
              "      <td>\\n           推しの子ってタイトルから、推しだった子から産まれた子の推しになる話...</td>\n",
              "    </tr>\n",
              "    <tr>\n",
              "      <th>439</th>\n",
              "      <td>\\n           最近凄い良く聞くなあ〜と思ったので読み始めました。人気の理由がわか...</td>\n",
              "    </tr>\n",
              "    <tr>\n",
              "      <th>576</th>\n",
              "      <td>\\n           最近凄い良く聞くなあ〜と思ったので読み始めました。人気の理由がわか...</td>\n",
              "    </tr>\n",
              "    <tr>\n",
              "      <th>357</th>\n",
              "      <td>\\n           華やかな世界だけどミステリアスで闇深くて。絵は本当に最高！ストーリ...</td>\n",
              "    </tr>\n",
              "    <tr>\n",
              "      <th>317</th>\n",
              "      <td>\\n           華やかな世界だけどミステリアスで闇深くて。絵は本当に最高！ストーリ...</td>\n",
              "    </tr>\n",
              "    <tr>\n",
              "      <th>541</th>\n",
              "      <td>\\n           闇鬱要素てんこ盛り！\\nキラキラした芸能界の深淵というか、ドロドロ...</td>\n",
              "    </tr>\n",
              "    <tr>\n",
              "      <th>420</th>\n",
              "      <td>\\n           闇鬱要素てんこ盛り！\\nキラキラした芸能界の深淵というか、ドロドロ...</td>\n",
              "    </tr>\n",
              "    <tr>\n",
              "      <th>546</th>\n",
              "      <td>\\n           闇鬱要素てんこ盛り！\\nキラキラした芸能界の深淵というか、ドロドロ...</td>\n",
              "    </tr>\n",
              "  </tbody>\n",
              "</table>\n",
              "</div>\n",
              "    <div class=\"colab-df-buttons\">\n",
              "\n",
              "  <div class=\"colab-df-container\">\n",
              "    <button class=\"colab-df-convert\" onclick=\"convertToInteractive('df-9b77e103-d899-4857-a6f0-718d095dad7a')\"\n",
              "            title=\"Convert this dataframe to an interactive table.\"\n",
              "            style=\"display:none;\">\n",
              "\n",
              "  <svg xmlns=\"http://www.w3.org/2000/svg\" height=\"24px\" viewBox=\"0 -960 960 960\">\n",
              "    <path d=\"M120-120v-720h720v720H120Zm60-500h600v-160H180v160Zm220 220h160v-160H400v160Zm0 220h160v-160H400v160ZM180-400h160v-160H180v160Zm440 0h160v-160H620v160ZM180-180h160v-160H180v160Zm440 0h160v-160H620v160Z\"/>\n",
              "  </svg>\n",
              "    </button>\n",
              "\n",
              "  <style>\n",
              "    .colab-df-container {\n",
              "      display:flex;\n",
              "      gap: 12px;\n",
              "    }\n",
              "\n",
              "    .colab-df-convert {\n",
              "      background-color: #E8F0FE;\n",
              "      border: none;\n",
              "      border-radius: 50%;\n",
              "      cursor: pointer;\n",
              "      display: none;\n",
              "      fill: #1967D2;\n",
              "      height: 32px;\n",
              "      padding: 0 0 0 0;\n",
              "      width: 32px;\n",
              "    }\n",
              "\n",
              "    .colab-df-convert:hover {\n",
              "      background-color: #E2EBFA;\n",
              "      box-shadow: 0px 1px 2px rgba(60, 64, 67, 0.3), 0px 1px 3px 1px rgba(60, 64, 67, 0.15);\n",
              "      fill: #174EA6;\n",
              "    }\n",
              "\n",
              "    .colab-df-buttons div {\n",
              "      margin-bottom: 4px;\n",
              "    }\n",
              "\n",
              "    [theme=dark] .colab-df-convert {\n",
              "      background-color: #3B4455;\n",
              "      fill: #D2E3FC;\n",
              "    }\n",
              "\n",
              "    [theme=dark] .colab-df-convert:hover {\n",
              "      background-color: #434B5C;\n",
              "      box-shadow: 0px 1px 3px 1px rgba(0, 0, 0, 0.15);\n",
              "      filter: drop-shadow(0px 1px 2px rgba(0, 0, 0, 0.3));\n",
              "      fill: #FFFFFF;\n",
              "    }\n",
              "  </style>\n",
              "\n",
              "    <script>\n",
              "      const buttonEl =\n",
              "        document.querySelector('#df-9b77e103-d899-4857-a6f0-718d095dad7a button.colab-df-convert');\n",
              "      buttonEl.style.display =\n",
              "        google.colab.kernel.accessAllowed ? 'block' : 'none';\n",
              "\n",
              "      async function convertToInteractive(key) {\n",
              "        const element = document.querySelector('#df-9b77e103-d899-4857-a6f0-718d095dad7a');\n",
              "        const dataTable =\n",
              "          await google.colab.kernel.invokeFunction('convertToInteractive',\n",
              "                                                    [key], {});\n",
              "        if (!dataTable) return;\n",
              "\n",
              "        const docLinkHtml = 'Like what you see? Visit the ' +\n",
              "          '<a target=\"_blank\" href=https://colab.research.google.com/notebooks/data_table.ipynb>data table notebook</a>'\n",
              "          + ' to learn more about interactive tables.';\n",
              "        element.innerHTML = '';\n",
              "        dataTable['output_type'] = 'display_data';\n",
              "        await google.colab.output.renderOutput(dataTable, element);\n",
              "        const docLink = document.createElement('div');\n",
              "        docLink.innerHTML = docLinkHtml;\n",
              "        element.appendChild(docLink);\n",
              "      }\n",
              "    </script>\n",
              "  </div>\n",
              "\n",
              "\n",
              "<div id=\"df-a758584a-e155-4758-a116-ff189a37ad3d\">\n",
              "  <button class=\"colab-df-quickchart\" onclick=\"quickchart('df-a758584a-e155-4758-a116-ff189a37ad3d')\"\n",
              "            title=\"Suggest charts\"\n",
              "            style=\"display:none;\">\n",
              "\n",
              "<svg xmlns=\"http://www.w3.org/2000/svg\" height=\"24px\"viewBox=\"0 0 24 24\"\n",
              "     width=\"24px\">\n",
              "    <g>\n",
              "        <path d=\"M19 3H5c-1.1 0-2 .9-2 2v14c0 1.1.9 2 2 2h14c1.1 0 2-.9 2-2V5c0-1.1-.9-2-2-2zM9 17H7v-7h2v7zm4 0h-2V7h2v10zm4 0h-2v-4h2v4z\"/>\n",
              "    </g>\n",
              "</svg>\n",
              "  </button>\n",
              "\n",
              "<style>\n",
              "  .colab-df-quickchart {\n",
              "      --bg-color: #E8F0FE;\n",
              "      --fill-color: #1967D2;\n",
              "      --hover-bg-color: #E2EBFA;\n",
              "      --hover-fill-color: #174EA6;\n",
              "      --disabled-fill-color: #AAA;\n",
              "      --disabled-bg-color: #DDD;\n",
              "  }\n",
              "\n",
              "  [theme=dark] .colab-df-quickchart {\n",
              "      --bg-color: #3B4455;\n",
              "      --fill-color: #D2E3FC;\n",
              "      --hover-bg-color: #434B5C;\n",
              "      --hover-fill-color: #FFFFFF;\n",
              "      --disabled-bg-color: #3B4455;\n",
              "      --disabled-fill-color: #666;\n",
              "  }\n",
              "\n",
              "  .colab-df-quickchart {\n",
              "    background-color: var(--bg-color);\n",
              "    border: none;\n",
              "    border-radius: 50%;\n",
              "    cursor: pointer;\n",
              "    display: none;\n",
              "    fill: var(--fill-color);\n",
              "    height: 32px;\n",
              "    padding: 0;\n",
              "    width: 32px;\n",
              "  }\n",
              "\n",
              "  .colab-df-quickchart:hover {\n",
              "    background-color: var(--hover-bg-color);\n",
              "    box-shadow: 0 1px 2px rgba(60, 64, 67, 0.3), 0 1px 3px 1px rgba(60, 64, 67, 0.15);\n",
              "    fill: var(--button-hover-fill-color);\n",
              "  }\n",
              "\n",
              "  .colab-df-quickchart-complete:disabled,\n",
              "  .colab-df-quickchart-complete:disabled:hover {\n",
              "    background-color: var(--disabled-bg-color);\n",
              "    fill: var(--disabled-fill-color);\n",
              "    box-shadow: none;\n",
              "  }\n",
              "\n",
              "  .colab-df-spinner {\n",
              "    border: 2px solid var(--fill-color);\n",
              "    border-color: transparent;\n",
              "    border-bottom-color: var(--fill-color);\n",
              "    animation:\n",
              "      spin 1s steps(1) infinite;\n",
              "  }\n",
              "\n",
              "  @keyframes spin {\n",
              "    0% {\n",
              "      border-color: transparent;\n",
              "      border-bottom-color: var(--fill-color);\n",
              "      border-left-color: var(--fill-color);\n",
              "    }\n",
              "    20% {\n",
              "      border-color: transparent;\n",
              "      border-left-color: var(--fill-color);\n",
              "      border-top-color: var(--fill-color);\n",
              "    }\n",
              "    30% {\n",
              "      border-color: transparent;\n",
              "      border-left-color: var(--fill-color);\n",
              "      border-top-color: var(--fill-color);\n",
              "      border-right-color: var(--fill-color);\n",
              "    }\n",
              "    40% {\n",
              "      border-color: transparent;\n",
              "      border-right-color: var(--fill-color);\n",
              "      border-top-color: var(--fill-color);\n",
              "    }\n",
              "    60% {\n",
              "      border-color: transparent;\n",
              "      border-right-color: var(--fill-color);\n",
              "    }\n",
              "    80% {\n",
              "      border-color: transparent;\n",
              "      border-right-color: var(--fill-color);\n",
              "      border-bottom-color: var(--fill-color);\n",
              "    }\n",
              "    90% {\n",
              "      border-color: transparent;\n",
              "      border-bottom-color: var(--fill-color);\n",
              "    }\n",
              "  }\n",
              "</style>\n",
              "\n",
              "  <script>\n",
              "    async function quickchart(key) {\n",
              "      const quickchartButtonEl =\n",
              "        document.querySelector('#' + key + ' button');\n",
              "      quickchartButtonEl.disabled = true;  // To prevent multiple clicks.\n",
              "      quickchartButtonEl.classList.add('colab-df-spinner');\n",
              "      try {\n",
              "        const charts = await google.colab.kernel.invokeFunction(\n",
              "            'suggestCharts', [key], {});\n",
              "      } catch (error) {\n",
              "        console.error('Error during call to suggestCharts:', error);\n",
              "      }\n",
              "      quickchartButtonEl.classList.remove('colab-df-spinner');\n",
              "      quickchartButtonEl.classList.add('colab-df-quickchart-complete');\n",
              "    }\n",
              "    (() => {\n",
              "      let quickchartButtonEl =\n",
              "        document.querySelector('#df-a758584a-e155-4758-a116-ff189a37ad3d button');\n",
              "      quickchartButtonEl.style.display =\n",
              "        google.colab.kernel.accessAllowed ? 'block' : 'none';\n",
              "    })();\n",
              "  </script>\n",
              "</div>\n",
              "\n",
              "    </div>\n",
              "  </div>\n"
            ]
          },
          "metadata": {},
          "execution_count": 6
        }
      ],
      "source": [
        "# 重複値を確認\n",
        "\n",
        "content = df[\"content\"]\n",
        "df[content.isin(content[content.duplicated()])].sort_values(\"content\")\n"
      ]
    },
    {
      "cell_type": "code",
      "execution_count": null,
      "metadata": {
        "colab": {
          "base_uri": "https://localhost:8080/"
        },
        "id": "1MiUGc1RuOYe",
        "outputId": "4b228cc3-269a-4e06-ebc2-a1ef9c9e6a14"
      },
      "outputs": [
        {
          "output_type": "stream",
          "name": "stdout",
          "text": [
            "687\n"
          ]
        }
      ],
      "source": [
        "#重複値の削除\n",
        "df = df.drop_duplicates(subset=\"content\")\n",
        "print(len(df))"
      ]
    },
    {
      "cell_type": "markdown",
      "metadata": {
        "id": "YwmkPN2rhSH-"
      },
      "source": [
        "## 正規化\n",
        "\n",
        "*   NFKCはNF1よりも多くの文字を正規化する\n",
        "*   NF1ではテキストの文字が合字であっても正規化されない\n",
        "*   Seriesのままで正規化したかったのでpandasメソッドを使う\n",
        "\n"
      ]
    },
    {
      "cell_type": "code",
      "execution_count": null,
      "metadata": {
        "id": "ElKO7kMlhm34"
      },
      "outputs": [],
      "source": [
        "# 正規化に使うライブラリー\n",
        "import unicodedata"
      ]
    },
    {
      "cell_type": "code",
      "execution_count": null,
      "metadata": {
        "colab": {
          "base_uri": "https://localhost:8080/"
        },
        "id": "g7ZN3rvPsvZ-",
        "outputId": "07bf98a8-68f7-4fde-accd-af1beb753235"
      },
      "outputs": [
        {
          "output_type": "stream",
          "name": "stdout",
          "text": [
            "0      \\n           まさか、号泣するとは思わず、自分でも驚いています。\\n漫画大賞ノミ...\n",
            "1      最初は絵があまり好みでなく、また「好きなアイドルの子どもとして転生して、アイドル(母)とキャ...\n",
            "2      アニメ見て原作読みたくなり来ました。\\nアニメは原作を丁寧にしている分、わかりやすいし、原作...\n",
            "3      __ _ _ _ _ なかなか素晴らしい作品ですね。知り合いに勧められて読み始めましたが、こ...\n",
            "4      __ _ _ _ _ この作品のことはジャンプ+を通して知っていましたが、少年誌にありがちな...\n",
            "                             ...                        \n",
            "698    予想を裏切るストーリー展開の連続でとても面白いです。舞台が芸能界なところも非現実感を楽しめま...\n",
            "699    最初は、目の中がキラキラしてる感じとかちょっと苦手だと思っていたのですが、内容がとても面白く...\n",
            "700    紙書籍で5巻まで読みました。広告で良く見る作品なので、その印象から最初は転生モノのバブみ&オ...\n",
            "701    普通の日常生活では味わえない物語を、登場人物達の場面に応じた喜怒哀楽を何の違和感もなく楽しめる。 \n",
            "702    絵が綺麗で読みやすいです。どのエピソードも面白いのですが、特に天才漫画家と脚本家の話がとても...\n",
            "Name: content, Length: 687, dtype: object\n"
          ]
        }
      ],
      "source": [
        "series = df[\"content\"]\n",
        "print(series.str.normalize(\"NFKC\"))"
      ]
    },
    {
      "cell_type": "code",
      "execution_count": null,
      "metadata": {
        "colab": {
          "base_uri": "https://localhost:8080/"
        },
        "id": "ehPGO5sqabml",
        "outputId": "8f638b93-b1e1-482d-951a-f5158dad7949"
      },
      "outputs": [
        {
          "output_type": "execute_result",
          "data": {
            "text/plain": [
              "687"
            ]
          },
          "metadata": {},
          "execution_count": 10
        }
      ],
      "source": [
        "len(df)"
      ]
    },
    {
      "cell_type": "markdown",
      "metadata": {
        "id": "jyaV86DdmNfJ"
      },
      "source": [
        "# 表記統一\n",
        "\n",
        "\n"
      ]
    },
    {
      "cell_type": "code",
      "execution_count": null,
      "metadata": {
        "id": "BKcN65nhnFYu"
      },
      "outputs": [],
      "source": [
        "def unify_notation(sentence):\n",
        "  sentence = \\\n",
        "    sentence \\\n",
        "    .replace('転生もの', '転生モノ') \\\n",
        "    .replace('生まれ', '産まれ') \\\n",
        "    .replace('うまれ', '産まれ') \\\n",
        "    .replace('よん', '読').replace('よみ', '読') .replace('読み', '読').replace('読ん', '読') \\\n",
        "    .replace('はまって', 'ハマって') \\\n",
        "    .replace('マンガ', '漫画') \\\n",
        "    .replace('おもしろ', '面白') \\\n",
        "    .replace('かわいい', '可愛い') \\\n",
        "    .replace('\\n','') \\\n",
        "    .replace(' ','') \\\n",
        "    .replace('_', '') \\\n",
        "    .replace('子ども', '子供') \\\n",
        "    .replace('ヨアソビ', 'YOASOBI').replace('yoasobi', 'YOASOBI') \\\n",
        "    .replace('わくわく', 'ワクワク') \\\n",
        "    .replace('有馬', 'ArimaKana').replace('カナ', 'ArimaKana') \\\n",
        "    .replace('あい', 'Ai')\\\n",
        "    .replace('ゴロー', 'Gorou') \\\n",
        "    .replace('アクア', 'Aqua') \\\n",
        "    .replace('推しの子', 'oshinoko') #neologdにも”推しの子”は登録されてないのでローマ字表記に変える\n",
        "\n",
        "  return sentence"
      ]
    },
    {
      "cell_type": "code",
      "execution_count": null,
      "metadata": {
        "colab": {
          "base_uri": "https://localhost:8080/"
        },
        "id": "l9vTmd3SnFOE",
        "outputId": "1c8712b9-9944-44cc-f811-642a53867ebe"
      },
      "outputs": [
        {
          "output_type": "execute_result",
          "data": {
            "text/plain": [
              "0      まさか、号泣するとは思わず、自分でも驚いています。漫画大賞ノミネートされていたので読ました。...\n",
              "1      最初は絵があまり好みでなく、また「好きなアイドルの子供として転生して、アイドル（母）とキャッ...\n",
              "2      アニメ見て原作読たくなり来ました。アニメは原作を丁寧にしている分、わかりやすいし、原作は原作...\n",
              "3      なかなか素晴らしい作品ですね。知り合いに勧められて読始めましたが、こんなにしっかり調査して下...\n",
              "4      この作品のことはジャンプ＋を通して知っていましたが、少年誌にありがちなアイドルとファンの青春...\n",
              "                             ...                        \n",
              "698    予想を裏切るストーリー展開の連続でとても面白いです。舞台が芸能界なところも非現実感を楽しめま...\n",
              "699    最初は、目の中がキラキラしてる感じとかちょっと苦手だと思っていたのですが、内容がとても面白く...\n",
              "700    紙書籍で5巻まで読ました。広告で良く見る作品なので、その印象から最初は転生モノのバブみ&オギ...\n",
              "701    普通の日常生活では味わえない物語を、登場人物達の場面に応じた喜怒哀楽を何の違和感もなく楽しめる。　\n",
              "702    絵が綺麗で読やすいです。どのエピソードも面白いのですが、特に天才漫画家と脚本家の話がとても興...\n",
              "Name: content, Length: 687, dtype: object"
            ]
          },
          "metadata": {},
          "execution_count": 12
        }
      ],
      "source": [
        "#dfのcontent の各行に unify_notation() 関数を適用し、正しい表記に置換したテキストを返す\n",
        "df['content'] = df['content'].apply(unify_notation)\n",
        "df['content']"
      ]
    },
    {
      "cell_type": "markdown",
      "metadata": {
        "id": "FQ4b0H4vJsDR"
      },
      "source": [
        "# 形態素解析\n",
        "\n"
      ]
    },
    {
      "cell_type": "markdown",
      "metadata": {
        "id": "fj89t4l6050-"
      },
      "source": [
        "## **MeCab動作確認**\n",
        "\n",
        "* 固有名詞の解析に強い辞書、mecab-ipadic-neologdを用いてみる。この辞書は毎週月曜日に新語を更新しているらしい。"
      ]
    },
    {
      "cell_type": "code",
      "execution_count": null,
      "metadata": {
        "colab": {
          "base_uri": "https://localhost:8080/"
        },
        "id": "7RnBCfBp9ggI",
        "outputId": "0cf68a9f-10cb-4e64-97b8-a12471b77cc8"
      },
      "outputs": [
        {
          "output_type": "stream",
          "name": "stdout",
          "text": [
            "Reading package lists... Done\n",
            "Building dependency tree... Done\n",
            "Reading state information... Done\n",
            "The following additional packages will be installed:\n",
            "  aptitude-common libcwidget4 libsigc++-2.0-0v5 libxapian30\n",
            "Suggested packages:\n",
            "  apt-xapian-index aptitude-doc-en | aptitude-doc debtags tasksel libcwidget-dev xapian-tools\n",
            "The following NEW packages will be installed:\n",
            "  aptitude aptitude-common libcwidget4 libsigc++-2.0-0v5 libxapian30\n",
            "0 upgraded, 5 newly installed, 0 to remove and 24 not upgraded.\n",
            "Need to get 3,838 kB of archives.\n",
            "After this operation, 17.3 MB of additional disk space will be used.\n",
            "Get:1 http://archive.ubuntu.com/ubuntu jammy/universe amd64 aptitude-common all 0.8.13-3ubuntu1 [1,719 kB]\n",
            "Get:2 http://archive.ubuntu.com/ubuntu jammy/main amd64 libsigc++-2.0-0v5 amd64 2.10.4-2ubuntu3 [12.1 kB]\n",
            "Get:3 http://archive.ubuntu.com/ubuntu jammy/universe amd64 libcwidget4 amd64 0.5.18-5build1 [306 kB]\n",
            "Get:4 http://archive.ubuntu.com/ubuntu jammy/universe amd64 libxapian30 amd64 1.4.18-4 [701 kB]\n",
            "Get:5 http://archive.ubuntu.com/ubuntu jammy/universe amd64 aptitude amd64 0.8.13-3ubuntu1 [1,100 kB]\n",
            "Fetched 3,838 kB in 1s (2,748 kB/s)\n",
            "Selecting previously unselected package aptitude-common.\n",
            "(Reading database ... 121658 files and directories currently installed.)\n",
            "Preparing to unpack .../aptitude-common_0.8.13-3ubuntu1_all.deb ...\n",
            "Unpacking aptitude-common (0.8.13-3ubuntu1) ...\n",
            "Selecting previously unselected package libsigc++-2.0-0v5:amd64.\n",
            "Preparing to unpack .../libsigc++-2.0-0v5_2.10.4-2ubuntu3_amd64.deb ...\n",
            "Unpacking libsigc++-2.0-0v5:amd64 (2.10.4-2ubuntu3) ...\n",
            "Selecting previously unselected package libcwidget4:amd64.\n",
            "Preparing to unpack .../libcwidget4_0.5.18-5build1_amd64.deb ...\n",
            "Unpacking libcwidget4:amd64 (0.5.18-5build1) ...\n",
            "Selecting previously unselected package libxapian30:amd64.\n",
            "Preparing to unpack .../libxapian30_1.4.18-4_amd64.deb ...\n",
            "Unpacking libxapian30:amd64 (1.4.18-4) ...\n",
            "Selecting previously unselected package aptitude.\n",
            "Preparing to unpack .../aptitude_0.8.13-3ubuntu1_amd64.deb ...\n",
            "Unpacking aptitude (0.8.13-3ubuntu1) ...\n",
            "Setting up libxapian30:amd64 (1.4.18-4) ...\n",
            "Setting up libsigc++-2.0-0v5:amd64 (2.10.4-2ubuntu3) ...\n",
            "Setting up aptitude-common (0.8.13-3ubuntu1) ...\n",
            "Setting up libcwidget4:amd64 (0.5.18-5build1) ...\n",
            "Setting up aptitude (0.8.13-3ubuntu1) ...\n",
            "update-alternatives: using /usr/bin/aptitude-curses to provide /usr/bin/aptitude (aptitude) in auto mode\n",
            "Processing triggers for man-db (2.10.2-1) ...\n",
            "Processing triggers for libc-bin (2.35-0ubuntu3.4) ...\n",
            "/sbin/ldconfig.real: /usr/local/lib/libtbbbind.so.3 is not a symbolic link\n",
            "\n",
            "/sbin/ldconfig.real: /usr/local/lib/libtbbbind_2_5.so.3 is not a symbolic link\n",
            "\n",
            "/sbin/ldconfig.real: /usr/local/lib/libtbbbind_2_0.so.3 is not a symbolic link\n",
            "\n",
            "/sbin/ldconfig.real: /usr/local/lib/libtbbmalloc.so.2 is not a symbolic link\n",
            "\n",
            "/sbin/ldconfig.real: /usr/local/lib/libtbbmalloc_proxy.so.2 is not a symbolic link\n",
            "\n",
            "/sbin/ldconfig.real: /usr/local/lib/libtbb.so.12 is not a symbolic link\n",
            "\n",
            "git is already installed at the requested version (1:2.34.1-1ubuntu1.10)\n",
            "make is already installed at the requested version (4.3-4.1build1)\n",
            "curl is already installed at the requested version (7.81.0-1ubuntu1.15)\n",
            "xz-utils is already installed at the requested version (5.2.5-2ubuntu1)\n",
            "file is already installed at the requested version (1:5.41-3ubuntu0.1)\n",
            "git is already installed at the requested version (1:2.34.1-1ubuntu1.10)\n",
            "make is already installed at the requested version (4.3-4.1build1)\n",
            "curl is already installed at the requested version (7.81.0-1ubuntu1.15)\n",
            "xz-utils is already installed at the requested version (5.2.5-2ubuntu1)\n",
            "file is already installed at the requested version (1:5.41-3ubuntu0.1)\n",
            "The following NEW packages will be installed:\n",
            "  libmecab-dev libmecab2{a} mecab mecab-ipadic{a} mecab-ipadic-utf8 mecab-jumandic{a} mecab-jumandic-utf8{a} mecab-utils{a} \n",
            "0 packages upgraded, 8 newly installed, 0 to remove and 24 not upgraded.\n",
            "Need to get 23.5 MB of archives. After unpacking 275 MB will be used.\n",
            "Get: 1 http://archive.ubuntu.com/ubuntu jammy/main amd64 libmecab2 amd64 0.996-14build9 [199 kB]\n",
            "Get: 2 http://archive.ubuntu.com/ubuntu jammy/main amd64 libmecab-dev amd64 0.996-14build9 [306 kB]\n",
            "Get: 3 http://archive.ubuntu.com/ubuntu jammy/main amd64 mecab-utils amd64 0.996-14build9 [4,850 B]\n",
            "Get: 4 http://archive.ubuntu.com/ubuntu jammy/universe amd64 mecab-jumandic-utf8 all 7.0-20130310-7 [16.2 MB]\n",
            "Get: 5 http://archive.ubuntu.com/ubuntu jammy/universe amd64 mecab-jumandic all 7.0-20130310-7 [2,204 B]\n",
            "Get: 6 http://archive.ubuntu.com/ubuntu jammy/main amd64 mecab-ipadic all 2.7.0-20070801+main-3 [6,718 kB]\n",
            "Get: 7 http://archive.ubuntu.com/ubuntu jammy/universe amd64 mecab amd64 0.996-14build9 [136 kB]\n",
            "Get: 8 http://archive.ubuntu.com/ubuntu jammy/main amd64 mecab-ipadic-utf8 all 2.7.0-20070801+main-3 [4,384 B]\n",
            "Fetched 23.5 MB in 3s (6,996 kB/s)\n",
            "Selecting previously unselected package libmecab2:amd64.\n",
            "(Reading database ... 121883 files and directories currently installed.)\n",
            "Preparing to unpack .../0-libmecab2_0.996-14build9_amd64.deb ...\n",
            "Unpacking libmecab2:amd64 (0.996-14build9) ...\n",
            "Selecting previously unselected package libmecab-dev.\n",
            "Preparing to unpack .../1-libmecab-dev_0.996-14build9_amd64.deb ...\n",
            "Unpacking libmecab-dev (0.996-14build9) ...\n",
            "Selecting previously unselected package mecab-utils.\n",
            "Preparing to unpack .../2-mecab-utils_0.996-14build9_amd64.deb ...\n",
            "Unpacking mecab-utils (0.996-14build9) ...\n",
            "Selecting previously unselected package mecab-jumandic-utf8.\n",
            "Preparing to unpack .../3-mecab-jumandic-utf8_7.0-20130310-7_all.deb ...\n",
            "Unpacking mecab-jumandic-utf8 (7.0-20130310-7) ...\n",
            "Selecting previously unselected package mecab-jumandic.\n",
            "Preparing to unpack .../4-mecab-jumandic_7.0-20130310-7_all.deb ...\n",
            "Unpacking mecab-jumandic (7.0-20130310-7) ...\n",
            "Selecting previously unselected package mecab-ipadic.\n",
            "Preparing to unpack .../5-mecab-ipadic_2.7.0-20070801+main-3_all.deb ...\n",
            "Unpacking mecab-ipadic (2.7.0-20070801+main-3) ...\n",
            "Selecting previously unselected package mecab.\n",
            "Preparing to unpack .../6-mecab_0.996-14build9_amd64.deb ...\n",
            "Unpacking mecab (0.996-14build9) ...\n",
            "Selecting previously unselected package mecab-ipadic-utf8.\n",
            "Preparing to unpack .../7-mecab-ipadic-utf8_2.7.0-20070801+main-3_all.deb ...\n",
            "Unpacking mecab-ipadic-utf8 (2.7.0-20070801+main-3) ...\n",
            "Setting up libmecab2:amd64 (0.996-14build9) ...\n",
            "Setting up libmecab-dev (0.996-14build9) ...\n",
            "Setting up mecab-utils (0.996-14build9) ...\n",
            "Setting up mecab-ipadic (2.7.0-20070801+main-3) ...\n",
            "Compiling IPA dictionary for Mecab.  This takes long time...\n",
            "reading /usr/share/mecab/dic/ipadic/unk.def ... 40\n",
            "emitting double-array: 100% |###########################################| \n",
            "/usr/share/mecab/dic/ipadic/model.def is not found. skipped.\n",
            "reading /usr/share/mecab/dic/ipadic/Postp.csv ... 146\n",
            "reading /usr/share/mecab/dic/ipadic/Postp-col.csv ... 91\n",
            "reading /usr/share/mecab/dic/ipadic/Noun.number.csv ... 42\n",
            "reading /usr/share/mecab/dic/ipadic/Prefix.csv ... 221\n",
            "reading /usr/share/mecab/dic/ipadic/Noun.demonst.csv ... 120\n",
            "reading /usr/share/mecab/dic/ipadic/Verb.csv ... 130750\n",
            "reading /usr/share/mecab/dic/ipadic/Noun.name.csv ... 34202\n",
            "reading /usr/share/mecab/dic/ipadic/Filler.csv ... 19\n",
            "reading /usr/share/mecab/dic/ipadic/Noun.proper.csv ... 27328\n",
            "reading /usr/share/mecab/dic/ipadic/Noun.verbal.csv ... 12146\n",
            "reading /usr/share/mecab/dic/ipadic/Noun.others.csv ... 151\n",
            "reading /usr/share/mecab/dic/ipadic/Noun.adjv.csv ... 3328\n",
            "reading /usr/share/mecab/dic/ipadic/Noun.place.csv ... 72999\n",
            "reading /usr/share/mecab/dic/ipadic/Noun.org.csv ... 16668\n",
            "reading /usr/share/mecab/dic/ipadic/Adnominal.csv ... 135\n",
            "reading /usr/share/mecab/dic/ipadic/Auxil.csv ... 199\n",
            "reading /usr/share/mecab/dic/ipadic/Interjection.csv ... 252\n",
            "reading /usr/share/mecab/dic/ipadic/Noun.adverbal.csv ... 795\n",
            "reading /usr/share/mecab/dic/ipadic/Adj.csv ... 27210\n",
            "reading /usr/share/mecab/dic/ipadic/Conjunction.csv ... 171\n",
            "reading /usr/share/mecab/dic/ipadic/Noun.nai.csv ... 42\n",
            "reading /usr/share/mecab/dic/ipadic/Symbol.csv ... 208\n",
            "reading /usr/share/mecab/dic/ipadic/Suffix.csv ... 1393\n",
            "reading /usr/share/mecab/dic/ipadic/Others.csv ... 2\n",
            "reading /usr/share/mecab/dic/ipadic/Adverb.csv ... 3032\n",
            "reading /usr/share/mecab/dic/ipadic/Noun.csv ... 60477\n",
            "emitting double-array: 100% |###########################################| \n",
            "reading /usr/share/mecab/dic/ipadic/matrix.def ... 1316x1316\n",
            "emitting matrix      : 100% |###########################################| \n",
            "\n",
            "done!\n",
            "update-alternatives: using /var/lib/mecab/dic/ipadic to provide /var/lib/mecab/dic/debian (mecab-dictionary) in auto mode\n",
            "Setting up mecab (0.996-14build9) ...\n",
            "Compiling IPA dictionary for Mecab.  This takes long time...\n",
            "reading /usr/share/mecab/dic/ipadic/unk.def ... 40\n",
            "emitting double-array: 100% |###########################################| \n",
            "/usr/share/mecab/dic/ipadic/model.def is not found. skipped.\n",
            "reading /usr/share/mecab/dic/ipadic/Postp.csv ... 146\n",
            "reading /usr/share/mecab/dic/ipadic/Postp-col.csv ... 91\n",
            "reading /usr/share/mecab/dic/ipadic/Noun.number.csv ... 42\n",
            "reading /usr/share/mecab/dic/ipadic/Prefix.csv ... 221\n",
            "reading /usr/share/mecab/dic/ipadic/Noun.demonst.csv ... 120\n",
            "reading /usr/share/mecab/dic/ipadic/Verb.csv ... 130750\n",
            "reading /usr/share/mecab/dic/ipadic/Noun.name.csv ... 34202\n",
            "reading /usr/share/mecab/dic/ipadic/Filler.csv ... 19\n",
            "reading /usr/share/mecab/dic/ipadic/Noun.proper.csv ... 27328\n",
            "reading /usr/share/mecab/dic/ipadic/Noun.verbal.csv ... 12146\n",
            "reading /usr/share/mecab/dic/ipadic/Noun.others.csv ... 151\n",
            "reading /usr/share/mecab/dic/ipadic/Noun.adjv.csv ... 3328\n",
            "reading /usr/share/mecab/dic/ipadic/Noun.place.csv ... 72999\n",
            "reading /usr/share/mecab/dic/ipadic/Noun.org.csv ... 16668\n",
            "reading /usr/share/mecab/dic/ipadic/Adnominal.csv ... 135\n",
            "reading /usr/share/mecab/dic/ipadic/Auxil.csv ... 199\n",
            "reading /usr/share/mecab/dic/ipadic/Interjection.csv ... 252\n",
            "reading /usr/share/mecab/dic/ipadic/Noun.adverbal.csv ... 795\n",
            "reading /usr/share/mecab/dic/ipadic/Adj.csv ... 27210\n",
            "reading /usr/share/mecab/dic/ipadic/Conjunction.csv ... 171\n",
            "reading /usr/share/mecab/dic/ipadic/Noun.nai.csv ... 42\n",
            "reading /usr/share/mecab/dic/ipadic/Symbol.csv ... 208\n",
            "reading /usr/share/mecab/dic/ipadic/Suffix.csv ... 1393\n",
            "reading /usr/share/mecab/dic/ipadic/Others.csv ... 2\n",
            "reading /usr/share/mecab/dic/ipadic/Adverb.csv ... 3032\n",
            "reading /usr/share/mecab/dic/ipadic/Noun.csv ... 60477\n",
            "emitting double-array: 100% |###########################################| \n",
            "reading /usr/share/mecab/dic/ipadic/matrix.def ... 1316x1316\n",
            "emitting matrix      : 100% |###########################################| \n",
            "\n",
            "done!\n",
            "Setting up mecab-jumandic-utf8 (7.0-20130310-7) ...\n",
            "Compiling Juman dictionary for Mecab.\n",
            "reading /usr/share/mecab/dic/juman/unk.def ... 37\n",
            "emitting double-array: 100% |###########################################| \n",
            "reading /usr/share/mecab/dic/juman/Postp.csv ... 108\n",
            "reading /usr/share/mecab/dic/juman/Prefix.csv ... 90\n",
            "reading /usr/share/mecab/dic/juman/AuxV.csv ... 593\n",
            "reading /usr/share/mecab/dic/juman/Noun.suusi.csv ... 49\n",
            "reading /usr/share/mecab/dic/juman/Auto.csv ... 18931\n",
            "reading /usr/share/mecab/dic/juman/Assert.csv ... 34\n",
            "reading /usr/share/mecab/dic/juman/Emoticon.csv ... 972\n",
            "reading /usr/share/mecab/dic/juman/Rengo.csv ... 1118\n",
            "reading /usr/share/mecab/dic/juman/ContentW.csv ... 551145\n",
            "reading /usr/share/mecab/dic/juman/Noun.keishiki.csv ... 8\n",
            "reading /usr/share/mecab/dic/juman/Wikipedia.csv ... 167709\n",
            "reading /usr/share/mecab/dic/juman/Noun.koyuu.csv ... 7964\n",
            "reading /usr/share/mecab/dic/juman/Special.csv ... 158\n",
            "reading /usr/share/mecab/dic/juman/Noun.hukusi.csv ... 81\n",
            "reading /usr/share/mecab/dic/juman/Demonstrative.csv ... 97\n",
            "reading /usr/share/mecab/dic/juman/Suffix.csv ... 2128\n",
            "emitting double-array: 100% |###########################################| \n",
            "reading /usr/share/mecab/dic/juman/matrix.def ... 1876x1876\n",
            "emitting matrix      : 100% |###########################################| \n",
            "\n",
            "done!\n",
            "Setting up mecab-ipadic-utf8 (2.7.0-20070801+main-3) ...\n",
            "Compiling IPA dictionary for Mecab.  This takes long time...\n",
            "reading /usr/share/mecab/dic/ipadic/unk.def ... 40\n",
            "emitting double-array: 100% |###########################################| \n",
            "/usr/share/mecab/dic/ipadic/model.def is not found. skipped.\n",
            "reading /usr/share/mecab/dic/ipadic/Postp.csv ... 146\n",
            "reading /usr/share/mecab/dic/ipadic/Postp-col.csv ... 91\n",
            "reading /usr/share/mecab/dic/ipadic/Noun.number.csv ... 42\n",
            "reading /usr/share/mecab/dic/ipadic/Prefix.csv ... 221\n",
            "reading /usr/share/mecab/dic/ipadic/Noun.demonst.csv ... 120\n",
            "reading /usr/share/mecab/dic/ipadic/Verb.csv ... 130750\n",
            "reading /usr/share/mecab/dic/ipadic/Noun.name.csv ... 34202\n",
            "reading /usr/share/mecab/dic/ipadic/Filler.csv ... 19\n",
            "reading /usr/share/mecab/dic/ipadic/Noun.proper.csv ... 27328\n",
            "reading /usr/share/mecab/dic/ipadic/Noun.verbal.csv ... 12146\n",
            "reading /usr/share/mecab/dic/ipadic/Noun.others.csv ... 151\n",
            "reading /usr/share/mecab/dic/ipadic/Noun.adjv.csv ... 3328\n",
            "reading /usr/share/mecab/dic/ipadic/Noun.place.csv ... 72999\n",
            "reading /usr/share/mecab/dic/ipadic/Noun.org.csv ... 16668\n",
            "reading /usr/share/mecab/dic/ipadic/Adnominal.csv ... 135\n",
            "reading /usr/share/mecab/dic/ipadic/Auxil.csv ... 199\n",
            "reading /usr/share/mecab/dic/ipadic/Interjection.csv ... 252\n",
            "reading /usr/share/mecab/dic/ipadic/Noun.adverbal.csv ... 795\n",
            "reading /usr/share/mecab/dic/ipadic/Adj.csv ... 27210\n",
            "reading /usr/share/mecab/dic/ipadic/Conjunction.csv ... 171\n",
            "reading /usr/share/mecab/dic/ipadic/Noun.nai.csv ... 42\n",
            "reading /usr/share/mecab/dic/ipadic/Symbol.csv ... 208\n",
            "reading /usr/share/mecab/dic/ipadic/Suffix.csv ... 1393\n",
            "reading /usr/share/mecab/dic/ipadic/Others.csv ... 2\n",
            "reading /usr/share/mecab/dic/ipadic/Adverb.csv ... 3032\n",
            "reading /usr/share/mecab/dic/ipadic/Noun.csv ... 60477\n",
            "emitting double-array: 100% |###########################################| \n",
            "reading /usr/share/mecab/dic/ipadic/matrix.def ... 1316x1316\n",
            "emitting matrix      : 100% |###########################################| \n",
            "\n",
            "done!\n",
            "update-alternatives: using /var/lib/mecab/dic/ipadic-utf8 to provide /var/lib/mecab/dic/debian (mecab-dictionary) in auto mode\n",
            "Setting up mecab-jumandic (7.0-20130310-7) ...\n",
            "Processing triggers for man-db (2.10.2-1) ...\n",
            "Processing triggers for libc-bin (2.35-0ubuntu3.4) ...\n",
            "/sbin/ldconfig.real: /usr/local/lib/libtbbbind.so.3 is not a symbolic link\n",
            "\n",
            "/sbin/ldconfig.real: /usr/local/lib/libtbbbind_2_5.so.3 is not a symbolic link\n",
            "\n",
            "/sbin/ldconfig.real: /usr/local/lib/libtbbbind_2_0.so.3 is not a symbolic link\n",
            "\n",
            "/sbin/ldconfig.real: /usr/local/lib/libtbbmalloc.so.2 is not a symbolic link\n",
            "\n",
            "/sbin/ldconfig.real: /usr/local/lib/libtbbmalloc_proxy.so.2 is not a symbolic link\n",
            "\n",
            "/sbin/ldconfig.real: /usr/local/lib/libtbb.so.12 is not a symbolic link\n",
            "\n",
            "\n",
            "Collecting mecab-python3==0.7\n",
            "  Downloading mecab-python3-0.7.tar.gz (41 kB)\n",
            "\u001b[2K     \u001b[90m━━━━━━━━━━━━━━━━━━━━━━━━━━━━━━━━━━━━━━━━\u001b[0m \u001b[32m41.6/41.6 kB\u001b[0m \u001b[31m696.1 kB/s\u001b[0m eta \u001b[36m0:00:00\u001b[0m\n",
            "\u001b[?25h  Preparing metadata (setup.py) ... \u001b[?25l\u001b[?25hdone\n",
            "Building wheels for collected packages: mecab-python3\n",
            "  Building wheel for mecab-python3 (setup.py) ... \u001b[?25l\u001b[?25hdone\n",
            "  Created wheel for mecab-python3: filename=mecab_python3-0.7-cp310-cp310-linux_x86_64.whl size=185652 sha256=de1a28965d8f478b0765a642f0ffc80a409a0089a440235484506860c6b9f849\n",
            "  Stored in directory: /root/.cache/pip/wheels/af/5c/2a/bb8c7ed306516444e25b06556edf0e8f0b82139b270eb4ce2d\n",
            "Successfully built mecab-python3\n",
            "Installing collected packages: mecab-python3\n",
            "Successfully installed mecab-python3-0.7\n",
            "Cloning into 'mecab-ipadic-neologd'...\n",
            "remote: Enumerating objects: 75, done.\u001b[K\n",
            "remote: Counting objects: 100% (75/75), done.\u001b[K\n",
            "remote: Compressing objects: 100% (74/74), done.\u001b[K\n",
            "remote: Total 75 (delta 5), reused 54 (delta 0), pack-reused 0\u001b[K\n",
            "Receiving objects: 100% (75/75), 58.09 MiB | 37.79 MiB/s, done.\n",
            "Resolving deltas: 100% (5/5), done.\n",
            "[install-mecab-ipadic-NEologd] : Start..\n",
            "[install-mecab-ipadic-NEologd] : Check the existance of libraries\n",
            "[install-mecab-ipadic-NEologd] :     find => ok\n",
            "[install-mecab-ipadic-NEologd] :     sort => ok\n",
            "[install-mecab-ipadic-NEologd] :     head => ok\n",
            "[install-mecab-ipadic-NEologd] :     cut => ok\n",
            "[install-mecab-ipadic-NEologd] :     egrep => ok\n",
            "[install-mecab-ipadic-NEologd] :     mecab => ok\n",
            "[install-mecab-ipadic-NEologd] :     mecab-config => ok\n",
            "[install-mecab-ipadic-NEologd] :     make => ok\n",
            "[install-mecab-ipadic-NEologd] :     curl => ok\n",
            "[install-mecab-ipadic-NEologd] :     sed => ok\n",
            "[install-mecab-ipadic-NEologd] :     cat => ok\n",
            "[install-mecab-ipadic-NEologd] :     diff => ok\n",
            "[install-mecab-ipadic-NEologd] :     tar => ok\n",
            "[install-mecab-ipadic-NEologd] :     unxz => ok\n",
            "[install-mecab-ipadic-NEologd] :     xargs => ok\n",
            "[install-mecab-ipadic-NEologd] :     grep => ok\n",
            "[install-mecab-ipadic-NEologd] :     iconv => ok\n",
            "[install-mecab-ipadic-NEologd] :     patch => ok\n",
            "[install-mecab-ipadic-NEologd] :     which => ok\n",
            "[install-mecab-ipadic-NEologd] :     file => ok\n",
            "[install-mecab-ipadic-NEologd] :     openssl => ok\n",
            "[install-mecab-ipadic-NEologd] :     awk => ok\n",
            "\n",
            "[install-mecab-ipadic-NEologd] : mecab-ipadic-NEologd is already up-to-date\n",
            "\n",
            "[install-mecab-ipadic-NEologd] : mecab-ipadic-NEologd will be install to /usr/lib/x86_64-linux-gnu/mecab/dic/mecab-ipadic-neologd\n",
            "\n",
            "[install-mecab-ipadic-NEologd] : Make mecab-ipadic-NEologd\n",
            "[make-mecab-ipadic-NEologd] : Start..\n",
            "[make-mecab-ipadic-NEologd] : Check local seed directory\n",
            "[make-mecab-ipadic-NEologd] : Check local seed file\n",
            "[make-mecab-ipadic-NEologd] : Check local build directory\n",
            "[make-mecab-ipadic-NEologd] : create /content/mecab-ipadic-neologd/libexec/../build\n",
            "[make-mecab-ipadic-NEologd] : Download original mecab-ipadic file\n",
            "[make-mecab-ipadic-NEologd] : Try to access to https://ja.osdn.net\n",
            "[make-mecab-ipadic-NEologd] : Try to download from https://ja.osdn.net/frs/g_redir.php?m=kent&f=mecab%2Fmecab-ipadic%2F2.7.0-20070801%2Fmecab-ipadic-2.7.0-20070801.tar.gz\n",
            "  % Total    % Received % Xferd  Average Speed   Time    Time     Time  Current\n",
            "                                 Dload  Upload   Total   Spent    Left  Speed\n",
            "  0     0    0     0    0     0      0      0 --:--:-- --:--:-- --:--:--     0\n",
            "100 11.6M  100 11.6M    0     0  11985      0  0:16:58  0:16:58 --:--:-- 16368\n",
            "Hash value of /content/mecab-ipadic-neologd/libexec/../build/mecab-ipadic-2.7.0-20070801.tar.gz matched\n",
            "[make-mecab-ipadic-NEologd] : Decompress original mecab-ipadic file\n",
            "mecab-ipadic-2.7.0-20070801/\n",
            "mecab-ipadic-2.7.0-20070801/README\n",
            "mecab-ipadic-2.7.0-20070801/AUTHORS\n",
            "mecab-ipadic-2.7.0-20070801/COPYING\n",
            "mecab-ipadic-2.7.0-20070801/ChangeLog\n",
            "mecab-ipadic-2.7.0-20070801/INSTALL\n",
            "mecab-ipadic-2.7.0-20070801/Makefile.am\n",
            "mecab-ipadic-2.7.0-20070801/Makefile.in\n",
            "mecab-ipadic-2.7.0-20070801/NEWS\n",
            "mecab-ipadic-2.7.0-20070801/aclocal.m4\n",
            "mecab-ipadic-2.7.0-20070801/config.guess\n",
            "mecab-ipadic-2.7.0-20070801/config.sub\n",
            "mecab-ipadic-2.7.0-20070801/configure\n",
            "mecab-ipadic-2.7.0-20070801/configure.in\n",
            "mecab-ipadic-2.7.0-20070801/install-sh\n",
            "mecab-ipadic-2.7.0-20070801/missing\n",
            "mecab-ipadic-2.7.0-20070801/mkinstalldirs\n",
            "mecab-ipadic-2.7.0-20070801/Adj.csv\n",
            "mecab-ipadic-2.7.0-20070801/Adnominal.csv\n",
            "mecab-ipadic-2.7.0-20070801/Adverb.csv\n",
            "mecab-ipadic-2.7.0-20070801/Auxil.csv\n",
            "mecab-ipadic-2.7.0-20070801/Conjunction.csv\n",
            "mecab-ipadic-2.7.0-20070801/Filler.csv\n",
            "mecab-ipadic-2.7.0-20070801/Interjection.csv\n",
            "mecab-ipadic-2.7.0-20070801/Noun.adjv.csv\n",
            "mecab-ipadic-2.7.0-20070801/Noun.adverbal.csv\n",
            "mecab-ipadic-2.7.0-20070801/Noun.csv\n",
            "mecab-ipadic-2.7.0-20070801/Noun.demonst.csv\n",
            "mecab-ipadic-2.7.0-20070801/Noun.nai.csv\n",
            "mecab-ipadic-2.7.0-20070801/Noun.name.csv\n",
            "mecab-ipadic-2.7.0-20070801/Noun.number.csv\n",
            "mecab-ipadic-2.7.0-20070801/Noun.org.csv\n",
            "mecab-ipadic-2.7.0-20070801/Noun.others.csv\n",
            "mecab-ipadic-2.7.0-20070801/Noun.place.csv\n",
            "mecab-ipadic-2.7.0-20070801/Noun.proper.csv\n",
            "mecab-ipadic-2.7.0-20070801/Noun.verbal.csv\n",
            "mecab-ipadic-2.7.0-20070801/Others.csv\n",
            "mecab-ipadic-2.7.0-20070801/Postp-col.csv\n",
            "mecab-ipadic-2.7.0-20070801/Postp.csv\n",
            "mecab-ipadic-2.7.0-20070801/Prefix.csv\n",
            "mecab-ipadic-2.7.0-20070801/Suffix.csv\n",
            "mecab-ipadic-2.7.0-20070801/Symbol.csv\n",
            "mecab-ipadic-2.7.0-20070801/Verb.csv\n",
            "mecab-ipadic-2.7.0-20070801/char.def\n",
            "mecab-ipadic-2.7.0-20070801/feature.def\n",
            "mecab-ipadic-2.7.0-20070801/left-id.def\n",
            "mecab-ipadic-2.7.0-20070801/matrix.def\n",
            "mecab-ipadic-2.7.0-20070801/pos-id.def\n",
            "mecab-ipadic-2.7.0-20070801/rewrite.def\n",
            "mecab-ipadic-2.7.0-20070801/right-id.def\n",
            "mecab-ipadic-2.7.0-20070801/unk.def\n",
            "mecab-ipadic-2.7.0-20070801/dicrc\n",
            "mecab-ipadic-2.7.0-20070801/RESULT\n",
            "[make-mecab-ipadic-NEologd] : Configure custom system dictionary on /content/mecab-ipadic-neologd/libexec/../build/mecab-ipadic-2.7.0-20070801-neologd-20200910\n",
            "checking for a BSD-compatible install... /usr/bin/install -c\n",
            "checking whether build environment is sane... yes\n",
            "checking whether make sets $(MAKE)... yes\n",
            "checking for working aclocal-1.4... missing\n",
            "checking for working autoconf... found\n",
            "checking for working automake-1.4... missing\n",
            "checking for working autoheader... found\n",
            "checking for working makeinfo... missing\n",
            "checking for a BSD-compatible install... /usr/bin/install -c\n",
            "checking for mecab-config... /usr/bin/mecab-config\n",
            "configure: creating ./config.status\n",
            "config.status: creating Makefile\n",
            "[make-mecab-ipadic-NEologd] : Encode the character encoding of system dictionary resources from EUC_JP to UTF-8\n",
            "./../../libexec/iconv_euc_to_utf8.sh ./Postp.csv\n",
            "./../../libexec/iconv_euc_to_utf8.sh ./Postp-col.csv\n",
            "./../../libexec/iconv_euc_to_utf8.sh ./Noun.number.csv\n",
            "./../../libexec/iconv_euc_to_utf8.sh ./Prefix.csv\n",
            "./../../libexec/iconv_euc_to_utf8.sh ./Noun.demonst.csv\n",
            "./../../libexec/iconv_euc_to_utf8.sh ./Verb.csv\n",
            "./../../libexec/iconv_euc_to_utf8.sh ./Noun.name.csv\n",
            "./../../libexec/iconv_euc_to_utf8.sh ./Filler.csv\n",
            "./../../libexec/iconv_euc_to_utf8.sh ./Noun.proper.csv\n",
            "./../../libexec/iconv_euc_to_utf8.sh ./Noun.verbal.csv\n",
            "./../../libexec/iconv_euc_to_utf8.sh ./Noun.others.csv\n",
            "./../../libexec/iconv_euc_to_utf8.sh ./Noun.adjv.csv\n",
            "./../../libexec/iconv_euc_to_utf8.sh ./Noun.place.csv\n",
            "./../../libexec/iconv_euc_to_utf8.sh ./Noun.org.csv\n",
            "./../../libexec/iconv_euc_to_utf8.sh ./Adnominal.csv\n",
            "./../../libexec/iconv_euc_to_utf8.sh ./Auxil.csv\n",
            "./../../libexec/iconv_euc_to_utf8.sh ./Interjection.csv\n",
            "./../../libexec/iconv_euc_to_utf8.sh ./Noun.adverbal.csv\n",
            "./../../libexec/iconv_euc_to_utf8.sh ./Adj.csv\n",
            "./../../libexec/iconv_euc_to_utf8.sh ./Conjunction.csv\n",
            "./../../libexec/iconv_euc_to_utf8.sh ./Noun.nai.csv\n",
            "./../../libexec/iconv_euc_to_utf8.sh ./Symbol.csv\n",
            "./../../libexec/iconv_euc_to_utf8.sh ./Suffix.csv\n",
            "./../../libexec/iconv_euc_to_utf8.sh ./Others.csv\n",
            "./../../libexec/iconv_euc_to_utf8.sh ./Adverb.csv\n",
            "./../../libexec/iconv_euc_to_utf8.sh ./Noun.csv\n",
            "rm ./Postp.csv\n",
            "rm ./Postp-col.csv\n",
            "rm ./Noun.number.csv\n",
            "rm ./Prefix.csv\n",
            "rm ./Noun.demonst.csv\n",
            "rm ./Verb.csv\n",
            "rm ./Noun.name.csv\n",
            "rm ./Filler.csv\n",
            "rm ./Noun.proper.csv\n",
            "rm ./Noun.verbal.csv\n",
            "rm ./Noun.others.csv\n",
            "rm ./Noun.adjv.csv\n",
            "rm ./Noun.place.csv\n",
            "rm ./Noun.org.csv\n",
            "rm ./Adnominal.csv\n",
            "rm ./Auxil.csv\n",
            "rm ./Interjection.csv\n",
            "rm ./Noun.adverbal.csv\n",
            "rm ./Adj.csv\n",
            "rm ./Conjunction.csv\n",
            "rm ./Noun.nai.csv\n",
            "rm ./Symbol.csv\n",
            "rm ./Suffix.csv\n",
            "rm ./Others.csv\n",
            "rm ./Adverb.csv\n",
            "rm ./Noun.csv\n",
            "./../../libexec/iconv_euc_to_utf8.sh ./rewrite.def\n",
            "./../../libexec/iconv_euc_to_utf8.sh ./unk.def\n",
            "./../../libexec/iconv_euc_to_utf8.sh ./pos-id.def\n",
            "./../../libexec/iconv_euc_to_utf8.sh ./matrix.def\n",
            "./../../libexec/iconv_euc_to_utf8.sh ./right-id.def\n",
            "./../../libexec/iconv_euc_to_utf8.sh ./feature.def\n",
            "./../../libexec/iconv_euc_to_utf8.sh ./left-id.def\n",
            "./../../libexec/iconv_euc_to_utf8.sh ./char.def\n",
            "rm ./rewrite.def\n",
            "rm ./unk.def\n",
            "rm ./pos-id.def\n",
            "rm ./matrix.def\n",
            "rm ./right-id.def\n",
            "rm ./feature.def\n",
            "rm ./left-id.def\n",
            "rm ./char.def\n",
            "mv ./Suffix.csv.utf8 ./Suffix.csv\n",
            "mv ./Noun.demonst.csv.utf8 ./Noun.demonst.csv\n",
            "mv ./Postp-col.csv.utf8 ./Postp-col.csv\n",
            "mv ./Postp.csv.utf8 ./Postp.csv\n",
            "mv ./Noun.name.csv.utf8 ./Noun.name.csv\n",
            "mv ./Conjunction.csv.utf8 ./Conjunction.csv\n",
            "mv ./matrix.def.utf8 ./matrix.def\n",
            "mv ./right-id.def.utf8 ./right-id.def\n",
            "mv ./Noun.org.csv.utf8 ./Noun.org.csv\n",
            "mv ./unk.def.utf8 ./unk.def\n",
            "mv ./left-id.def.utf8 ./left-id.def\n",
            "mv ./Filler.csv.utf8 ./Filler.csv\n",
            "mv ./Noun.proper.csv.utf8 ./Noun.proper.csv\n",
            "mv ./Noun.adjv.csv.utf8 ./Noun.adjv.csv\n",
            "mv ./feature.def.utf8 ./feature.def\n",
            "mv ./Noun.nai.csv.utf8 ./Noun.nai.csv\n",
            "mv ./rewrite.def.utf8 ./rewrite.def\n",
            "mv ./Noun.verbal.csv.utf8 ./Noun.verbal.csv\n",
            "mv ./Verb.csv.utf8 ./Verb.csv\n",
            "mv ./Auxil.csv.utf8 ./Auxil.csv\n",
            "mv ./pos-id.def.utf8 ./pos-id.def\n",
            "mv ./char.def.utf8 ./char.def\n",
            "mv ./Noun.others.csv.utf8 ./Noun.others.csv\n",
            "mv ./Noun.place.csv.utf8 ./Noun.place.csv\n",
            "mv ./Noun.csv.utf8 ./Noun.csv\n",
            "mv ./Others.csv.utf8 ./Others.csv\n",
            "mv ./Noun.number.csv.utf8 ./Noun.number.csv\n",
            "mv ./Prefix.csv.utf8 ./Prefix.csv\n",
            "mv ./Noun.adverbal.csv.utf8 ./Noun.adverbal.csv\n",
            "mv ./Adnominal.csv.utf8 ./Adnominal.csv\n",
            "mv ./Interjection.csv.utf8 ./Interjection.csv\n",
            "mv ./Adverb.csv.utf8 ./Adverb.csv\n",
            "mv ./Adj.csv.utf8 ./Adj.csv\n",
            "mv ./Symbol.csv.utf8 ./Symbol.csv\n",
            "[make-mecab-ipadic-NEologd] : Fix yomigana field of IPA dictionary\n",
            "patching file Noun.csv\n",
            "patching file Noun.place.csv\n",
            "patching file Verb.csv\n",
            "patching file Noun.verbal.csv\n",
            "patching file Noun.name.csv\n",
            "patching file Noun.adverbal.csv\n",
            "patching file Noun.csv\n",
            "patching file Noun.name.csv\n",
            "patching file Noun.org.csv\n",
            "patching file Noun.others.csv\n",
            "patching file Noun.place.csv\n",
            "patching file Noun.proper.csv\n",
            "patching file Noun.verbal.csv\n",
            "patching file Prefix.csv\n",
            "patching file Suffix.csv\n",
            "patching file Noun.proper.csv\n",
            "patching file Noun.csv\n",
            "patching file Noun.name.csv\n",
            "patching file Noun.org.csv\n",
            "patching file Noun.place.csv\n",
            "patching file Noun.proper.csv\n",
            "patching file Noun.verbal.csv\n",
            "patching file Noun.name.csv\n",
            "patching file Noun.org.csv\n",
            "patching file Noun.place.csv\n",
            "patching file Noun.proper.csv\n",
            "patching file Suffix.csv\n",
            "patching file Noun.demonst.csv\n",
            "patching file Noun.csv\n",
            "patching file Noun.name.csv\n",
            "[make-mecab-ipadic-NEologd] : Copy user dictionary resource\n",
            "[make-mecab-ipadic-NEologd] : Install adverb entries using /content/mecab-ipadic-neologd/libexec/../seed/neologd-adverb-dict-seed.20150623.csv.xz\n",
            "[make-mecab-ipadic-NEologd] : Install interjection entries using /content/mecab-ipadic-neologd/libexec/../seed/neologd-interjection-dict-seed.20170216.csv.xz\n",
            "[make-mecab-ipadic-NEologd] : Install noun orthographic variant entries using /content/mecab-ipadic-neologd/libexec/../seed/neologd-common-noun-ortho-variant-dict-seed.20170228.csv.xz\n",
            "[make-mecab-ipadic-NEologd] : Install noun orthographic variant entries using /content/mecab-ipadic-neologd/libexec/../seed/neologd-proper-noun-ortho-variant-dict-seed.20161110.csv.xz\n",
            "[make-mecab-ipadic-NEologd] : Install entries of orthographic variant of a noun used as verb form using /content/mecab-ipadic-neologd/libexec/../seed/neologd-noun-sahen-conn-ortho-variant-dict-seed.20160323.csv.xz\n",
            "[make-mecab-ipadic-NEologd] : Install frequent adjective orthographic variant entries using /content/mecab-ipadic-neologd/libexec/../seed/neologd-adjective-std-dict-seed.20151126.csv.xz\n",
            "[make-mecab-ipadic-NEologd] : Install infrequent adjective orthographic variant entries using /content/mecab-ipadic-neologd/libexec/../seed/neologd-adjective-exp-dict-seed.20151126.csv.xz\n",
            "[make-mecab-ipadic-NEologd] : Install adjective verb orthographic variant entries using /content/mecab-ipadic-neologd/libexec/../seed/neologd-adjective-verb-dict-seed.20160324.csv.xz\n",
            "[make-mecab-ipadic-NEologd] : Install infrequent datetime representation entries using /content/mecab-ipadic-neologd/libexec/../seed/neologd-date-time-infreq-dict-seed.20190415.csv.xz\n",
            "[make-mecab-ipadic-NEologd] : Install infrequent quantity representation entries using /content/mecab-ipadic-neologd/libexec/../seed/neologd-quantity-infreq-dict-seed.20190415.csv.xz\n",
            "[make-mecab-ipadic-NEologd] : Install entries of ill formed words using /content/mecab-ipadic-neologd/libexec/../seed/neologd-ill-formed-words-dict-seed.20170127.csv.xz\n",
            "[make-mecab-ipadic-NEologd] : Re-Index system dictionary\n",
            "reading ./unk.def ... 40\n",
            "emitting double-array: 100% |###########################################| \n",
            "./model.def is not found. skipped.\n",
            "reading ./Postp.csv ... 146\n",
            "reading ./Postp-col.csv ... 91\n",
            "reading ./neologd-noun-sahen-conn-ortho-variant-dict-seed.20160323.csv ... 26058\n",
            "reading ./Noun.number.csv ... 42\n",
            "reading ./neologd-date-time-infreq-dict-seed.20190415.csv ... 16866\n",
            "reading ./Prefix.csv ... 224\n",
            "reading ./Noun.demonst.csv ... 120\n",
            "reading ./Verb.csv ... 130750\n",
            "reading ./Noun.name.csv ... 34215\n",
            "reading ./neologd-proper-noun-ortho-variant-dict-seed.20161110.csv ... 138379\n",
            "reading ./Filler.csv ... 19\n",
            "reading ./Noun.proper.csv ... 27493\n",
            "reading ./Noun.verbal.csv ... 12150\n",
            "reading ./Noun.others.csv ... 153\n",
            "reading ./Noun.adjv.csv ... 3328\n",
            "reading ./neologd-adverb-dict-seed.20150623.csv ... 139792\n",
            "reading ./Noun.place.csv ... 73194\n",
            "reading ./Noun.org.csv ... 17149\n",
            "reading ./neologd-interjection-dict-seed.20170216.csv ... 4701\n",
            "reading ./Adnominal.csv ... 135\n",
            "reading ./Auxil.csv ... 199\n",
            "reading ./mecab-user-dict-seed.20200910.csv ... 3224584\n",
            "reading ./Interjection.csv ... 252\n",
            "reading ./neologd-adjective-std-dict-seed.20151126.csv ... 507812\n",
            "reading ./Noun.adverbal.csv ... 808\n",
            "reading ./Adj.csv ... 27210\n",
            "reading ./Conjunction.csv ... 171\n",
            "reading ./neologd-quantity-infreq-dict-seed.20190415.csv ... 229216\n",
            "reading ./neologd-common-noun-ortho-variant-dict-seed.20170228.csv ... 152869\n",
            "reading ./neologd-adjective-verb-dict-seed.20160324.csv ... 20268\n",
            "reading ./Noun.nai.csv ... 42\n",
            "reading ./Symbol.csv ... 208\n",
            "reading ./Suffix.csv ... 1448\n",
            "reading ./neologd-ill-formed-words-dict-seed.20170127.csv ... 60616\n",
            "reading ./Others.csv ... 2\n",
            "reading ./Adverb.csv ... 3032\n",
            "reading ./neologd-adjective-exp-dict-seed.20151126.csv ... 1051146\n",
            "reading ./Noun.csv ... 60734\n",
            "emitting double-array: 100% |###########################################| \n",
            "reading ./matrix.def ... 1316x1316\n",
            "emitting matrix      : 100% |###########################################| \n",
            "\n",
            "done!\n",
            "[make-mecab-ipadic-NEologd] : Make custom system dictionary on /content/mecab-ipadic-neologd/libexec/../build/mecab-ipadic-2.7.0-20070801-neologd-20200910\n",
            "make: Nothing to be done for 'all'.\n",
            "[make-mecab-ipadic-NEologd] : Finish..\n",
            "[install-mecab-ipadic-NEologd] : Get results of tokenize test\n",
            "[test-mecab-ipadic-NEologd] : Start..\n",
            "[test-mecab-ipadic-NEologd] : Replace timestamp from 'git clone' date to 'git commit' date\n",
            "[test-mecab-ipadic-NEologd] : Get buzz phrases\n",
            "  % Total    % Received % Xferd  Average Speed   Time    Time     Time  Current\n",
            "                                 Dload  Upload   Total   Spent    Left  Speed\n",
            "100 22946    0 22946    0     0  21177      0 --:--:--  0:00:01 --:--:-- 21187\n",
            "[test-mecab-ipadic-NEologd] : Get difference between default system dictionary and mecab-ipadic-NEologd\n",
            "[test-mecab-ipadic-NEologd] : Something wrong. You shouldn't install mecab-ipadic-NEologd yet.\n",
            "[test-mecab-ipadic-NEologd] : Finish..\n",
            "\n",
            "[install-mecab-ipadic-NEologd] : Please check the list of differences in the upper part.\n",
            "\n",
            "[install-mecab-ipadic-NEologd] : Do you want to install mecab-ipadic-NEologd? Type yes or no.\n",
            "[install-mecab-ipadic-NEologd] : OK. Let's install mecab-ipadic-NEologd.\n",
            "[install-mecab-ipadic-NEologd] : Start..\n",
            "[install-mecab-ipadic-NEologd] : /usr/lib/x86_64-linux-gnu/mecab/dic isn't current user's directory\n",
            "[install-mecab-ipadic-NEologd] : Sudo make install to /usr/lib/x86_64-linux-gnu/mecab/dic/mecab-ipadic-neologd\n",
            "make[1]: Entering directory '/content/mecab-ipadic-neologd/build/mecab-ipadic-2.7.0-20070801-neologd-20200910'\n",
            "make[1]: Nothing to be done for 'install-exec-am'.\n",
            "/bin/bash ./mkinstalldirs /usr/lib/x86_64-linux-gnu/mecab/dic/mecab-ipadic-neologd\n",
            "mkdir /usr/lib/x86_64-linux-gnu/mecab\n",
            "mkdir /usr/lib/x86_64-linux-gnu/mecab/dic\n",
            "mkdir /usr/lib/x86_64-linux-gnu/mecab/dic/mecab-ipadic-neologd\n",
            " /usr/bin/install -c -m 644 ./matrix.bin /usr/lib/x86_64-linux-gnu/mecab/dic/mecab-ipadic-neologd/matrix.bin\n",
            " /usr/bin/install -c -m 644 ./char.bin /usr/lib/x86_64-linux-gnu/mecab/dic/mecab-ipadic-neologd/char.bin\n",
            " /usr/bin/install -c -m 644 ./sys.dic /usr/lib/x86_64-linux-gnu/mecab/dic/mecab-ipadic-neologd/sys.dic\n",
            " /usr/bin/install -c -m 644 ./unk.dic /usr/lib/x86_64-linux-gnu/mecab/dic/mecab-ipadic-neologd/unk.dic\n",
            " /usr/bin/install -c -m 644 ./left-id.def /usr/lib/x86_64-linux-gnu/mecab/dic/mecab-ipadic-neologd/left-id.def\n",
            " /usr/bin/install -c -m 644 ./right-id.def /usr/lib/x86_64-linux-gnu/mecab/dic/mecab-ipadic-neologd/right-id.def\n",
            " /usr/bin/install -c -m 644 ./rewrite.def /usr/lib/x86_64-linux-gnu/mecab/dic/mecab-ipadic-neologd/rewrite.def\n",
            " /usr/bin/install -c -m 644 ./pos-id.def /usr/lib/x86_64-linux-gnu/mecab/dic/mecab-ipadic-neologd/pos-id.def\n",
            " /usr/bin/install -c -m 644 ./dicrc /usr/lib/x86_64-linux-gnu/mecab/dic/mecab-ipadic-neologd/dicrc\n",
            "make[1]: Leaving directory '/content/mecab-ipadic-neologd/build/mecab-ipadic-2.7.0-20070801-neologd-20200910'\n",
            "\n",
            "[install-mecab-ipadic-NEologd] : Install completed.\n",
            "[install-mecab-ipadic-NEologd] : When you use MeCab, you can set '/usr/lib/x86_64-linux-gnu/mecab/dic/mecab-ipadic-neologd' as a value of '-d' option of MeCab.\n",
            "[install-mecab-ipadic-NEologd] : Usage of mecab-ipadic-NEologd is here.\n",
            "Usage:\n",
            "    $ mecab -d /usr/lib/x86_64-linux-gnu/mecab/dic/mecab-ipadic-neologd ...\n",
            "\n",
            "[install-mecab-ipadic-NEologd] : Finish..\n",
            "[install-mecab-ipadic-NEologd] : Finish..\n"
          ]
        }
      ],
      "source": [
        "#インストール\n",
        "!apt install aptitude\n",
        "!aptitude install mecab libmecab-dev mecab-ipadic-utf8 git make curl xz-utils file -y\n",
        "!pip install mecab-python3==0.7\n",
        "!git clone --depth 1 https://github.com/neologd/mecab-ipadic-neologd.git\n",
        "!echo yes | mecab-ipadic-neologd/bin/install-mecab-ipadic-neologd -n -a"
      ]
    },
    {
      "cell_type": "markdown",
      "metadata": {
        "id": "QVRX6ereRmuT"
      },
      "source": [
        "---------- 修正（ここから）----------"
      ]
    },
    {
      "cell_type": "code",
      "execution_count": null,
      "metadata": {
        "id": "0RI3YW4degod"
      },
      "outputs": [],
      "source": [
        "import MeCab"
      ]
    },
    {
      "cell_type": "code",
      "execution_count": null,
      "metadata": {
        "id": "wN_dZ-Edvhfy"
      },
      "outputs": [],
      "source": [
        "import subprocess\n",
        "#subprocessとはPythonを使用して外部プログラムを制御、他のプログラムの出力を取得したりできる\n",
        "\n",
        "cmd = 'echo `mecab-config --dicdir`\"/mecab-ipadic-neologd\"'\n",
        "# echo は、コンピュータのコマンドラインインターフェース（CLI）やシェルスクリプトで使用されるコマンドの一つ\n",
        "# cmd変数に、mecab-config コマンドを使用して取得した辞書の、\n",
        "# ディレクトリパスと /mecab-ipadic-neologd が結合された文字列が格納される\n",
        "path = (subprocess.Popen(cmd, stdout=subprocess.PIPE,shell=True).communicate()[0]).decode('utf-8')\n",
        "\n",
        "mecab_neologd = MeCab.Tagger(\"-d {0} -Ochasen\".format(path))\n",
        "# {0} の部分が path の値に置き換えられる。neologdを使わなときはpathの指定はいらない。"
      ]
    },
    {
      "cell_type": "code",
      "execution_count": null,
      "metadata": {
        "id": "7EZoJMlTKxQL",
        "colab": {
          "base_uri": "https://localhost:8080/"
        },
        "outputId": "0e3c7e57-7f20-4def-abdd-154e729560de"
      },
      "outputs": [
        {
          "output_type": "stream",
          "name": "stdout",
          "text": [
            "鬼滅の刃\tキメツノヤイバ\t鬼滅の刃\t名詞-固有名詞-一般\t\t\n",
            "も\tモ\tも\t助詞-係助詞\t\t\n",
            "いい\tイイ\tいい\t形容詞-非自立\t形容詞・イイ\t基本形\n",
            "けれど\tケレド\tけれど\t助詞-接続助詞\t\t\n",
            "、\t、\t、\t記号-読点\t\t\n",
            "ドラえもん\tドラエモン\tドラえもん\t名詞-固有名詞-一般\t\t\n",
            "も\tモ\tも\t助詞-係助詞\t\t\n",
            "ね\tネ\tね\t助詞-終助詞\t\t\n",
            "。\t。\t。\t記号-句点\t\t\n",
            "EOS\n",
            "\n"
          ]
        }
      ],
      "source": [
        "sample_txt = \"鬼滅の刃もいいけれど、ドラえもんもね。\"\n",
        "\n",
        "print(mecab_neologd.parse(sample_txt))"
      ]
    },
    {
      "cell_type": "code",
      "execution_count": null,
      "metadata": {
        "id": "l9Jka8puKxYq",
        "colab": {
          "base_uri": "https://localhost:8080/"
        },
        "outputId": "e7c45990-2d6c-47cd-ecdb-2e0694b9b69d"
      },
      "outputs": [
        {
          "output_type": "stream",
          "name": "stdout",
          "text": [
            "推し\tオシ\t推す\t動詞-自立\t五段・サ行\t連用形\n",
            "の子\tノコ\tの子\t名詞-固有名詞-人名-一般\t\t\n",
            "って\tッテ\tって\t助詞-格助詞-連語\t\t\n",
            "タイトル\tタイトル\tタイトル\t名詞-一般\t\t\n",
            "から\tカラ\tから\t助詞-格助詞-一般\t\t\n",
            "、\t、\t、\t記号-読点\t\t\n",
            "推し\tオシ\t推す\t動詞-自立\t五段・サ行\t連用形\n",
            "だっ\tダッ\tだ\t助動詞\t特殊・ダ\t連用タ接続\n",
            "た\tタ\tた\t助動詞\t特殊・タ\t基本形\n",
            "子\tコ\t子\t名詞-一般\t\t\n",
            "から\tカラ\tから\t助詞-格助詞-一般\t\t\n",
            "産まれ\tウマレ\t産まれる\t動詞-自立\t一段\t連用形\n",
            "た\tタ\tた\t助動詞\t特殊・タ\t基本形\n",
            "子\tコ\t子\t名詞-一般\t\t\n",
            "の\tノ\tの\t助詞-連体化\t\t\n",
            "推し\tオシ\t推す\t動詞-自立\t五段・サ行\t連用形\n",
            "に\tニ\tに\t助詞-格助詞-一般\t\t\n",
            "なる\tナル\tなる\t動詞-自立\t五段・ラ行\t基本形\n",
            "話\tハナシ\t話\t名詞-サ変接続\t\t\n",
            "。\t。\t。\t記号-句点\t\t\n",
            "EOS\n",
            "\n"
          ]
        }
      ],
      "source": [
        "sample_txt_2 = \"推しの子ってタイトルから、推しだった子から産まれた子の推しになる話。\"\n",
        "\n",
        "print(mecab_neologd.parse(sample_txt_2))"
      ]
    },
    {
      "cell_type": "markdown",
      "metadata": {
        "id": "XzkJpR4cR_3r"
      },
      "source": [
        "「推しの子」はneologdにも登録されていない。"
      ]
    },
    {
      "cell_type": "markdown",
      "metadata": {
        "id": "3x7SzwVcSc01"
      },
      "source": [
        "そこで、ひとまずアルファベット表記に置き換えることで1単語と認識させる。"
      ]
    },
    {
      "cell_type": "code",
      "execution_count": null,
      "metadata": {
        "id": "wTqsTARkx5X5"
      },
      "outputs": [],
      "source": [
        "replacement_dict = {\n",
        "    \"推しの子\": \"oshinoko\",\n",
        "    \"置換対象の文字列1\": \"置換後の文字列1\",\n",
        "    \"置換対象の文字列2\": \"置換後の文字列2\",\n",
        "    # 続けて必要な置換対象と置換後の文字列を追加する\n",
        "}"
      ]
    },
    {
      "cell_type": "code",
      "execution_count": null,
      "metadata": {
        "id": "xonMIBknL86C",
        "colab": {
          "base_uri": "https://localhost:8080/",
          "height": 56
        },
        "outputId": "c292a566-e2e5-43dc-ad07-fccf907c2ffb"
      },
      "outputs": [
        {
          "output_type": "execute_result",
          "data": {
            "text/plain": [
              "'oshinokoってタイトルから、推しだった子から産まれた子の推しになる話。'"
            ],
            "application/vnd.google.colaboratory.intrinsic+json": {
              "type": "string"
            }
          },
          "metadata": {},
          "execution_count": 19
        }
      ],
      "source": [
        "sample_txt_3 = sample_txt_2.replace(\"推しの子\", \"oshinoko\")\n",
        "sample_txt_3"
      ]
    },
    {
      "cell_type": "code",
      "execution_count": null,
      "metadata": {
        "id": "l47M5-egQytj",
        "colab": {
          "base_uri": "https://localhost:8080/"
        },
        "outputId": "070e96a1-4862-426e-84c9-e11952e694d4"
      },
      "outputs": [
        {
          "output_type": "stream",
          "name": "stdout",
          "text": [
            "oshinoko\toshinoko\toshinoko\t名詞-固有名詞-組織\t\t\n",
            "って\tッテ\tって\t助詞-格助詞-連語\t\t\n",
            "タイトル\tタイトル\tタイトル\t名詞-一般\t\t\n",
            "から\tカラ\tから\t助詞-格助詞-一般\t\t\n",
            "、\t、\t、\t記号-読点\t\t\n",
            "推し\tオシ\t推す\t動詞-自立\t五段・サ行\t連用形\n",
            "だっ\tダッ\tだ\t助動詞\t特殊・ダ\t連用タ接続\n",
            "た\tタ\tた\t助動詞\t特殊・タ\t基本形\n",
            "子\tコ\t子\t名詞-一般\t\t\n",
            "から\tカラ\tから\t助詞-格助詞-一般\t\t\n",
            "産まれ\tウマレ\t産まれる\t動詞-自立\t一段\t連用形\n",
            "た\tタ\tた\t助動詞\t特殊・タ\t基本形\n",
            "子\tコ\t子\t名詞-一般\t\t\n",
            "の\tノ\tの\t助詞-連体化\t\t\n",
            "推し\tオシ\t推す\t動詞-自立\t五段・サ行\t連用形\n",
            "に\tニ\tに\t助詞-格助詞-一般\t\t\n",
            "なる\tナル\tなる\t動詞-自立\t五段・ラ行\t基本形\n",
            "話\tハナシ\t話\t名詞-サ変接続\t\t\n",
            "。\t。\t。\t記号-句点\t\t\n",
            "EOS\n",
            "\n"
          ]
        }
      ],
      "source": [
        "print(mecab_neologd.parse(sample_txt_3))"
      ]
    },
    {
      "cell_type": "code",
      "execution_count": null,
      "metadata": {
        "id": "Uti8cMHc2y6u",
        "colab": {
          "base_uri": "https://localhost:8080/",
          "height": 160
        },
        "outputId": "100151a1-4070-403a-aadb-59070336afe8"
      },
      "outputs": [
        {
          "output_type": "execute_result",
          "data": {
            "text/plain": [
              "                                  content\n",
              "0                     鬼滅の刃もいいけれど、ドラえもんもね。\n",
              "1      推しの子ってタイトルから、推しだった子から産まれた子の推しになる話。\n",
              "2  oshinokoってタイトルから、推しだった子から産まれた子の推しになる話。"
            ],
            "text/html": [
              "\n",
              "  <div id=\"df-c4d69bc1-829f-4237-a7c2-c1a1bb491a6f\" class=\"colab-df-container\">\n",
              "    <div>\n",
              "<style scoped>\n",
              "    .dataframe tbody tr th:only-of-type {\n",
              "        vertical-align: middle;\n",
              "    }\n",
              "\n",
              "    .dataframe tbody tr th {\n",
              "        vertical-align: top;\n",
              "    }\n",
              "\n",
              "    .dataframe thead th {\n",
              "        text-align: right;\n",
              "    }\n",
              "</style>\n",
              "<table border=\"1\" class=\"dataframe\">\n",
              "  <thead>\n",
              "    <tr style=\"text-align: right;\">\n",
              "      <th></th>\n",
              "      <th>content</th>\n",
              "    </tr>\n",
              "  </thead>\n",
              "  <tbody>\n",
              "    <tr>\n",
              "      <th>0</th>\n",
              "      <td>鬼滅の刃もいいけれど、ドラえもんもね。</td>\n",
              "    </tr>\n",
              "    <tr>\n",
              "      <th>1</th>\n",
              "      <td>推しの子ってタイトルから、推しだった子から産まれた子の推しになる話。</td>\n",
              "    </tr>\n",
              "    <tr>\n",
              "      <th>2</th>\n",
              "      <td>oshinokoってタイトルから、推しだった子から産まれた子の推しになる話。</td>\n",
              "    </tr>\n",
              "  </tbody>\n",
              "</table>\n",
              "</div>\n",
              "    <div class=\"colab-df-buttons\">\n",
              "\n",
              "  <div class=\"colab-df-container\">\n",
              "    <button class=\"colab-df-convert\" onclick=\"convertToInteractive('df-c4d69bc1-829f-4237-a7c2-c1a1bb491a6f')\"\n",
              "            title=\"Convert this dataframe to an interactive table.\"\n",
              "            style=\"display:none;\">\n",
              "\n",
              "  <svg xmlns=\"http://www.w3.org/2000/svg\" height=\"24px\" viewBox=\"0 -960 960 960\">\n",
              "    <path d=\"M120-120v-720h720v720H120Zm60-500h600v-160H180v160Zm220 220h160v-160H400v160Zm0 220h160v-160H400v160ZM180-400h160v-160H180v160Zm440 0h160v-160H620v160ZM180-180h160v-160H180v160Zm440 0h160v-160H620v160Z\"/>\n",
              "  </svg>\n",
              "    </button>\n",
              "\n",
              "  <style>\n",
              "    .colab-df-container {\n",
              "      display:flex;\n",
              "      gap: 12px;\n",
              "    }\n",
              "\n",
              "    .colab-df-convert {\n",
              "      background-color: #E8F0FE;\n",
              "      border: none;\n",
              "      border-radius: 50%;\n",
              "      cursor: pointer;\n",
              "      display: none;\n",
              "      fill: #1967D2;\n",
              "      height: 32px;\n",
              "      padding: 0 0 0 0;\n",
              "      width: 32px;\n",
              "    }\n",
              "\n",
              "    .colab-df-convert:hover {\n",
              "      background-color: #E2EBFA;\n",
              "      box-shadow: 0px 1px 2px rgba(60, 64, 67, 0.3), 0px 1px 3px 1px rgba(60, 64, 67, 0.15);\n",
              "      fill: #174EA6;\n",
              "    }\n",
              "\n",
              "    .colab-df-buttons div {\n",
              "      margin-bottom: 4px;\n",
              "    }\n",
              "\n",
              "    [theme=dark] .colab-df-convert {\n",
              "      background-color: #3B4455;\n",
              "      fill: #D2E3FC;\n",
              "    }\n",
              "\n",
              "    [theme=dark] .colab-df-convert:hover {\n",
              "      background-color: #434B5C;\n",
              "      box-shadow: 0px 1px 3px 1px rgba(0, 0, 0, 0.15);\n",
              "      filter: drop-shadow(0px 1px 2px rgba(0, 0, 0, 0.3));\n",
              "      fill: #FFFFFF;\n",
              "    }\n",
              "  </style>\n",
              "\n",
              "    <script>\n",
              "      const buttonEl =\n",
              "        document.querySelector('#df-c4d69bc1-829f-4237-a7c2-c1a1bb491a6f button.colab-df-convert');\n",
              "      buttonEl.style.display =\n",
              "        google.colab.kernel.accessAllowed ? 'block' : 'none';\n",
              "\n",
              "      async function convertToInteractive(key) {\n",
              "        const element = document.querySelector('#df-c4d69bc1-829f-4237-a7c2-c1a1bb491a6f');\n",
              "        const dataTable =\n",
              "          await google.colab.kernel.invokeFunction('convertToInteractive',\n",
              "                                                    [key], {});\n",
              "        if (!dataTable) return;\n",
              "\n",
              "        const docLinkHtml = 'Like what you see? Visit the ' +\n",
              "          '<a target=\"_blank\" href=https://colab.research.google.com/notebooks/data_table.ipynb>data table notebook</a>'\n",
              "          + ' to learn more about interactive tables.';\n",
              "        element.innerHTML = '';\n",
              "        dataTable['output_type'] = 'display_data';\n",
              "        await google.colab.output.renderOutput(dataTable, element);\n",
              "        const docLink = document.createElement('div');\n",
              "        docLink.innerHTML = docLinkHtml;\n",
              "        element.appendChild(docLink);\n",
              "      }\n",
              "    </script>\n",
              "  </div>\n",
              "\n",
              "\n",
              "<div id=\"df-14cf5d2e-85b7-4c3b-bcca-f39f97adccec\">\n",
              "  <button class=\"colab-df-quickchart\" onclick=\"quickchart('df-14cf5d2e-85b7-4c3b-bcca-f39f97adccec')\"\n",
              "            title=\"Suggest charts\"\n",
              "            style=\"display:none;\">\n",
              "\n",
              "<svg xmlns=\"http://www.w3.org/2000/svg\" height=\"24px\"viewBox=\"0 0 24 24\"\n",
              "     width=\"24px\">\n",
              "    <g>\n",
              "        <path d=\"M19 3H5c-1.1 0-2 .9-2 2v14c0 1.1.9 2 2 2h14c1.1 0 2-.9 2-2V5c0-1.1-.9-2-2-2zM9 17H7v-7h2v7zm4 0h-2V7h2v10zm4 0h-2v-4h2v4z\"/>\n",
              "    </g>\n",
              "</svg>\n",
              "  </button>\n",
              "\n",
              "<style>\n",
              "  .colab-df-quickchart {\n",
              "      --bg-color: #E8F0FE;\n",
              "      --fill-color: #1967D2;\n",
              "      --hover-bg-color: #E2EBFA;\n",
              "      --hover-fill-color: #174EA6;\n",
              "      --disabled-fill-color: #AAA;\n",
              "      --disabled-bg-color: #DDD;\n",
              "  }\n",
              "\n",
              "  [theme=dark] .colab-df-quickchart {\n",
              "      --bg-color: #3B4455;\n",
              "      --fill-color: #D2E3FC;\n",
              "      --hover-bg-color: #434B5C;\n",
              "      --hover-fill-color: #FFFFFF;\n",
              "      --disabled-bg-color: #3B4455;\n",
              "      --disabled-fill-color: #666;\n",
              "  }\n",
              "\n",
              "  .colab-df-quickchart {\n",
              "    background-color: var(--bg-color);\n",
              "    border: none;\n",
              "    border-radius: 50%;\n",
              "    cursor: pointer;\n",
              "    display: none;\n",
              "    fill: var(--fill-color);\n",
              "    height: 32px;\n",
              "    padding: 0;\n",
              "    width: 32px;\n",
              "  }\n",
              "\n",
              "  .colab-df-quickchart:hover {\n",
              "    background-color: var(--hover-bg-color);\n",
              "    box-shadow: 0 1px 2px rgba(60, 64, 67, 0.3), 0 1px 3px 1px rgba(60, 64, 67, 0.15);\n",
              "    fill: var(--button-hover-fill-color);\n",
              "  }\n",
              "\n",
              "  .colab-df-quickchart-complete:disabled,\n",
              "  .colab-df-quickchart-complete:disabled:hover {\n",
              "    background-color: var(--disabled-bg-color);\n",
              "    fill: var(--disabled-fill-color);\n",
              "    box-shadow: none;\n",
              "  }\n",
              "\n",
              "  .colab-df-spinner {\n",
              "    border: 2px solid var(--fill-color);\n",
              "    border-color: transparent;\n",
              "    border-bottom-color: var(--fill-color);\n",
              "    animation:\n",
              "      spin 1s steps(1) infinite;\n",
              "  }\n",
              "\n",
              "  @keyframes spin {\n",
              "    0% {\n",
              "      border-color: transparent;\n",
              "      border-bottom-color: var(--fill-color);\n",
              "      border-left-color: var(--fill-color);\n",
              "    }\n",
              "    20% {\n",
              "      border-color: transparent;\n",
              "      border-left-color: var(--fill-color);\n",
              "      border-top-color: var(--fill-color);\n",
              "    }\n",
              "    30% {\n",
              "      border-color: transparent;\n",
              "      border-left-color: var(--fill-color);\n",
              "      border-top-color: var(--fill-color);\n",
              "      border-right-color: var(--fill-color);\n",
              "    }\n",
              "    40% {\n",
              "      border-color: transparent;\n",
              "      border-right-color: var(--fill-color);\n",
              "      border-top-color: var(--fill-color);\n",
              "    }\n",
              "    60% {\n",
              "      border-color: transparent;\n",
              "      border-right-color: var(--fill-color);\n",
              "    }\n",
              "    80% {\n",
              "      border-color: transparent;\n",
              "      border-right-color: var(--fill-color);\n",
              "      border-bottom-color: var(--fill-color);\n",
              "    }\n",
              "    90% {\n",
              "      border-color: transparent;\n",
              "      border-bottom-color: var(--fill-color);\n",
              "    }\n",
              "  }\n",
              "</style>\n",
              "\n",
              "  <script>\n",
              "    async function quickchart(key) {\n",
              "      const quickchartButtonEl =\n",
              "        document.querySelector('#' + key + ' button');\n",
              "      quickchartButtonEl.disabled = true;  // To prevent multiple clicks.\n",
              "      quickchartButtonEl.classList.add('colab-df-spinner');\n",
              "      try {\n",
              "        const charts = await google.colab.kernel.invokeFunction(\n",
              "            'suggestCharts', [key], {});\n",
              "      } catch (error) {\n",
              "        console.error('Error during call to suggestCharts:', error);\n",
              "      }\n",
              "      quickchartButtonEl.classList.remove('colab-df-spinner');\n",
              "      quickchartButtonEl.classList.add('colab-df-quickchart-complete');\n",
              "    }\n",
              "    (() => {\n",
              "      let quickchartButtonEl =\n",
              "        document.querySelector('#df-14cf5d2e-85b7-4c3b-bcca-f39f97adccec button');\n",
              "      quickchartButtonEl.style.display =\n",
              "        google.colab.kernel.accessAllowed ? 'block' : 'none';\n",
              "    })();\n",
              "  </script>\n",
              "</div>\n",
              "\n",
              "  <div id=\"id_0184a88d-e0e0-4f84-8e09-3202d633a695\">\n",
              "    <style>\n",
              "      .colab-df-generate {\n",
              "        background-color: #E8F0FE;\n",
              "        border: none;\n",
              "        border-radius: 50%;\n",
              "        cursor: pointer;\n",
              "        display: none;\n",
              "        fill: #1967D2;\n",
              "        height: 32px;\n",
              "        padding: 0 0 0 0;\n",
              "        width: 32px;\n",
              "      }\n",
              "\n",
              "      .colab-df-generate:hover {\n",
              "        background-color: #E2EBFA;\n",
              "        box-shadow: 0px 1px 2px rgba(60, 64, 67, 0.3), 0px 1px 3px 1px rgba(60, 64, 67, 0.15);\n",
              "        fill: #174EA6;\n",
              "      }\n",
              "\n",
              "      [theme=dark] .colab-df-generate {\n",
              "        background-color: #3B4455;\n",
              "        fill: #D2E3FC;\n",
              "      }\n",
              "\n",
              "      [theme=dark] .colab-df-generate:hover {\n",
              "        background-color: #434B5C;\n",
              "        box-shadow: 0px 1px 3px 1px rgba(0, 0, 0, 0.15);\n",
              "        filter: drop-shadow(0px 1px 2px rgba(0, 0, 0, 0.3));\n",
              "        fill: #FFFFFF;\n",
              "      }\n",
              "    </style>\n",
              "    <button class=\"colab-df-generate\" onclick=\"generateWithVariable('df_sample')\"\n",
              "            title=\"Generate code using this dataframe.\"\n",
              "            style=\"display:none;\">\n",
              "\n",
              "  <svg xmlns=\"http://www.w3.org/2000/svg\" height=\"24px\"viewBox=\"0 0 24 24\"\n",
              "       width=\"24px\">\n",
              "    <path d=\"M7,19H8.4L18.45,9,17,7.55,7,17.6ZM5,21V16.75L18.45,3.32a2,2,0,0,1,2.83,0l1.4,1.43a1.91,1.91,0,0,1,.58,1.4,1.91,1.91,0,0,1-.58,1.4L9.25,21ZM18.45,9,17,7.55Zm-12,3A5.31,5.31,0,0,0,4.9,8.1,5.31,5.31,0,0,0,1,6.5,5.31,5.31,0,0,0,4.9,4.9,5.31,5.31,0,0,0,6.5,1,5.31,5.31,0,0,0,8.1,4.9,5.31,5.31,0,0,0,12,6.5,5.46,5.46,0,0,0,6.5,12Z\"/>\n",
              "  </svg>\n",
              "    </button>\n",
              "    <script>\n",
              "      (() => {\n",
              "      const buttonEl =\n",
              "        document.querySelector('#id_0184a88d-e0e0-4f84-8e09-3202d633a695 button.colab-df-generate');\n",
              "      buttonEl.style.display =\n",
              "        google.colab.kernel.accessAllowed ? 'block' : 'none';\n",
              "\n",
              "      buttonEl.onclick = () => {\n",
              "        google.colab.notebook.generateWithVariable('df_sample');\n",
              "      }\n",
              "      })();\n",
              "    </script>\n",
              "  </div>\n",
              "\n",
              "    </div>\n",
              "  </div>\n"
            ]
          },
          "metadata": {},
          "execution_count": 21
        }
      ],
      "source": [
        "# ひとつのデータフレームにまとめる\n",
        "df_sample = pd.DataFrame({\"content\": [sample_txt, sample_txt_2, sample_txt_3]})\n",
        "df_sample"
      ]
    },
    {
      "cell_type": "markdown",
      "metadata": {
        "id": "Llbrot8B3a3O"
      },
      "source": [
        "## 特定品詞の除去"
      ]
    },
    {
      "cell_type": "markdown",
      "metadata": {
        "id": "z7qoLKqM4J7j"
      },
      "source": [
        " MeCabで形態素解析→\n",
        "\n",
        "助詞、助動詞、記号を除去する、動詞と形容詞は基礎型で抽出する処理を関数化　parse_morphemes→\n",
        "\n",
        "その関数をdf[\"content\"]に適用"
      ]
    },
    {
      "cell_type": "code",
      "execution_count": null,
      "metadata": {
        "id": "90qzPMVzKWMs"
      },
      "outputs": [],
      "source": [
        "# 関数の定義\n",
        "def parse_morphemes(text):\n",
        "  result = []\n",
        "  node = mecab_neologd.parseToNode(text)\n",
        "  while node:\n",
        "    if node.feature.split(\",\")[0] in [\"形容詞\",\"名詞\",\"動詞\"]:\n",
        "       result.append(node.surface)#表層形で抽出\n",
        "    # elif node.feature.split(\",\")[0] in [\"動詞\"]:\n",
        "    #    result.append(node.feature.split(\",\")[6])#基本形で抽出\n",
        "    node = node.next\n",
        "\n",
        "  return \" \".join(result)\n"
      ]
    },
    {
      "cell_type": "code",
      "execution_count": null,
      "metadata": {
        "id": "W1DhcdOXOv8g",
        "colab": {
          "base_uri": "https://localhost:8080/",
          "height": 414
        },
        "outputId": "1b29b2cd-d5aa-4d25-838c-2e4244e12630"
      },
      "outputs": [
        {
          "output_type": "execute_result",
          "data": {
            "text/plain": [
              "                                             content  \\\n",
              "0  まさか、号泣するとは思わず、自分でも驚いています。漫画大賞ノミネートされていたので読ました。...   \n",
              "1  最初は絵があまり好みでなく、また「好きなアイドルの子供として転生して、アイドル（母）とキャッ...   \n",
              "2  アニメ見て原作読たくなり来ました。アニメは原作を丁寧にしている分、わかりやすいし、原作は原作...   \n",
              "3  なかなか素晴らしい作品ですね。知り合いに勧められて読始めましたが、こんなにしっかり調査して下...   \n",
              "4  この作品のことはジャンプ＋を通して知っていましたが、少年誌にありがちなアイドルとファンの青春...   \n",
              "5  私も親なので、他のコメントにあるような、転生時のタイミングや赤ちゃんの発達具合に突っ込みたく...   \n",
              "6                      これからはアニメと原作、両方追いかけていきたいと思います。   \n",
              "\n",
              "                                   content_takenized  \n",
              "0  号泣 する 思わ 自分 驚い い 漫画 大賞 ノミネート さ れ い 読ま し 芸能界 事 ...  \n",
              "1  最初 絵 好み 好き アイドル 子供 転生 し アイドル 母 しながら 芸能界 目指す 話 ...  \n",
              "2  アニメ 見 原作 読 なり 来 アニメ 原作 丁寧 し いる 分 わかり やすい 原作 原作...  \n",
              "3  素晴らしい 作品 知り合い 勧め られ 読 始め 調査 し 下地 作っ 芸能界 事 描い 作...  \n",
              "4  作品 こと ジャンプ＋ 知っ い 少年誌 ありがち アイドル ファン 青春 モノ 興味 持て...  \n",
              "5  私 親 他 コメント ある よう 転生 時 タイミング 赤ちゃん 発達 具合 突っ込み なる...  \n",
              "6                               アニメ 原作 両方 追いかけ いき 思い  "
            ],
            "text/html": [
              "\n",
              "  <div id=\"df-f6309b42-9a74-4df5-8748-0fb9ab35fafe\" class=\"colab-df-container\">\n",
              "    <div>\n",
              "<style scoped>\n",
              "    .dataframe tbody tr th:only-of-type {\n",
              "        vertical-align: middle;\n",
              "    }\n",
              "\n",
              "    .dataframe tbody tr th {\n",
              "        vertical-align: top;\n",
              "    }\n",
              "\n",
              "    .dataframe thead th {\n",
              "        text-align: right;\n",
              "    }\n",
              "</style>\n",
              "<table border=\"1\" class=\"dataframe\">\n",
              "  <thead>\n",
              "    <tr style=\"text-align: right;\">\n",
              "      <th></th>\n",
              "      <th>content</th>\n",
              "      <th>content_takenized</th>\n",
              "    </tr>\n",
              "  </thead>\n",
              "  <tbody>\n",
              "    <tr>\n",
              "      <th>0</th>\n",
              "      <td>まさか、号泣するとは思わず、自分でも驚いています。漫画大賞ノミネートされていたので読ました。...</td>\n",
              "      <td>号泣 する 思わ 自分 驚い い 漫画 大賞 ノミネート さ れ い 読ま し 芸能界 事 ...</td>\n",
              "    </tr>\n",
              "    <tr>\n",
              "      <th>1</th>\n",
              "      <td>最初は絵があまり好みでなく、また「好きなアイドルの子供として転生して、アイドル（母）とキャッ...</td>\n",
              "      <td>最初 絵 好み 好き アイドル 子供 転生 し アイドル 母 しながら 芸能界 目指す 話 ...</td>\n",
              "    </tr>\n",
              "    <tr>\n",
              "      <th>2</th>\n",
              "      <td>アニメ見て原作読たくなり来ました。アニメは原作を丁寧にしている分、わかりやすいし、原作は原作...</td>\n",
              "      <td>アニメ 見 原作 読 なり 来 アニメ 原作 丁寧 し いる 分 わかり やすい 原作 原作...</td>\n",
              "    </tr>\n",
              "    <tr>\n",
              "      <th>3</th>\n",
              "      <td>なかなか素晴らしい作品ですね。知り合いに勧められて読始めましたが、こんなにしっかり調査して下...</td>\n",
              "      <td>素晴らしい 作品 知り合い 勧め られ 読 始め 調査 し 下地 作っ 芸能界 事 描い 作...</td>\n",
              "    </tr>\n",
              "    <tr>\n",
              "      <th>4</th>\n",
              "      <td>この作品のことはジャンプ＋を通して知っていましたが、少年誌にありがちなアイドルとファンの青春...</td>\n",
              "      <td>作品 こと ジャンプ＋ 知っ い 少年誌 ありがち アイドル ファン 青春 モノ 興味 持て...</td>\n",
              "    </tr>\n",
              "    <tr>\n",
              "      <th>5</th>\n",
              "      <td>私も親なので、他のコメントにあるような、転生時のタイミングや赤ちゃんの発達具合に突っ込みたく...</td>\n",
              "      <td>私 親 他 コメント ある よう 転生 時 タイミング 赤ちゃん 発達 具合 突っ込み なる...</td>\n",
              "    </tr>\n",
              "    <tr>\n",
              "      <th>6</th>\n",
              "      <td>これからはアニメと原作、両方追いかけていきたいと思います。</td>\n",
              "      <td>アニメ 原作 両方 追いかけ いき 思い</td>\n",
              "    </tr>\n",
              "  </tbody>\n",
              "</table>\n",
              "</div>\n",
              "    <div class=\"colab-df-buttons\">\n",
              "\n",
              "  <div class=\"colab-df-container\">\n",
              "    <button class=\"colab-df-convert\" onclick=\"convertToInteractive('df-f6309b42-9a74-4df5-8748-0fb9ab35fafe')\"\n",
              "            title=\"Convert this dataframe to an interactive table.\"\n",
              "            style=\"display:none;\">\n",
              "\n",
              "  <svg xmlns=\"http://www.w3.org/2000/svg\" height=\"24px\" viewBox=\"0 -960 960 960\">\n",
              "    <path d=\"M120-120v-720h720v720H120Zm60-500h600v-160H180v160Zm220 220h160v-160H400v160Zm0 220h160v-160H400v160ZM180-400h160v-160H180v160Zm440 0h160v-160H620v160ZM180-180h160v-160H180v160Zm440 0h160v-160H620v160Z\"/>\n",
              "  </svg>\n",
              "    </button>\n",
              "\n",
              "  <style>\n",
              "    .colab-df-container {\n",
              "      display:flex;\n",
              "      gap: 12px;\n",
              "    }\n",
              "\n",
              "    .colab-df-convert {\n",
              "      background-color: #E8F0FE;\n",
              "      border: none;\n",
              "      border-radius: 50%;\n",
              "      cursor: pointer;\n",
              "      display: none;\n",
              "      fill: #1967D2;\n",
              "      height: 32px;\n",
              "      padding: 0 0 0 0;\n",
              "      width: 32px;\n",
              "    }\n",
              "\n",
              "    .colab-df-convert:hover {\n",
              "      background-color: #E2EBFA;\n",
              "      box-shadow: 0px 1px 2px rgba(60, 64, 67, 0.3), 0px 1px 3px 1px rgba(60, 64, 67, 0.15);\n",
              "      fill: #174EA6;\n",
              "    }\n",
              "\n",
              "    .colab-df-buttons div {\n",
              "      margin-bottom: 4px;\n",
              "    }\n",
              "\n",
              "    [theme=dark] .colab-df-convert {\n",
              "      background-color: #3B4455;\n",
              "      fill: #D2E3FC;\n",
              "    }\n",
              "\n",
              "    [theme=dark] .colab-df-convert:hover {\n",
              "      background-color: #434B5C;\n",
              "      box-shadow: 0px 1px 3px 1px rgba(0, 0, 0, 0.15);\n",
              "      filter: drop-shadow(0px 1px 2px rgba(0, 0, 0, 0.3));\n",
              "      fill: #FFFFFF;\n",
              "    }\n",
              "  </style>\n",
              "\n",
              "    <script>\n",
              "      const buttonEl =\n",
              "        document.querySelector('#df-f6309b42-9a74-4df5-8748-0fb9ab35fafe button.colab-df-convert');\n",
              "      buttonEl.style.display =\n",
              "        google.colab.kernel.accessAllowed ? 'block' : 'none';\n",
              "\n",
              "      async function convertToInteractive(key) {\n",
              "        const element = document.querySelector('#df-f6309b42-9a74-4df5-8748-0fb9ab35fafe');\n",
              "        const dataTable =\n",
              "          await google.colab.kernel.invokeFunction('convertToInteractive',\n",
              "                                                    [key], {});\n",
              "        if (!dataTable) return;\n",
              "\n",
              "        const docLinkHtml = 'Like what you see? Visit the ' +\n",
              "          '<a target=\"_blank\" href=https://colab.research.google.com/notebooks/data_table.ipynb>data table notebook</a>'\n",
              "          + ' to learn more about interactive tables.';\n",
              "        element.innerHTML = '';\n",
              "        dataTable['output_type'] = 'display_data';\n",
              "        await google.colab.output.renderOutput(dataTable, element);\n",
              "        const docLink = document.createElement('div');\n",
              "        docLink.innerHTML = docLinkHtml;\n",
              "        element.appendChild(docLink);\n",
              "      }\n",
              "    </script>\n",
              "  </div>\n",
              "\n",
              "\n",
              "<div id=\"df-3f3c4432-b443-4ba8-a093-94d18ae470f7\">\n",
              "  <button class=\"colab-df-quickchart\" onclick=\"quickchart('df-3f3c4432-b443-4ba8-a093-94d18ae470f7')\"\n",
              "            title=\"Suggest charts\"\n",
              "            style=\"display:none;\">\n",
              "\n",
              "<svg xmlns=\"http://www.w3.org/2000/svg\" height=\"24px\"viewBox=\"0 0 24 24\"\n",
              "     width=\"24px\">\n",
              "    <g>\n",
              "        <path d=\"M19 3H5c-1.1 0-2 .9-2 2v14c0 1.1.9 2 2 2h14c1.1 0 2-.9 2-2V5c0-1.1-.9-2-2-2zM9 17H7v-7h2v7zm4 0h-2V7h2v10zm4 0h-2v-4h2v4z\"/>\n",
              "    </g>\n",
              "</svg>\n",
              "  </button>\n",
              "\n",
              "<style>\n",
              "  .colab-df-quickchart {\n",
              "      --bg-color: #E8F0FE;\n",
              "      --fill-color: #1967D2;\n",
              "      --hover-bg-color: #E2EBFA;\n",
              "      --hover-fill-color: #174EA6;\n",
              "      --disabled-fill-color: #AAA;\n",
              "      --disabled-bg-color: #DDD;\n",
              "  }\n",
              "\n",
              "  [theme=dark] .colab-df-quickchart {\n",
              "      --bg-color: #3B4455;\n",
              "      --fill-color: #D2E3FC;\n",
              "      --hover-bg-color: #434B5C;\n",
              "      --hover-fill-color: #FFFFFF;\n",
              "      --disabled-bg-color: #3B4455;\n",
              "      --disabled-fill-color: #666;\n",
              "  }\n",
              "\n",
              "  .colab-df-quickchart {\n",
              "    background-color: var(--bg-color);\n",
              "    border: none;\n",
              "    border-radius: 50%;\n",
              "    cursor: pointer;\n",
              "    display: none;\n",
              "    fill: var(--fill-color);\n",
              "    height: 32px;\n",
              "    padding: 0;\n",
              "    width: 32px;\n",
              "  }\n",
              "\n",
              "  .colab-df-quickchart:hover {\n",
              "    background-color: var(--hover-bg-color);\n",
              "    box-shadow: 0 1px 2px rgba(60, 64, 67, 0.3), 0 1px 3px 1px rgba(60, 64, 67, 0.15);\n",
              "    fill: var(--button-hover-fill-color);\n",
              "  }\n",
              "\n",
              "  .colab-df-quickchart-complete:disabled,\n",
              "  .colab-df-quickchart-complete:disabled:hover {\n",
              "    background-color: var(--disabled-bg-color);\n",
              "    fill: var(--disabled-fill-color);\n",
              "    box-shadow: none;\n",
              "  }\n",
              "\n",
              "  .colab-df-spinner {\n",
              "    border: 2px solid var(--fill-color);\n",
              "    border-color: transparent;\n",
              "    border-bottom-color: var(--fill-color);\n",
              "    animation:\n",
              "      spin 1s steps(1) infinite;\n",
              "  }\n",
              "\n",
              "  @keyframes spin {\n",
              "    0% {\n",
              "      border-color: transparent;\n",
              "      border-bottom-color: var(--fill-color);\n",
              "      border-left-color: var(--fill-color);\n",
              "    }\n",
              "    20% {\n",
              "      border-color: transparent;\n",
              "      border-left-color: var(--fill-color);\n",
              "      border-top-color: var(--fill-color);\n",
              "    }\n",
              "    30% {\n",
              "      border-color: transparent;\n",
              "      border-left-color: var(--fill-color);\n",
              "      border-top-color: var(--fill-color);\n",
              "      border-right-color: var(--fill-color);\n",
              "    }\n",
              "    40% {\n",
              "      border-color: transparent;\n",
              "      border-right-color: var(--fill-color);\n",
              "      border-top-color: var(--fill-color);\n",
              "    }\n",
              "    60% {\n",
              "      border-color: transparent;\n",
              "      border-right-color: var(--fill-color);\n",
              "    }\n",
              "    80% {\n",
              "      border-color: transparent;\n",
              "      border-right-color: var(--fill-color);\n",
              "      border-bottom-color: var(--fill-color);\n",
              "    }\n",
              "    90% {\n",
              "      border-color: transparent;\n",
              "      border-bottom-color: var(--fill-color);\n",
              "    }\n",
              "  }\n",
              "</style>\n",
              "\n",
              "  <script>\n",
              "    async function quickchart(key) {\n",
              "      const quickchartButtonEl =\n",
              "        document.querySelector('#' + key + ' button');\n",
              "      quickchartButtonEl.disabled = true;  // To prevent multiple clicks.\n",
              "      quickchartButtonEl.classList.add('colab-df-spinner');\n",
              "      try {\n",
              "        const charts = await google.colab.kernel.invokeFunction(\n",
              "            'suggestCharts', [key], {});\n",
              "      } catch (error) {\n",
              "        console.error('Error during call to suggestCharts:', error);\n",
              "      }\n",
              "      quickchartButtonEl.classList.remove('colab-df-spinner');\n",
              "      quickchartButtonEl.classList.add('colab-df-quickchart-complete');\n",
              "    }\n",
              "    (() => {\n",
              "      let quickchartButtonEl =\n",
              "        document.querySelector('#df-3f3c4432-b443-4ba8-a093-94d18ae470f7 button');\n",
              "      quickchartButtonEl.style.display =\n",
              "        google.colab.kernel.accessAllowed ? 'block' : 'none';\n",
              "    })();\n",
              "  </script>\n",
              "</div>\n",
              "\n",
              "    </div>\n",
              "  </div>\n"
            ]
          },
          "metadata": {},
          "execution_count": 24
        }
      ],
      "source": [
        "# 関数を適用して、その結果をcontent_tokenized列を作成して追加する\n",
        "df[\"content_takenized\"] = df[\"content\"].apply(parse_morphemes)\n",
        "df.head(7)\n"
      ]
    },
    {
      "cell_type": "markdown",
      "metadata": {
        "id": "hX7MHbXdRsvQ"
      },
      "source": [
        "---------- 修正（ここまで）----------"
      ]
    },
    {
      "cell_type": "markdown",
      "metadata": {
        "id": "iio-CcR5X8gX"
      },
      "source": [
        "# WordCloudで可視化"
      ]
    },
    {
      "cell_type": "code",
      "execution_count": null,
      "metadata": {
        "id": "Vq4YlHacbHDV",
        "colab": {
          "base_uri": "https://localhost:8080/"
        },
        "outputId": "7c47cfbd-7a3e-4eb9-c696-2636f280c7b6"
      },
      "outputs": [
        {
          "output_type": "stream",
          "name": "stdout",
          "text": [
            "Requirement already satisfied: wordcloud in /usr/local/lib/python3.10/dist-packages (1.9.3)\n",
            "Requirement already satisfied: numpy>=1.6.1 in /usr/local/lib/python3.10/dist-packages (from wordcloud) (1.23.5)\n",
            "Requirement already satisfied: pillow in /usr/local/lib/python3.10/dist-packages (from wordcloud) (9.4.0)\n",
            "Requirement already satisfied: matplotlib in /usr/local/lib/python3.10/dist-packages (from wordcloud) (3.7.1)\n",
            "Requirement already satisfied: contourpy>=1.0.1 in /usr/local/lib/python3.10/dist-packages (from matplotlib->wordcloud) (1.2.0)\n",
            "Requirement already satisfied: cycler>=0.10 in /usr/local/lib/python3.10/dist-packages (from matplotlib->wordcloud) (0.12.1)\n",
            "Requirement already satisfied: fonttools>=4.22.0 in /usr/local/lib/python3.10/dist-packages (from matplotlib->wordcloud) (4.47.2)\n",
            "Requirement already satisfied: kiwisolver>=1.0.1 in /usr/local/lib/python3.10/dist-packages (from matplotlib->wordcloud) (1.4.5)\n",
            "Requirement already satisfied: packaging>=20.0 in /usr/local/lib/python3.10/dist-packages (from matplotlib->wordcloud) (23.2)\n",
            "Requirement already satisfied: pyparsing>=2.3.1 in /usr/local/lib/python3.10/dist-packages (from matplotlib->wordcloud) (3.1.1)\n",
            "Requirement already satisfied: python-dateutil>=2.7 in /usr/local/lib/python3.10/dist-packages (from matplotlib->wordcloud) (2.8.2)\n",
            "Requirement already satisfied: six>=1.5 in /usr/local/lib/python3.10/dist-packages (from python-dateutil>=2.7->matplotlib->wordcloud) (1.16.0)\n"
          ]
        }
      ],
      "source": [
        "#インストール\n",
        "!pip install wordcloud"
      ]
    },
    {
      "cell_type": "code",
      "execution_count": null,
      "metadata": {
        "id": "tQK-P2uAm_GB",
        "colab": {
          "base_uri": "https://localhost:8080/"
        },
        "outputId": "a6b6c5f3-110b-4045-b0cb-dc1a0f9737bb"
      },
      "outputs": [
        {
          "output_type": "stream",
          "name": "stdout",
          "text": [
            "Reading package lists... Done\n",
            "Building dependency tree... Done\n",
            "Reading state information... Done\n",
            "The following additional packages will be installed:\n",
            "  fonts-ipafont-mincho\n",
            "The following NEW packages will be installed:\n",
            "  fonts-ipafont-gothic fonts-ipafont-mincho\n",
            "0 upgraded, 2 newly installed, 0 to remove and 24 not upgraded.\n",
            "Need to get 8,237 kB of archives.\n",
            "After this operation, 28.7 MB of additional disk space will be used.\n",
            "Get:1 http://archive.ubuntu.com/ubuntu jammy/universe amd64 fonts-ipafont-gothic all 00303-21ubuntu1 [3,513 kB]\n",
            "Get:2 http://archive.ubuntu.com/ubuntu jammy/universe amd64 fonts-ipafont-mincho all 00303-21ubuntu1 [4,724 kB]\n",
            "Fetched 8,237 kB in 2s (5,135 kB/s)\n",
            "Selecting previously unselected package fonts-ipafont-gothic.\n",
            "(Reading database ... 122062 files and directories currently installed.)\n",
            "Preparing to unpack .../fonts-ipafont-gothic_00303-21ubuntu1_all.deb ...\n",
            "Unpacking fonts-ipafont-gothic (00303-21ubuntu1) ...\n",
            "Selecting previously unselected package fonts-ipafont-mincho.\n",
            "Preparing to unpack .../fonts-ipafont-mincho_00303-21ubuntu1_all.deb ...\n",
            "Unpacking fonts-ipafont-mincho (00303-21ubuntu1) ...\n",
            "Setting up fonts-ipafont-mincho (00303-21ubuntu1) ...\n",
            "update-alternatives: using /usr/share/fonts/opentype/ipafont-mincho/ipam.ttf to provide /usr/share/fonts/truetype/fonts-japanese-mincho.ttf (fonts-japanese-mincho.ttf) in auto mode\n",
            "Setting up fonts-ipafont-gothic (00303-21ubuntu1) ...\n",
            "update-alternatives: using /usr/share/fonts/opentype/ipafont-gothic/ipag.ttf to provide /usr/share/fonts/truetype/fonts-japanese-gothic.ttf (fonts-japanese-gothic.ttf) in auto mode\n",
            "Processing triggers for fontconfig (2.13.1-4.2ubuntu5) ...\n"
          ]
        }
      ],
      "source": [
        "#日本語フォントをインストール\n",
        "!apt-get -y install fonts-ipafont-gothic"
      ]
    },
    {
      "cell_type": "code",
      "execution_count": null,
      "metadata": {
        "id": "k3U_i1nde7oo"
      },
      "outputs": [],
      "source": [
        "# インポート\n",
        "from collections import Counter\n",
        "from wordcloud import WordCloud\n",
        "import matplotlib.pyplot as plt\n",
        "from matplotlib import rcParams"
      ]
    },
    {
      "cell_type": "code",
      "execution_count": null,
      "metadata": {
        "id": "yhuZAXXD0Ufc",
        "colab": {
          "base_uri": "https://localhost:8080/"
        },
        "outputId": "bfc794ab-86db-4eb5-ad62-f575d1a7183e"
      },
      "outputs": [
        {
          "output_type": "execute_result",
          "data": {
            "text/plain": [
              "pandas.core.series.Series"
            ]
          },
          "metadata": {},
          "execution_count": 28
        }
      ],
      "source": [
        "type(df[\"content_takenized\"])"
      ]
    },
    {
      "cell_type": "code",
      "execution_count": null,
      "metadata": {
        "id": "_l9wCVh1Z6Xr",
        "colab": {
          "base_uri": "https://localhost:8080/"
        },
        "outputId": "be3edf09-d18f-49f8-edd7-dd396cc9c2c4"
      },
      "outputs": [
        {
          "output_type": "execute_result",
          "data": {
            "text/plain": [
              "0      [号泣, する, 思わ, 自分, 驚い, い, 漫画, 大賞, ノミネート, さ, れ, い...\n",
              "1      [最初, 絵, 好み, 好き, アイドル, 子供, 転生, し, アイドル, 母, しながら...\n",
              "2      [アニメ, 見, 原作, 読, なり, 来, アニメ, 原作, 丁寧, し, いる, 分, ...\n",
              "3      [素晴らしい, 作品, 知り合い, 勧め, られ, 読, 始め, 調査, し, 下地, 作っ...\n",
              "4      [作品, こと, ジャンプ＋, 知っ, い, 少年誌, ありがち, アイドル, ファン, 青...\n",
              "                             ...                        \n",
              "698    [予想, 裏切る, ストーリー展開, 連続, 面白い, 舞台, 芸能界, ところ, 非現実感...\n",
              "699    [最初, 目, 中, し, てる, 感じ, 苦手, 思っ, い, の, 内容, 面白く, 気...\n",
              "700    [紙, 書籍, 5巻, 読ま, し, 広告, 良く, 見る, 作品, 印象, 最初, 転生,...\n",
              "701    [普通, 日常生活, 味わえ, 物語, 登場人物, 達, 場面, 応じ, 喜怒哀楽, 何, ...\n",
              "702    [絵, 綺麗, 読, やすい, エピソード, 面白い, の, 天才, 漫画, 家, 脚本家,...\n",
              "Name: content_takenized, Length: 687, dtype: object"
            ]
          },
          "metadata": {},
          "execution_count": 29
        }
      ],
      "source": [
        "text = df[\"content_takenized\"]\n",
        "# テキストを単語に分割する\n",
        "words = text.str.split( )\n",
        "words"
      ]
    },
    {
      "cell_type": "code",
      "execution_count": null,
      "metadata": {
        "id": "WxnOxwW-rQG4",
        "colab": {
          "base_uri": "https://localhost:8080/"
        },
        "outputId": "7959e5d5-087c-4b93-b92f-0c5e3406e588"
      },
      "outputs": [
        {
          "output_type": "stream",
          "name": "stdout",
          "text": [
            "['号泣', 'する', '思わ', '自分', '驚い', 'い', '漫画', '大賞', 'ノミネート', 'さ', 'れ', 'い', '読ま', 'し', '芸能界', '事', '違う', '角度', '知れる', '作品', '推し', 'いる', '方', '気持ち', '分かる', '作品', '私', '推し', '居', '作品', 'のめり込ん', 'い', 'アイ', '私', '推し', 'なっ', 'い', 'の', 'しれ', '笑', '転生', '笑える', '所', 'あり', '楽しく', '見', 'いる', '時', 'あり', '私', '転生', 'ネタ', '気', 'なり', 'それ', 'ストーリー', '続き', '気', 'なる', '熱', '凄まじい', '今', '読む', '方々', '話', '数', '出て', '読', '良い', 'しれ', '笑', '続き', '読', 'たい', '熱', '苛ま', 'れる', '時期', '長い', 'の', '苦手', '方', 'ツラ', '思い', '最初', '絵', '好み', '好き', 'アイドル', '子供', '転生', 'し', 'アイドル', '母', 'しながら', '芸能界', '目指す', '話', '決めつけ', '読', 'い', '母', 'アイ', '序盤', 'ファン', 'ストーカー', 'ころさ', 'れ', 'しまい', 'ここ', '主人公', 'Aqua', '中身', '産婦人科医', 'イケメン', '男の子', '転生', '復讐', '心', '決め', '芸能界', '目指し', '最新', '話', '双子', '妹', 'ルビー', 'ちゃん', 'ターン', '始まり', '芸能界', '裏側', 'アイドル', '裏側', 'テラハ', 'よう', '番組', '裏側', '2.5次元', '舞台', '裏側', 'YouTube', '裏側', '描い', 'あり', '作者', 'さん', '取材', '勉強', 'すごく', 'し', 'こと', '伝わっ', 'き', '空想', '取材', '勉強', 'し', 'てる', '作品', '重厚', 'さ', '増し', '面白い', '中身', '医者', '外見', 'アイドル', '子', 'Aqua', 'モテ', '笑', 'そこ', '少年漫画', '感じ', 'アニメ', '見', '原作', '読', 'なり', '来', 'アニメ', '原作', '丁寧', 'し', 'いる', '分', 'わかり', 'やすい', '原作', '原作', 'いい', '感じ', '最初', '産まれ', '変わり', '匂わせ', 'て', 'ファン', '殺さ', 'れ', '転生', '魂', '入っ', 'て', '赤ちゃん', '前世', '記憶', 'ある', 'まま', '転生', 'し', 'ん', '記憶', 'ある', 'アイ', '熱烈', '愛', '持っ', 'い', 'アイ', '人', '愛する', 'こと', 'でき', 'ん', 'ここら', '辺', '泣き', 'こと', 'あり', '復讐劇', '今後', 'なる', '気', 'なり', '素晴らしい', '作品', '知り合い', '勧め', 'られ', '読', '始め', '調査', 'し', '下地', '作っ', '芸能界', '事', '描い', '作品', '無い', '思い', '夢物語', 'リアル', '世界', '夢を与える', '仕事', '大変さ', '伝わっ', 'き', '舞台', '人間', '裏方', '力', 'あっ', '世界', '端的', 'わかり', 'やすく', '描く', 'の', '難しい', 'ところ', '織り込み', 'ストーリー展開', '流石', 'いえ', '作品', 'こと', 'ジャンプ＋', '知っ', 'い', '少年誌', 'ありがち', 'アイドル', 'ファン', '青春', 'モノ', '興味', '持て', 'い', 'アニメ化', 'さ', 'れ', 'お気に入り', '海外', 'リアクター', 'さん', '絶賛', 'さ', 'れ', 'いる', 'の', '知り', 'それ', '原作', '読', 'みる', '想像', '違い', 'ミステリー', '要素', 'ある', '聞い', 'い', 'ここ', 'ただ', '恋愛', 'シンデレラストーリー', 'なかっ', '芸能界', 'ダーク', '面', 'リアル', '描か', 'れ', 'い', '話', '引きずり込ま', 'れ', '可愛らしい', '扉絵', '見', '誤解', 'し', 'い', 'ギャップ', 'いい', '私', '親', '他', 'コメント', 'ある', 'よう', '転生', '時', 'タイミング', '赤ちゃん', '発達', '具合', '突っ込み', 'なる', '気持ち', 'わかり', '笑', '細かい', 'ところ', '置い', 'とい', '単純', '展開', '面白い', '思う', '今後', 'なっ', 'いく', 'の', '楽しみ', 'アニメ', '原作', '両方', '追いかけ', 'いき', '思い', '無料', '分', '読', '面白', 'さ', 'わから', '断念', '一巻', '無料', 'の', 'あっ', '人気', '出', 'き', 'るし', '読', 'みる', 'かー', '思っ', '読', 'み', 'ぇぇ', 'ーーー', '来', 'アイドル', 'サクセスストーリー', 'サスペンス', '近い', '続き', '気', 'なり', 'oshinoko', 'oshinoko', '供', 'こと', '自分', 'oshinoko', '供', '産まれ', 'かわる', 'おもわ', '面白い', '犯人', '捜し', 'それぞれ', '早く', 'お互い', '前世', '気づか', '人気', 'よう', '読', '始め', '展開', 'びっくり', 'アイドル', 'シンデレラストーリー', '的', 'の', '想像', 'し', 'い', 'ストーリー', '引き込ま', 'れ', 'これ', '人気', 'でる', 'の', '納得', '中1', '娘', '読て', 'ほしい', '勧め', 'られ', '読', '漫画', 'ー', '娘', 'これ', '面白い', '思う', 'の', 'ねっ', '考え', '冷静', '読', '若者', '虜', 'する', 'ストーリー', '感心', 'し', '見', '無料', '分', '読', '終える', '集中', 'さ', 'せ', 'くれ', '前', '知っ', 'い', 'の', '普段', '読ま', 'ジャンル', 'YOASOBI', '歌詞', '興味', '持っ', '読', '始め', 'ハマり', '泣く', '読ま', '嫌い', '辞め', '前半', '笑える', 'シーン', '多め', '前世', '記憶', '持っ', 'まま', '推し', '産まれ', 'くる', '推し', 'いる', '人', '誰', '憧れる', 'ストーリー', '双子', '兄', '前世', '医師', '幼児', '腹部', '大動脈', '言い出す', '妹', 'アイ', '実母', '熱狂的', 'ファン', '兄', 'アイ', 'ファン', '妹', '方', '熱量', '高', 'すぎ', 'w', '全部', '読め', '続き', '楽しみ', '毎日', '芸能界', 'せかい', '嘘', '武器', '地方都市', '産婦人科医', '働く', 'Gorou', '芸能界', '無縁', '日々', '彼', '推し', 'アイドル', '星野', 'アイ', 'スターダム', '上り', '始め', 'い', '二人', '最悪', '出会い', '果たし', '運命', '動き出す', '前', '気', 'なっ', '読ま', 'し', '途中', '読む', 'の', '諦め', 'アニメ', '流行っ', 'いる', '知り', '読む', 'の', '再開', '途中', 'なっ', 'いく', '楽しみ', '面白い', 'シリアス', '笑い', 'サスペンス', '恋愛', 'バランス', '良し', 'ビジュアル', '良し', 'キャラ', '良し', 'ストーリー', '良し', '流行っ', 'てる', '無料', '分', '手', '出し', 'しまい', '課金', '上', 'ア', 'プラ', 'アニメ', '追っ', 'ちゃう', '始末', 'アイドル', '漫画', '思っ', 'じゃなくて', 'ダーク', '雰囲気', 'つきまとう', '社会', '派', '漫画', '前世', '記憶', '持ち', '転生', 'し', '大きく', 'なっ', 'いく', 'の', '年齢', '到達', 'する', '気持ち', 'なる', 'の', '前世', '家族', '会い', 'なら', 'の', '気', 'なる', 'なる', 'ストーリー', 'ややこしく', 'なる', 'そっち', 'ない', 'の', '黒幕', 'い', '登場', 'する', 'の', '楽しみ', '流行り', '押さ', 'れ', '無料', '版', 'ところ', '読ま', 'し', '業界', '裏', 'リアル', '引き込ま', 'れる', '内容', '読', '漫画', '溜まっ', 'いる', '有料', '話', '読', 'いき', '思い', 'アニメ', '放送', '非難', 'さ', 'れ', 'てる', '場面', 'ネット', '影響力', '負けないで', '女優', '立ち上がっ', 'それ', '支え', '皆', '努力', '凄く', '嬉しかっ', '最近', '流行り', '転生', 'モノ', '現代', '産まれ', '変わる', '話', '始まり', '楽しい', '面白い', '作品', 'アニメ化', 'なっ', 'の', '嬉しかっ', '最高', 'アニメ', '見', '漫画', '来', 'アイ', '大好き', 'かわい', 'すぎ', 'たくさん', '女の子', 'いる', 'アイ', '惹か', 'れ', '続き', '楽しみ', 'B', '小町', '最高', '単純', '主人公', '推し', 'アイドル', '苦難', '乗り越え', 'のしあがっ', 'いく', 'お話', 'おもっ', '違っ', 'い', '産婦人科医', '主人公', '推し', 'アイドル', '極秘', '出産', '協力', 'する', 'ところ', '始まっ', '命', '奪わ', 'れ', '推し', 'アイドル', '子', '転生', 'する', '意表', 'つく', 'ストーリー', '芸能人', 'い', 'そう', '話', '有り', 'そう', '思い', '読', 'い', '途中', '推理小説', 'よう', '話', '進ん', '行く', '無料', '分', '読', 'い', '課金', 'し', 'ちゃう', '思い', '4話', '見', 'い', '転生', 'モノ', 'の', '複雑', '周り', '面白い', '話題', 'し', 'いる', '見', 'いく', '内', 'ハマる', 'の', '今後', '展開', '楽しみ', 'し', '大体', '心身', '共', '美しかっ', '自分', '見', 'ナルシスト', '傲慢', '事', '思わ', 'アイドル', 'なら', '思う', 'アイ', 'プロ', 'アイドル', '人として', '素敵', '女性', 'ココ', '最近', '1番', 'ハマっ', '漫画', '単行本', '全巻', '揃え', 'の', '何', '年', 'ぶり', '笑', '誰か', '話', '話', '1話', '90分', 'の', 'アイドル', 'アイ', '芸能界', 'アイドル', '成長', 'し', 'いく', '様子', '見', '読者', 'そこ', 'Aqua', '復讐劇', '見', '読者', '区別', 'する', 'ため', '1話', '長く', '内容', '濃い', 'もの', 'なっ', '話し', 'い', 'それ', '1話', '盛りだくさん', 'いい', '意味', '裏切られる', '作品', 'にも', '気持ち', '持っ', 'いか', 'れる', '作品', 'あり', 'アニメ', '見', 'コミック', '読', '始め', '子供', '面白い', '進め', 'き', 'アイドル', '思い', '見る', '気', 'なれ', '見', '子供', 'プレゼン', 'さ', 'れ', '面白', 'そう', '話', '思っ', 'アニメ', '見', 'ド', 'まり', 'し', '決めつけ', 'ダメ', '面白', 'すぎ', 'oshinoko', 'そ', 'ー', 'いう', '意味', '序盤', 'わかり', '16歳', 'アイドル', '話', 'では', 'なく', '子供達', '話', 'プラス', 'ミステリー', '前世', '記憶', '持つ', '双子', '赤ちゃん', 'の', 'しゃべり', 'まくり', '面白', 'すぎ', '知っ', 'もらい', '表紙', '雰囲気', '好き', 'タイプ', '思い', '一', '話', '読む', 'つもり', '気付け', '読', '進ん', '可愛らし', 'さ', '面白', 'さ', 'あれ', '泣ける', 'シーン', 'あっ', '最初', 'ノンストップ', '引き込ま', 'れ', 'いき', '転生', '現実', '要素', 'あっ', '芸能界', '事情', '仕事内容', '丁寧', '描か', 'れ', 'いる', 'こと', '違和感', 'なく', '上手く', 'バランス', '取れ', 'いる', '思い', 'これ', '面白い', 'ひ読', 'ほしい', 'oshinoko', '聞い', 'アイドル', '裏', 'はやる', 'こと', 'やっ', 'てる', '的', 'ストーリー', '想像', 'し', 'それ', '何', '面白い', '思い', '違う', '推し', '患者', 'さん', '推し', '彼女', '亡くなっ', '後', '引き継い', '感じ', '医者', '自分', 'oshinoko', '転生', 'し', 'てる', '双子', '片割れ', 'ちゃん', '亡くなっ', '患者', 'さん', '転生', '推し', 'アイドル', '母', 'ストーカー', '殺さ', 'れ', 'るし', 'アニメ化', 'ここ', '見', '原作', '興味', 'もち', '原作', 'アニメ', '共', 'オススメ', '私', '転生', 'する', '系', '話', '好き', 'あり', 'イケ', 'て', '主人公', 'お姫様', 'イケメン', '転生', 'し', 'いい', '思い', 'する', '都合', '良', 'すぎる', '展開', 'し', '今', '生活', '絶望', 'し', 'いる', '人', '死', '選ぶ', '背中', '押し', 'いる', 'よう', '気', 'し', '嫌悪感', 'あり', '作品', '冒頭', 'アイドル', '子供', '転生', 'する', 'ストーリー', 'オタク', '感', '強く', 'このまま', '推し', 'アイドル', '生活', '毎日', 'ドキドキ', 'し', '成長', 'し', 'いく', '話', 'ん', '思っ', 'い', '序盤', 'アイドル', '死亡', 'そこ', '子供たち', '決意', 'その後', '展開', '目', '離せ', 'もの', '読', '良かっ', '惹き', '込ま', 'れる', 'ストーリー', '違う', 'ところ', '数', '話', '読', 'oshinoko', '供', '転生', 'し', '双子', '設定', 'ムリ', 'ムリ', 'ww', '拒絶', 'し', 'しまい', 'その後', '読', 'い', 'ここ', '続き', '読む', 'こと', 'これ', '売れ', 'てる', 'www', '正直', '上', '目線', '凄い', '嫌', '読者', '読ま', 'し', 'その後', '急転直下', 'シリアス', 'ストーリー', '丁寧', '取材', 'し', 'の', '芸能界', 'シビア', '裏側', '惹か', 'れ', '12話', 'ひ読', 'ほしい', '数', '話', '読', '辞め', '奴', '力強く', '勧め', '作品', '母', '娘', 'ハマっ', 'しまっ', 'かぐや様は告らせたい', '作者', '方', '原作', '担当', 'し', 'いる', '知り', '興味', '湧き', '別', '方', 'おっしゃる', 'の', 'よう', '私', 'ん', '1巻', '表紙', '絵', '好み', 'ん', '思い', '推し', '単語', '出', 'き', '時点', 'お約束', 'アイドル', '萌え', '萌え〜', '古い', '感じ', '偏見', 'あり', '読', 'みる', '凄い', '深い', '登場人物', '関係性', '複雑', 'さ', '衝撃', 'エピソード', '連続', '読', '進め', 'い', 'られ', 'なり', '萌え', '萌え', 'とんでも', '考え', 'させ', 'られ', 'せつなく', 'なっ', '事実', 'モチーフ', 'した', 'エピソード', 'あり', '現実', '酷く', '悲しい', '出来事', '漫画', 'よう', '展開', '思わ', 'い', 'られ', 'なり', '惹き', '込ま', 'れ', '目まぐるしく', '展開', 'さ', 'れる', 'ストーリー', '釘付け', 'なり', '前述', '通り', 'いくつか', 'これ', '事件', '基', 'し', 'てる', 'ん', '売れ', '作品', '作者', '今', '見', '訳者', '感じ', 'ん', '考え', 'させ', 'られる', '内容', 'いくつか', 'ある', 'どこか', '現実', 'クロスオーバー', 'さ', 'せ', 'しまい', 'そう', '味わい深い', '作品', '思い', 'タイトル', 'oshinoko', 'ダブルミーニング', 'たくさん', '意味合い', '含ん', 'でる', 'ん', '思わ', 'せる', 'ストーリー展開', 'これ', '面白い', '告', 'ら', 'せ', 'oshinoko', '読ま', 'せる', '作品', '生みだし', 'いく', '赤坂アカ', '先生', '凄い', '思わ', 'い', 'られ', 'アカ', '先生', '原作', '笑い', 'あり', '思っ', '違う', '良い意味', '裏切ら', 'れ', 'アイ', '子供達', 'メイン', '重い', '面白い', '先生', '好き', '2', '5次', '実写化', '想い', 'ある', 'の', '舞台', '向ける', '熱', '中身', '中年', '男子', '目', '前', '愛する', '推し', '亡くし', '重たい', '目', 'し', '主人公', '自分', '父親', '探す', '為', '舞台', '立つ', '役者', 'なっ', 'いく', 'Aqua', '引き込ま', 'れ', 'しまう', 'の', '流石', 'ルビー', 'Aqua', '気', 'なる', '謎', '作品', '中', 'アイドル', 'アイちゃん', '登場', 'し', '他', '作品', '登場', 'アイドル', '違っ', '惹か', 'れ', '実在', 'し', 'い', 'アイちゃん', '推し', 'なる', 'の', '間違い', 'それ', 'アイちゃん', '魅せ', 'られ', '不思議', 'アイちゃん', '亡くなっ', 'しまう', 'の', '登場', 'する', '回想シーン', '見', '為', '読', '進め', 'いる', '感じ', 'レビュー', '書い', 'い', '自分', 'アイちゃん', '推し', '確信', '持ち', 'アイドル', '好み', '人', 'それぞれ', '思い', 'おすすめ', 'アニメ', 'ハマり', '主人公', '思っ', 'い', 'Gorou', 'とゆう', '衝撃', '的', '一話', '幕', '開け', 'oshinoko', '供', '転生', 'する', 'とゆう', 'にも', '驚き', 'そこ', '衝撃', '続く', '途中', '続き', '楽しみ', '無料', '分', '読', 'み', 'テンポ', '早く', '面白', 'さ', 'わかり', 'なる', '部分', '多く', 'て続き', '読', '思い', '読', 'こと', 'なく', 'アニメ', '見', 'YOASOBI', 'アイドル', 'potify', '流れ', 'き', 'そこ', 'これ', '何', 'なん', 'そりゃ', '漫画', '大賞', '漫画', '大賞', '受賞', '作', 'ハズレ', 'なく', 'ハマる', '読む', '先入観', 'これ', '読ま', '情報', '集め', '自分', '恥じる', 'くっ', 'そ', '私', '馬鹿野郎', '結局', '読', 'でる', 'ん', '読', '始める', '時間', '惜しく', '感じる', '横槍', 'さん', '描く', '女の子', '可愛い', 'クズの本懐', 'レトルトパウチ', 'レトルトパウチ', 'キャラ', '魅力的', 'エロ', 'く', '最高', 'oshinoko', 'エロ', 'み', '過去作', '比較', 'する', 'ない', '推し', '概念', '昔', 'あっ', '今', '多様', '使わ', 'れ', 'い', 'すごく', '現代', 'っぽい', '思い', '今回', 'Aqua', '頭脳派', '思考', '説明', 'し', 'くれる', '作者', '頭の良さ', 'Aqua', '落とし込ま', 'れ', 'いる', '感じ', '最初', '転生', 'モノ', '絵柄', 'し', 'コメディ', '的', '感じ', '思っ', '読', '進め', 'い', '期待', '裏切ら', 'れ', '良い意味', '手', '漫画', '苦手', '人', '勧め', 'られ', '読ま', '読', 'み', '面白く', 'ハマっ', 'Aqua', '達', 'お父さん', '誰', 'なのか', 'アイ', '命', '奪う', 'よう', '仕向け', 'の', '誰', 'なのか', 'し', '楽しみ', '読め', '漫画', 'なめ', 'いけ', '読む', '前', 'アイドル', '推し', '活', 'する', 'ファン', '物語', 'なのかな', '軽い', '気持ち', '読', '進め', '行く', '連れ', 'シリアス', '展開', 'なり', '目', '離せ', '無料', '分', '読', 'いる', 'ところ', '社会問題', 'なっ', '出来事', 'リアリティ', 'ショー', '出演者', '自殺', 'モチーフ', 'なっ', 'おぼし', 'き話', '傷', '付い', '出演者', '救お', '共演', '者', 'たち', '奮闘', 'する', '描写', '胸', '熱く', 'なり', 'こども', '見', 'い', 'アニメ', 'きっかけ', '読', 'み', '面白く', 'て続き', '気', 'なり', '雑人', '犯人', '知り', '作品', '評価', '高い', 'の', '正直', '分かり', 'アイドル', '１６才', '双子', '妊娠', '出産', '父親', '事', '一切', '言わ', 'まま', '事務所', 'よく', 'OK', 'し', '有り得', '感想', 'YOASOBI', '来', 'ー', '曲', 'リンク', '仕方', 'エグ', 'い', '天才', 'キャッキャウフフ', '転生', '物', '思い', '最新', '話', '一気', '読', 'し', '大人', 'サスペンス', 'ダーク', '臭', '漂っ', 'い', 'それ', '余計', '芸能界', '華やかさ', '裏側', 'リアル', '表現', 'さ', 'れ', 'い', '思い', '今後', '伏線', '回収', '期待', '大', '話題', '読', 'み', '2.5次元', '舞台', 'ところ', '読ま', 'し', '女の子', 'たち', '見分け', 'つか', 'セリフ', '推測', 'し', 'い', 'お話', '面白い', '読', '進めよ', '思い', '無料', '分', '読ま', 'し', '続き', 'ポイント', '入っ', '読ま', 'す', 'アニメ', '見', '何', 'YOASOBI', '主題歌', '凄い', '歌詞', '中', '主人公', '達', '名前', '入っ', 'い', '愛', 'アイ', '掛かっ', 'いる', 'アイ', '最後', 'セリフ', '全て', '盛り込ま', 'れ', 'い', 'ゾクゾク', 'し', 'ダウンロード', '一', '位', '納得', 'アニメ', '漫画', '続き', '楽しみ', 'Aqua', '君', '復讐', 'なる', 'の', '見守り', 'ここ', '芸能界', '裏', '話', '描い', '下さる', '漫画', '他', '知ら', 'めちゃくちゃ', '面白い', '完結', '付き合い', '最初', '事件', '飛ん', 'い', '面白い', '続き', '面白', 'さ', '継続', 'する', '疑問', '細やか', 'キャラ', '性格', '違い', '面白い', '続き', '楽しみ', '話題', 'なっ', 'い', '読', '始め', '想像', 'し', 'い', '内容', '違っ', 'い', '引き込ま', 'れ', 'い', '先', 'なっ', 'いく', 'の', '気', 'なる', '作品', '推し', 'てる', 'ボーイズ', 'グループ', 'メンバー', '面白い', 'ラジオ', '言っ', 'て', '検索', 'し', '一部', '無料', '期間', '読', '始め', '思っ', 'い', 'の', '展開', '違っ', 'い', 'キャラ', 'みんな', '魅力', '的', 'ストーリー', '面白く', '一日', '配信', 'さ', 'れ', 'てる', '全部', '一', '気', '読', 'し', 'しまっ', '推理小説', '演劇', '物', '好きな人', '絶対', 'ハマる', 'オススメ', '先', '気', 'なっ', '仕方', '早く', '出', '漫画', '離れ', 'し', 'い', '方', 'おすすめ', 'できる', '展開', '早い', 'キャラクター', '魅力的', '引き込ま', 'れる', '作品', '魅せ', '方', 'うまい', 'YOASOBI', '曲', '人気', '読', 'み', 'ん', 'ハマり', '芸能界', 'ストーリー', '面白い', '人気', 'なっ', 'い', '読む', 'つもり', 'なかっ', '内容', 'びっくり', '聞い', 'い', '話', '違っ', '面白い', '先', '気', 'なり', '注目', 'し', 'いき', '読ま', '嫌い', 'もったいない', '面白い', '途中', '転生', 'モノ', '思っ', 'い', 'アイドル', '芸能界', '求め', 'られる', 'もの', '考え', 'うら', '事情', '育っ', 'いく', '双子', 'それぞれ', '活躍', 'し', 'いく', 'の', '復讐', 'できる', 'の', '気', 'なる', '魅力', '夢中', 'なり', '想像', 'し', 'い', 'の', '違っ', 'ストーリー', '表紙', 'アイドル', '女のコ', '主人公', '話', 'すすむ', '思っ', 'て', 'アイドル', 'ファン', '話', '転生', '系', '死ん', '謎', 'っぽい', 'とこ', 'あっ', 'コミカル', 'イメージ', 'いい', '意味', '裏切ら', 'れ', '気', 'なる', '漫画', 'メディア', '絵', '最高', 'うまい', '神', '絵師', '聞い', '読', 'み', 'どこ', '人体', 'デッサン', '狂い', 'たおし', 'とる', '確か', 'バスト', 'ショット', 'ギリギリ', '絵', '上手', '漫画家', 'さん', '言え', 'ない', '引き', '絵', '壊滅', '的', '全身', '描け', 'い', '関節', '人体', 'パーツ', '理解度', '足り', 'い', '靴', 'カバン', '些細な', '小物', '観察', 'し', '描く', 'の', 'でき', 'い', 'アイドル', '興味', 'なく', '話', '引き込ま', 'れる', 'アニメ', '進行', '具合', '読', 'シンクロ', 'し', 'てる', 'ー', 'アニメ', '原作', '違和感', 'ない', 'の', 'Aqua', 'ルビー', '好き', 'アニメ', '話題', 'なっ', 'いる', '読', 'み', '主人公', '産科', '医', 'Gorou', '勤務先', '極秘', '出産', 'する', 'アイドル', 'アイ', '知り合い', 'ひょんな事', '不審死', '遂げ', 'アイ', '産ん', '双子', '1人', '転生', 'し', '破天荒', 'Gorou', '死', '本当', 'いきさつ', '何', 'なのか', 'ミステリー', '風味', 'あり', '読ま', 'せ', '転生', 'し', 'Gorou', 'アイ', '子', '産まれ', '双子', '片割れ', '他', '人間', '転生', 'し', 'おり', '2人', 'やりとり', 'コミカル', '部分', '面白い', 'の', '普段', '読ま', 'ら', '読', '止まら', 'なっ', 'い', '中毒', '性', 'あり', 'はじめ', 'アイドル', '子供', '育て', 'いく', '話', 'おもっ', 'い', 'なかっ', '主人公', '復讐劇', '合間', '芸能界', '闇', 'みえる', '面白い', '最初', 'ヒロイン', '死ん', 'しまう', 'ところ', 'スタート', '衝撃', '序盤', '読', '感情', '表し', '方', '怖い', '絵', '感じ', 'し', '勝手', 'オタク', 'アイドル', '目指し', 'いく', '話', 'かなっ', '思っ', 'て', 'アニメ化', 'さ', 'れ', 'てる', 'の', '知り', '見', '完全', '変わり', '序盤', '主人公', 'ストーカー', '殺さ', 'れ', '双子', '子供たち', '復讐', 'する', 'とゆう', '展開', '漫画', '見', '無料', '分', '読め', 'て', 'ポイント', '貯まれ', '読', 'いき', '娘', '騒い', 'い', '気', 'なり', '見', 'み', '大人', 'ハマり', '面白い', '無料', '待て', '課金', '繰り返し', 'ちゃい', '人気', '無料', '分', '読', '進め', 'い', '単行本', '買お', '悩み', '中', 'アニメ', '見よ', '夫', '勧め', 'られ', 'oshinoko', '産まれ', '変わり', '母', '推し', '事件', '犯人', '追い詰める', 'ため', '生きる', '聞い', '転生', 'モノ', '思い', '興味', '持て', 'の', '無料', '思っ', '読', '面白い', 'アイドル', '裏', '描か', 'れ', 'いる', '思い', 'メディア', '化', 'さ', 'れる', 'こと', '楽しみ', 'し', 'い', 'アニメ', '入り', '漫画', '面白い', 'はじめ', 'オタク', 'みたい', '漫画', 'かなり', '偏見', '違い', 'アニメ主題歌', 'アイドル', 'すごく', '好き', 'アニメ', '見', '原作', '読', '始め', '絵', 'アニメ', '比べ', '雑感', 'ある', 'ストーリー', '面白い', '話題', 'なっ', 'て', '期待', 'せ', '読', '始め', 'かぐや', '様', 'ん', '絵', '雑', 'く', '感じ', 'アニメ', '観', 'れる', '漫画', 'イマイチ', '話', '面白い', 'まぁこ', '漫画', '雑', 'さ', '感じ', '読', '進める', 'oshinoko', 'アイ', 'こと', '思い', 'oshinoko', '供', '復讐', 'ため', '芸能界入り', '黒い', '部分', '人気', '出る', '理由', 'ん', '先', '気', 'なり', '転生', 'モノ', '苦手', 'すごく', '話題', '読', 'み', 'はじめ', '話', 'ベース', 'わから', 'インタビュー', '始まっ', '読', 'い', '思い', '12話', '最後', 'なる', 'ここ', '話', 'はじまる', 'の', '納得', 'し', '引き込ま', 'れ', '最初', '方', '読', '芸能界', '闇', '深さ', '人間', '欲深', 'さ', '垣間見る', 'よう', '漫画', 'の', '思い', 'YOASOBI', '曲', 'アニメ', '息子', 'お話', 'たどり着く', '前', 'ところ', 'オススメ', 'さ', 'れ', '勧め', 'られれ', '勧め', 'られる', 'ほど', '天邪鬼', '気分', 'なり', 'www', '見', '始め', 'ビックリ', '面白い', 'ない', 'かー', 'い', 'www', 'アニメ', '目', 'エライ', '色', 'なっ', 'い', 'アニメ', 'アニメ', 'し', '感じ', '苦手', 'こちら', 'ほう', '好き', 'アニメ', '飛ん', 'き', 'アニメ', 'すごく', '面白い', '原作', '面白く', 'わけ', '期待', 'し', 'み', '最高', 'アイ', '可愛く', 'なっ', '推し', 'なっ', 'いく', '展開', '怖い', '興味', '惹か', 'れる', '登場人物', 'ストーリー', '続き', '気', 'なっ', 'たまらない', '最初', '1巻', '最新巻', '全く', '別', 'カラー', '話し', 'なっ', 'てる', '東京', 'リベンジャーズ', '舞台', '設定', 'ヤンキー', '芸能界', 'タイムリープ', '転生', '掛け合わ', 'せ', 'いる', 'ハマる', '時系列', '追い', '考察', '伏線', '回収', 'し', '予想', 'し', 'なる', '読', 'しまう', 'わけ', 'すごーく', '軽い', '気持ち', '読', '始め', 'ん', '最初', '衝撃', '展開', '繰り広げ', 'られ', 'サスペンス', 'チック', '心', '準備', '出来', 'い', '怖く', 'なり', '汗', '読', 'いく', 'うち', '登場人物', 'それぞれ', '愛着', 'わき', '感情移入', 'し', 'ちゃう', 'よう', 'なっ', '先々', '展開', '楽しみ', 'なり', '萌え', '系', '転生', '物語', 'おもっ', 'い', '意外', 'ストーリー', '破綻', 'なく', '目的', '明確', '見', 'い', '気持ち', '良い', '漫画', '応援', 'し', 'なっ', 'ちゃう', '続き', '楽', 'み', 'Twitter', '広告', 'みかけ', 'て', '度', '気', 'なっ', 'い', 'スルー', '気', 'なる', '気持ち', '押さえ', 'きれ', 'コミ', '購読', 'し', '他', '転生', 'モノ', 'よう', '分から', '世界', '飛ぶ', 'わけ', 'アイドル', '話し', '基本', '面白い', '個人的', 'おもい', '転生', 'はじめ', 'し', '飛ん', '設定', '展開', 'いっ', 'ぱいあってちょっとびっくりする', '事', 'あり', 'そこ', '面白かっ', 'アイ', 'ころさ', 'れ', 'しまう', 'の', '悲し', 'すぎ', '読', '途中', '以前', '最初', '方', '読', 'こと', 'ある', 'の', '話題作', 'なっ', 'い', '読', '先', '楽しみ', '漫画', '見', 'アニメ', 'み', 'アニメ', '方', '先', '進ん', 'い', '確か', '表紙', '絵', '見る', 'アイドル', '漫画', '毛嫌い', 'し', '読', 'み', '産まれ', '変わり', '2人', '感じ', '続き', '気', 'なり', '始め', '個人的', 'Aqua', 'ルビー', 'い', 'タイミング', 'お互い', '正体', '知る', 'こと', 'なる', 'の', '楽しみ', 'アニメ', '話題', 'なっ', 'い', '事', '作画', '感じ', 'タダ', 'アイドル', '薄っぺら', 'い', '話', '思い', '登場人物', '作り', '込ま', 'れ', 'キャラクター設定', '重い', '話', 'あっ', 'ミステリー', '要素', 'あっ', '意外', '意外性', '惹か', 'れ', '話', '数', '進む', '読', '始め', '世界', '観', '引き込ま', 'れ', 'しまう', 'ハマっ', 'しまい', 'アニメ', '話題', '女の子', '可愛い', '思い', '内容', 'わから', '絵', '可愛い', 'の', '絵', 'ポップ', '可愛い', 'お話', 'ダーク', 'すぎ', 'ギャップ', '癖', 'なっ', 'ちゃう', '作品', '先', 'テレビ', 'み', '原作', '気', 'なり', '読', '始め', '面白い', '転生', 'し', 'アイドル', '子供', 'なっ', 'ウハウハ', 'みたい', 'ラブコメ', '思っ', '復讐', 'もの', '設定', 'めちゃくちゃ', '細かい', '芸能界', 'こと', '詳しく', '調べ', 'の', '展開', '楽しみ', 'アニメ', '来', 'はじめ', 'アイドル', 'お話', '思っ', 'い', '奥', '深い', '芸能界', '闇', '取り込ま', 'れ', 'い', '引き込ま', 'れ', '読', 'しまい', '先', '楽しみ', 'なり', 'おすすめ', '所', '何回', '出', '来', 'アイドル', '話', '興味', 'なかっ', '読', 'み', 'ハマり', '推し', 'アイドル', '子供', '転生', 'する', '話', 'の', '思っ', '読', '進め', 'いく', '転生', 'する', '前', '自分', 'アイ', '殺し', 'ファン', 'けしかけ', 'アイ', '子供', '父親', '誰', 'の', '芸能界', '入っ', '探し出そ', 'する', '話', '絵', '可愛い', '続き', '気', 'なる', '作品', '最初', '変わっ', '転生', 'モノ', '読', 'アイ', '死', '事件', 'きっかけ', 'ストーリー', '急激', '加速', 'そこ', '本当', 'スタート', 'の', 'アイ', 'サブ', '主人公', '思っ', '読', '事件', '起き', '時', 'ショック', '…。', '衝撃', '展開', '後', 'そこ', 'なっ', 'いく', 'の', '楽しみ', '話題', '上がっ', 'い', '作品', '見', 'み', 'アイドル', '興味', 'ない', '感情移入', 'し', 'にくい', '部分', 'あり', 'それ', 'さておき', '展開', '不思議', '読', '進め', 'みよ', '思わ', 'せる', '新しい', 'ストーリー', '思い', '転生', 'モノ', 'いう', '好き', 'タイトル', '意味', '分かっ', '夢中', 'これ', '考え', '人', 'すごい', 'な！', '面白かっ', '私', '現実世界', 'アイドル', 'ドラマ', '恋愛', 'リアリティ', 'ショー', '一切', '興味', 'ない', '作品', '興味', '持っ', '読める', '転生', 'し', '彼ら', '最後', 'どこ', '行き着く', 'の', 'メディア', '目', 'し', '気', 'なっ', 'い', 'の', '読', 'みる', '面白く', 'びっくり', 'し', 'アイドルオタク', '的', '内容', '思っ', '転生', '者', 'すごく', '面白い', 'お勧め', 'タイトル', '書い', 'アニメ版', '入っ', '今', '現在', '漫画', '夢中', 'アニメ版', '見', '最初', 'Aqua', '話', 'ルビー', '話', '交互', 'する', 'の', '思っ', 'い', 'ほぼほぼ', '３', '巻', 'Aqua', '中心', '復讐劇', '感じ', '展開', '見え', '購入', '楽しみ', '君', '完璧', '究極', 'アイドル', '一つ', '気', 'なる', 'の', '赤ちゃん', '全く', '赤ちゃん', '見え', 'こと', '2歳', '設定', '無理', 'ある', 'の', '現在', 'アニメ化', 'さ', 'れ', 'いる', '人気', '作品', 'ん', '興味', '本意', '読ま', 'し', 'ある', '異世界', '転生', 'じゃなくて', 'びっくり', '自分', '推し', 'てる', 'アイドル', '隠し子', '転生', 'こと', 'ん', '復讐', 'からむ', '複雑', '内容', 'アイドル', '業界', '裏側', '知る', 'こと', 'できる', '面白い', '内容', '作品', 'ヤングジャンプ', '連載', 'し', 'いる', 'こと', '知っ', 'い', 'アイドル', '明るい', '努力', '物語', '的', 'もの', '想像', 'し', 'い', 'サスペンス', '驚き', '面白い', '思っ', 'い', '以上', 'いう', 'はるか', '超え', '重厚', '物語', '驚き', '惹き', '込ま', 'れ', '無料', '分', '読切り', 'これはすごい', 'テレビ', '取り上げ', 'られ', 'い', '知っ', 'い', 'の', '当時', 'そこ', '興味', 'なかっ', 'の', '最後', '読', '思い', '冒頭', 'いう', 'かなり', '先', '展開', '過ぎ', 'ノリ', 'ついていけ', 'つまらなかっ', '話題', 'なっ', 'い', '頑張っ', '読', '進め', 'み', '正解', '途中', '変わっ', 'これ', '作者', '始め', '意図', 'し', '描い', 'き', 'もの', '思う', '読', '直し', 'みれ', '最初', 'ノリ', '間違っ', 'い', '思え', '楽しい', 'お話', 'すごい', '歌', 'ヒット', 'し', 'い', '歌詞', '愛ちゃん', 'そのもの', '次', '話', '楽しみ', '話題', 'なっ', 'てる', 'すごく', '気', 'なっ', 'て', '想像', '絶する', '面白', 'さ', 'タイトル', 'し', 'アイドル', '系', '物語', 'の', '思っ', 'て', '転生', '系', 'サスペンス', 'ビックリ', '誰', '犯人', '事件', '真相', '分から', '1話', '目', 'oshinoko', 'そ', 'ー', 'ゆ', 'ー', '意味', 'の', 'そこ', '序盤', 'し', 'かぐや様は告らせたい', 'ノリ', '似', 'てる', '思っ', '原作者', '見', '赤坂アカ', 'そりゃ', '似', 'てる', '思っ', '絵', 'つら', 'れ', '赤坂アカ', '画風', '近く', 'なる', '時', 'ある', '天才', '話', '書く', '天才', '言っ', '感じ', '作者', '人', '良さ', 'にじみ出', 'てる', '漫画', 'サイト', '読ま', 'し', '前半', 'めちゃくちゃ', '面白かっ', '最新', '話', 'あたり', 'なる', 'なる', 'はやく', '進展', '希望', 'アイ', 'ルビー', 'Aqua', 'みんな', '最高', 'アイドル', '生い立ち', '気', 'し', 'い', 'アイ', '行動', '感情', '育っ', '環境', '影響', 'し', 'い', 'ん', 'それ', '分かっ', 'すごく', '知り', 'なっ', 'アイ', '殺める', 'よう', '仕向け', '実行犯', '突き', 'とめ', 'なっ', 'Aqua', '応援', 'し', 'てる', 'アニメ', '見', 'て', 'アニメ', 'だーと', '目', '止め', 'こうゆう', 'アイドル', '推し', '好き', 'ジャンル', 'ん', '思い', '読', '想像', 'し', 'て', 'の', 'ちがっ', '良い意味', 'なん', 'アニメ化', 'さ', 'れ', '動画サイト', '視聴', 'ランキング', '上位', 'の', 'わかっ', '読', 'み', '面白かっ', '無料', '読める', 'の', 'ありがたい', '転生', 'モノ', '知ら', '読ま', 'し', 'なっ', 'かー', '続き', '楽しみ', '犯罪者', '今後', '展開', '関係', 'し', 'くる', 'の', '11話', '嫌い', 'なり', '読む', 'しれ', 'アイちゃん', 'し', 'アカン', '絵', '好き', 'ん', '2', 'アイ', '死', 'ルビー', 'Aqua', 'マリン', '2人', '子供', 'ストーリー', 'なっ', 'いき', '見どころ', 'アイ', '死', '直前', '子供', '2人', '愛', '持っ', '愛してる', '言え', 'ところ', 'アイドル', '業界', 'みたい', 'ところ', 'リアル', '描い', 'ある', 'そこ', '楽しめる', 'ポイント', '最初', '転生', 'モノ', '思い', '読', '進め', 'いく', 'あっ', '語彙力', '読', 'い', 'たま', '女の子', '絵', '顔', '似通っ', 'い', '子', '思う', '事', 'ある', '星', '一つ', '減らし', '芸能界', '裏', '垣間見れ', 'し', '面白い', 'Aqua', 'くん', '自身', '状態', 'いる', 'の', '今後', '気', 'なり', '推し', 'アイドル', '子供', 'アイドル', '担当', '医', '主人公', '男性', '医師', '産まれ', '変わっ', 'き', 'これ', '産まれ', '変わっ', '来', 'の', '主人公', '死ぬ', '前', 'アイドル', '妊娠', 'し', 'い', 'ん', '産まれ', '変わり', '違う', 'よう', '気', 'する', '魂', '胎児', '乗り移っ', 'みたい', '感じ', '疑問', '思い', '原作', '読', 'アニメ', '原作', '戻っ', 'き', '作品', '異質', '感じ', 'し', '特別', '感', 'あり', '中身', 'すごく', 'くる', 'もの', 'あり', '考え', 'させ', 'られる', 'いう', '人生', '勉強', 'なり', 'ひたむき', '姿', '惹か', 'れ', '現実', '分かり', 'オススメ', 'かわいらしい', 'アイドル', '表紙', '推し', '女の子', '主人公', '甘酸っぱい', '気持ち', '描い', 'もの', '勝手', '想い', '無料', '作品', '読ま', 'し', 'oshinoko', '違い', 'ん', '叫ば', 'い', 'られ', '驚き', '内容', '読', '進め', 'い', 'ポイント', '追加', 'し', 'まくっ', 'しまい', 'そう', '話し', '内容', '惹き', 'つけ', 'られ', 'いく', 'それ', '待っ', 'くれ', '展開', '速さ', '医者', 'アイドル', '話し', '思っ', '主人公', 'ﾀﾋ', '転生', '系', '思っ', 'アイドル', 'ﾀﾋ', 'じゃっ', '復讐', '物語', 'なる', 'アニメ化', 'さ', 'れる', 'の', '納得', '面白い', '可愛い', 'アイドル', '進撃', '魅せ', 'くれる', '漫画', '思っ', '読', '来', '違う', '感じ', 'ダーク', '面', '強い', '面白い', '作画', 'ゴテゴテ', 'し', 'て', '可愛らしい', '次作', '楽しみ', '応援', 'し', 'アニメ', '面白く', '漫画', '読', 'み', '絵', '可愛い', '話', '面白く', '先', '気', 'なる', '登場人物', 'みんな', '魅力', '的', '楽しい', 'おすすめ', 'し', '友だち', '勧め', 'られ', '読ま', 'し', '思っ', '以上', '面白い', '読', '進め', 'い', '展開', '気', 'なる', '読ま', 'す', '放映', 'さ', 'れ', 'いる', '面白い', 'みんな', '思う', '思い', '他', '似たりよったり', 'アイドル', '話', 'ある', 'の', 'これ', 'ちがっ', 'アイドル', '話', 'ある', 'ミステリー', '的', '要素', 'ある', '楽しめ', '無料', '分', '読', 'み', '記号', '意味', '何', '思っ', 'て', 'oshinoko', '意味', 'の', 'タイトル', 'やら', 'れ', '感じ', '内容', '評価', '高かっ', '普通', '人物', '書き分け', '微妙', '誰', 'なる', '最後', 'アイ', '殺し', '犯人', '分かれ', 'いい', 'アニメ', 'み', '読', 'き', 'ーアニメ', 'めちゃくちゃ', '面白かっ', 'ー', '想像', 'し', 'て', 'の', 'ちがう', 'ー', '読ま', 'す', 'アニメ化', 'さ', 'れる', 'の', '納得', '初め', 'オタク', '系', '漫画', '思い', '期待', 'せ', '読', '始め', 'ハマっ', 'しまっ', '双子', '父親', '誰', 'なのか', 'アイ', '殺し', 'の', '誰', 'なのか', '黒幕', 'いる', 'の', '気', 'なる', '漫画', '大賞', 'ノミネート', 'さ', 'れ', '事', '読', 'み', '6話', '読む', '気', '失せ', '設定', '面白い', '思い', '物語', '全体', '流れる', '救い', 'ない', '暗い', '感じ', '苦手', '暗い', '話', '苦手', '訳', '後味', '悪い', 'ん', '主人公', '見', 'てる', '人', '焼き', '尽くす', 'よう', '魅力', '感じ', 'られ', '応援', 'し', '思え', 'ススメ', 'られ', '読', '始め', '冒頭', '出来事', '整理', 'でき', '笑笑', '意味', '思い', '読', '進め', '息子', '説明', 'し', 'くれ', 'わか', 'なく', '無料', 'あっ', '読', 'み', 'ブラック', '面白い', '読', 'み', 'oshinoko', '意味', '分から', 'まま', '読', 'み', 'そ', 'ー', 'いう', 'こと', '納得', '話', '展開', '変わり', 'すぎ', '頭', '中', 'ついていけ', '気', 'なり', 'アイドル', '昇っ', 'いく', 'よう', '話', '思っ', '予想', '斜め上', 'いっ', 'アイドル', '双子', '産ん', 'アイドル', '殺さ', 'れ', '残っ', '子供たち', '物語', 'めちゃくちゃ', '面白い', 'ネット', '広告', 'み', 'こちら', '購入', 'し', 'アイドル', '興味', 'ない', 'タイプ', 'アイ', '明るい', '何', 'あり', 'そう', '雰囲気', '惹か', 'れ', '読ま', 'し', '大筋', '部分', 'それ', '進ん', 'いく', 'キャラクター', 'たち', '芸能活動', 'パワー', '人間模様', '引き込ま', 'れ', '話題', 'こちら', '娘', 'きい', '知り', '読', 'み', '設定', 'SF', 'チック', 'ところ', 'あり', '心理', '描写', '面', 'すごく', '興味深く', 'ただ', 'SF', 'コメディ', '感じ', '2023', '05', '31', '現在', '配信', 'さ', 'れ', 'いる', 'もの', '全部', '読ま', 'し', '最初', '絵', '好き', 'なかっ', '登場人物', 'どれ', '個性的', '愛着', 'わい', 'ハマっ', 'いき', '復讐', 'カード', '揃っ', '今', '向かっ', 'いく', 'の', '楽しみ', '人気', 'の', '知っ', 'て', '表紙', '見', '推し', '活', '楽しい', '話', '思っ', '読', 'アニメ化', 'なっ', 'あらすじ', '知っ', '試し', '読', 'し', '面白かっ', 'ー', '主人公', '追う', '謎', '気', 'なる', '芸能界', 'ネットリテラシー', '現代社会', '考え', 'させ', 'られる', '漫画', '入り口', '入っ', '見慣れ', '風景', '眺め', 'い', 'どんでん返し', '起こっ', '驚く', 'こと', '間違い', 'なし', '芸能', '世界', '片鱗', '触れる', 'よし', '犯人', '探し', '楽しむ', 'よし', '読む', '人', '受け取り', '方', '変わる', '物語', '面白', 'さ', 'ハマっ', '欲しい', '思っ', 'て', '以上', '作り', '込ま', 'れ', 'い', 'タイトル', '単純', 'アイドル', '話', '思っ', '推し', '産ん', '子供', '話', 'こと', 'ん', 'アイドル', '好き', '読む', 'の', '避け', 'い', '転生', '復讐', '話', '軸', 'あり', '他', 'ない', '展開', '着地', '点', '気', 'なり', '息子', '勧め', 'られ', '見', '始め', 'アニメ', '勧め', 'られ', '見', 'い', '隣り', 'アニメ', '素晴らし', 'さ', '語る', '息子', '解説', 'つい', 'い', '正直', '面白い', 'の', 'わかり', '双子', 'ちゃん', '可愛い', 'の', '息子', '絶賛', 'し', 'いる', '星', '5', '読', '始め', '噂', '通り', '面白い', '漫画', 'アイドル', 'それ', '16歳', '妊娠', 'ビックリ', '展開', '主人公', 'なくなっ', 'アイドル', '子供', '転生', 'する', '夢', 'ある', '展開', '面白い', 'これ', '続き', '全部', '制覇', 'し', 'ただ', 'アイドル', 'オタク', '話', '思っ', 'い', '一話', 'ラスト', 'びっくり', 'し', 'タイトル', 'oshinoko', '意味', 'なり', '笑', '転生', 'モノ', '苦手', 'これ', '話', '設定', '入っ', 'くる', '読', 'やすい', 'アニメ', '見', '漫画', '読', 'なり', '読', 'み', '面白い', '作品', 'あっ', '知ら', '続き', '気', 'なり', 'リアル', '芸能', '界', '裏', 'かい', 'ある', 'よう', 'ストーリー', '面白く', '読ま', 'し', '続き', '気', 'なり', 'oshinoko', 'ゆう意味', '思っ', 'い', '推し', 'てる', 'アイドル', '子供', '事', 'みたい', '子供', '双子', '片方', '病院', '先生', 'ん', '産まれ', '変わっ', '好き', 'アイドル', '子', '子供', 'なっ', '今', 'ところ', '辺', '面白い', 'の', '分から', '無料', '3話', '読ま', 'し', '16歳', 'アイドル', '妊娠', '出産', 'なく', 'ない', '話', '子供', '子供', '生ん', '好き', 'こと', 'やっ', 'てる', '親', '見え', '瞳', '中', '星', '子供', '名前', '過ぎる', 'ネーム', '後', '心', '惹か', 'れる', '展開', 'なる', 'しれ', '読む', 'の', '疲れ', 'やめ', '作品', '存在', '知っ', '絵柄', 'タイトル', 'アイドル', '漫画', 'かー', '興味', '持ち', '芸人', 'さん', 'テレビ', 'こちら', '作品', '紹介', 'し', 'の', '観', '読', 'み', '面白い', 'ミステリー', 'サスペンス', '要素', '含ん', 'るし', '今後', '気', 'なり', '友人', '進め', 'られ', '読ま', 'し', 'ストーリー', '難しく', '行く', '感じ', 'あり', '読む', 'の', 'やめ', '個人', '的', '意見', '笑い', 'あり', 'リアリティ', 'あり', '現実', '的', '切な', 'さ', 'あっ', 'ミステリー', 'あっ', '要素', '詰まっ', '気づけ', 'ハマり', 'し', 'しまっ', '抜け出せ', 'アニメ', 'なっ', '話題', 'なっ', 'いる', '気', 'なっ', '漫画', '見', 'みよ', '思い', '無料', '分', '読', 'ところ', '読む', '前', '読', '後', '印象', '違う', '漫画', '作者', 'アカ', '先生', '作品', '好き', '他', '作品', '課金', 'し', '見', 'ちゃう', '思い', 'アニメ', '話題', 'なっ', 'い', '主題歌', 'YOASOBI', 'なっ', 'い', 'アニメ', '漫画', '両方', '見', 'み', '最初', 'すぎ', '無理', '思っ', 'アイ', '刺さ', 'れる', 'ところ', 'ウル', 'し', '最後', '見', 'て', '最後', '見', 'しれ', 'Netflix', 'オススメ', '予告', '推し', 'アイドル', '子供', '育てる', '話', '思っ', 'て', '違っ', 'そっち', '納得', '途中', '読め', '面白く', 'て続き', '気', 'なり', '表紙', 'タイトル', 'し', 'アイドル', 'もの', '思っ', '思っ', '違う', '状態', '１話', '目', '？？？', 'みたい', '展開', '驚かさ', 'れ', '続き', 'ものすごく', '気', 'なる', '作品', 'ひとつ', '残念', 'の', '絵', '雑', '感じる', 'ところ', 'アイドル', 'もの', '思っ', 'い', '読', 'みる', '普通', 'アイドル', 'では', 'なく', '特殊', '設定', '面白かっ', '割', '序盤', 'ショッキング', '出来事', '起こり', 'その後', '平和', '言え', '展開', '続き', 'そこ', '面白かっ', '絵柄', 'かわいく', 'アニメ', 'ハマり', 'し', '漫画', '読', 'アニメ', '1話', '漫画', '1巻', '衝撃', '半端ない', '想像', 'し', 'て', '上', 'いく', '36話', '読', '軽い', 'アイドル', '芸能界', '話', '思い', '転生', 'する', 'ヒロイン', '思っ', 'て', 'アイ', '死ぬ', '予想', '大きく', '上回る', '展開', '夢中', 'なっ', '読', 'Aqua', '復讐', '始まる', 'の', '思う', 'する', '今後', '楽しみ', '絵', '可愛い', '美男', '美女', '登場', 'し', '学生', 'アイドル', '十代', '芸能人', 'たち', '関わる', '主人公', '様々', '顔', '見', 'られ', '周り', '支える', '大人', 'たち', '主人公', 'サポート', 'し', '一番', '好き', 'キャラ', '社長', '夫人', 'つまり', '人', 'づ', 'ポップ', '話', '思っ', 'の', '意外', 'ミステリー', '的', '読', 'で', '楽しい', '私事', '自分', 'アイドルヲタク', '作品', '中', '双子', '言葉', 'アイ', '嘘', '愛', '共感', 'する', '場面', '多く', '面白かっ', '今後', '展開', '気', 'なり', 'oshinoko', '子', '意味', '読', 'わかり', '複雑', '展開', 'アイドル', '鏡', 'の', '思わさ', 'れ', '題名', 'アイドル', '応援', 'する', '物語', '思っ', 'い', '意味', 'ある', 'ん', '一つ', '意味', 'あっ', 'こと', '続き', '気', 'なる', '話', 'ポイント', '変え', '続き', '読め', 'いる', 'ん', '気', 'なっ', '仕方がない', 'アニメ', '見', 'ハマっ', '原作', '漫画', '面白い', 'ハマっ', 'いる', '友達', '多く', '読', 'み', 'すごく', 'アニメ', '漫画', '忠実', '最初', '第一話', '切なく', '辛かっ', 'の', '可愛く', '育つ', 'Aqua', 'ルビー', '謎解き', 'たまらない', '純粋', '嘘', '作ら', 'れ', '偶像', '前', '事', 'なる', 'の', '今', '芸能人', '人権', 'ある', 'みたい', '現代', '転生', 'ある', '題材', '伏線', '先', '解っ', 'しまう', '面白く', '読', '進ん', 'しまう', '純粋', '嘘', '打算', '極めれ', '最強', '転生', 'し', '大成', 'する', '系', '話', '好き', 'ん', '表紙', '絵', 'つま', 'づき', '手', 'つけ', 'い', '面白かっ', 'oshinoko', 'こと', '推し', 'い', '人', '恋人', 'なる', 'の', '思い', '子供', '思っ', 'サスペンス', '要素', 'あり', 'ハマり', 'そう', '流行っ', 'いる', '聞い', '前', '読', '時', '面白', 'さ', 'わから', '友達', '面白い', '言わ', 'れ', '読', 'み', '面白く', '最新', '話', '読', 'しまっ', '犯人', '父親', '未成年', '頃', 'あっ', 'の', 'しれ', '頭', 'おかしい', '結末', 'なる', 'の', '気', 'なる', 'YouTube', 'アニメ化', '予告', '見', '気', 'なっ', 'しまい', '無料', '分', '思っ', '見', '始め', '思っ', '面白く', '課金', 'し', 'しまい', '途中', 'くだり', 'ながい', '思っ', '課金', 'し', 'て', 'ところ', 'ある', '後半', '面白く', 'なっ', 'き', '続き', '楽しみ', '今', 'ところ', '展開', '速く', 'ー', '産科', '医', '推し', 'アイドル', '出産', '関わる', 'こと', 'なっ', 'ー', '残念', '亡くなり', 'なっ', '転生', 'し', 'アイドル', '子供', 'なっ', 'ところ', 'いう', 'ストーリー', '評価', '高い', 'ここ', '展開', 'する', 'の', '気', 'なり', 'まーす', 'プロローグ', '長い', '医者', 'oshinoko', '転生', 'する', 'プロローグ', '思い', 'それ', 'プロローグ', 'プロローグ', '思わ', '重い', '展開', 'なっ', 'しまっ', 'の', 'そこ', 'ギャグ', '配分', '絶妙', '飽き', 'アニメ化', 'し', '話題', 'なっ', 'い', '無料', '分', '読', 'い', 'タイトル', '意味', '読', 'みる', 'こと', '驚き', '新しい', '他', '方', 'レビュー', '読む', 'サスペンス', '要素', 'ある', 'よう', '楽しみ', 'アニメ', 'あわせ', '見', 'みよ', '思い', '面白い', '驚き', '1巻', '途中', '話', '飛ん', '入り込め', '個々', 'キャラクター', '信念', '心', '打た', 'れ', 'セリフ', 'セリフ', 'マッチ', 'した絵', '綺麗', 'さ', '感動', 'し', '泣き', '続き', '読', 'たい', '題名', '意味', 'こと', '大好き', 'アイドル', '妊娠', 'し', '復帰', '支え', 'いく', 'ストーリー', '思っ', '子供', 'なっ', '産まれ', '変わる', '衝撃', 'ストーリー', '無い', 'ストーリー', '面白い', 'ポイント', '入っ', '読も', '思っ', '1話', '2話', '流れ', 'びっくり', 'し', 'そっか', 'ら', '本編', '誰', 'がよく', 'いう', '産まれ', '変わり', '現世', '記憶', 'ある', 'まま', 'oshinoko', '供', '産まれ', '変われ', '幸せ', 'そう', 'いや', 'コレ', '片親', '幸せ', 'アイドル', 'ある', '少女漫画', '思っ', '期待', 'せ', '読', '始め', '話題', 'なっ', 'てる', '気持ち', '読', 'み', '転生', 'モノ', 'あり', 'サスペンス', '要素', 'あり', 'ただ', '少女漫画', '設定', '面白い', '先', '気', 'なり', '新しい', 'ジャンル', '転生', 'モノ', 'アイドル', 'ファン', '医者', '患者', '死後', 'ファン', 'アイドル', '子供', '転生', 'し', '数年', '後', 'アイドル', '殺さ', 'れ', 'しまい', '母親', '死に', '追いやっ', '人物', '探る', '為', '主人公', '芸能界', '関係', '者', '探し', 'アニメ', '見', 'ストーリー', '気', 'なっ', '検索', 'し', 'ところ', 'あっ', '…。', 'なけれ', '諦め', '笑', 'ハマっ', 'しまい', '読ま', 'し', 'ただ', 'アイドル', '話', '思っ', 'ちがう', 'サスペンス', '要素', 'ゾクゾク', 'し', 'ArimaKana', 'かな', 'ちゃん', '好き', '一番', '人間味', 'あっ', '良い', '子', '思う', 'oshinoko', '題名', '意味', '繋がっ', 'て', '話', '考える', 'の', '大変', 'ろう', 'なっ', '感心', 'する', '区切り', '区切り', '話', '引き延ばさ', '進む', 'ストレス', 'oshinoko', '最近', '所', '見かける', '面白い', 'の', '軽率', '読だし', '止まら', 'w', 'これ', 'ヤバイ', 'なに', 'やばいっ', '読', '分かる', 'オ', 'ススメ!', '小さい', '頃', '30才', 'ジャンプ', '毎週', 'かかさ', '読', 'ある時', '境', '卒業', '最近', 'ジャンプ', '過去', 'イチ', '盛り上がっ', 'てる', 'テレビ', '見', 'とき', '表紙', '漫画', '読', 'み', '確か', 'これ', '面白い', '思い', 'アンド', '予想', '外', '連続', '展開', '続き', '気', 'なり', '子供', '産まれ', '今', 'アイ', '最後', 'シーン', '気持ち', '分かり', 'すぎ', 'ありえ', '号泣', '犯人', '追い詰め', 'いく', 'の', '目', '離せ', 'アニメ化', 'あり', '話題作', '勝手', 'アイドル', '駆け', '上がり', 'ストーリー', '思い込ん', '見', 'い', 'の', '妹', '本筋', '転生', 'サスペンス', '聞い', '一読', 'めちゃめちゃ', '面白く', '一気', '読', '産まれ', '変わり', '出て', '生き', 'し', 'そっち', '方', 'いく', 'の', 'しれ', '不安', 'なる', 'このまま', 'おも', '白い', 'こと', 'なり', 'そう', '変え', '欲しい', '軽く', 'バカ', 'っぽく', 'いい加減', '世界', '嘘', '愛', '言い切る', 'の', '気に入っ', '刺さ', 'れ', '亡くなっ', '怖い', '描写', 'ある', 'それぞれ', '各々', '抱え', 'てる', 'もの', '見え', 'ある', '思う', 'oshinoko', '意味', '思っ', 'い', '意外', 'ストーリー', '双子', 'ちゃん', '可愛く', 'Ai', 'ちゃん', '可愛く', '楽しく', 'み', 'い', 'ふつー', 'アイドル', '成長', 'ストーリー', '思い', '一話', 'ラスト', 'Ai', 'ちゃん', '死ん', 'びっくり', 'サスペンス', 'の', '漫画', '読', 'なり', '無料', '分', '読', '進め', '絵', '可愛い', '犯人', 'こども', '父親', '誰', 'ん', 'アニメ', '先', '観', '漫画', '気', 'なっ', 'い', '見つけ', 'アニメ', '1話', '観', 'なく', '息子', '聞い', 'あらすじ', '今回', '無料', '部分', '見つけ', '読', '面白かっ', 'アニメ', '毎週', '見よ', '思う', 'アニメ化', '話題', 'なっ', 'い', '無料', '分', '読', '始め', 'ド', 'まり', 'し', 'あり', '得', '話', 'あり', '奥', '深く', '意外性', 'ある', 'ストーリー', '引き込ま', 'れ', 'コミック', '全巻', '買う', '迷い', '中', '歌手', 'Lisa', 'さん', '1番', '気', 'なる', '漫画', '紹介', 'し', 'て', '読', 'み', 'サスガ', '面白い', '新感覚', '転生', 'モノ', '好き', '方', 'すれ', '普通な', 'かな', '私', '出会っ', 'ジャンル', '面白かっ', '課金', 'する', '価値', '大', '感情', 'もっ', 'いか', 'れ', '普通', 'アイドル', '漫画', 'アニメ', '並行', 'し', '漫画', '読', '欲しい', '深く', '一人一人', 'キャラ設定', 'し', 'い', '現実世界', '戻っ', '来れ', 'なり', '老若男女', '問わ', '読', 'ほしい', '日本', '芸能界', '調べ', 'い', 'すっごく', '知っ', '気', 'なる', '表紙', '可愛い', 'アイドル', 'みたい', '食わず嫌い', 'もったいない', '一巻', '分', '読', 'ほしい', '芸能界', '裏側', 'えぐる', '問題作', 'それ', 'ある', '今', '世', 'あふれ', 'かえる', '転生', '物', '作品', 'たち', 'これ', '転生', '言っ', 'いる', 'よう', '凡百', 'それ', 'もの', '挑戦', '状', '叩きつける', 'よう', '言い過ぎ', 'アイドル', '子供', '転生', 'し', 'き', '双子', 'ファン', 'せい', '亡くなっ', 'しまっ', 'アイドル', '母', '思い', '復讐', '自分', 'アイドル', '目指し', 'それぞれ', '道', '進ん', 'いっ', '途中', '読', '続き', '読', 'みたい', '二人', '転生', 'し', 'たん', 'ヲタゲー', '可愛', 'すぎ', 'ん', 'お宅', '逆襲', 'こわい', 'ﾍﾟﾋﾞｰｽﾞ', '強く', 'わろ', '漫画', '最初', '数', '話', '読', 'おら', 'なん', 'はまら', '途中', '読む', 'の', '辞め', 'ちゃい', 'アニメ', '始まり', 'そっち', 'ほう', 'はまり', '内容', 'いい', 'タイトル', 'アイドル', '話', 'の', '惹か', 'れ', 'ん', 'TV', '紹介', 'さ', 'れ', 'て', '面白い', '手', '評判', 'いう', 'チラ見', 'し', 'み', 'ハマっ', 'い', '産まれ', '変わり', '話', '続き', '気', 'なっ', '仕方がない', '若い', '頃', '自分', '推し', 'アイドルグループ', '今', '芸能界', '活躍', 'し', 'てる', 'oshinoko', '供', '状況', '自分', 'テンション', '上がる', 'の', '思い', '読', '為', '他', '漫画', '読む', 'ポイント', '無く', 'し', 'ちゃい', '笑', '毎日', '一', '話', '読', 'い', 'アニメ', '話題', 'なっ', 'いる', '聞き', '興味', '持ち', '最初', '転生', 'モノ', '思っ', 'い', '衝撃', '展開', '迎え', '作品', '読む', '目', '変わり', '先', '楽しみ', 'ドルオタ', 'すごく', '考え', 'させ', 'られる', '部分', 'あっ', 'タイトル', '意味', '知り', 'なっ', '後', '生活', '別れ', '涙し', 'しまっ', '不思議', '双子', '成長', '過程', '2周目', '歪み', 'もち', '人間くさい', '心理', '描写', '最高', '絵', '綺麗', 'さ', '引き込ま', 'れ', 'アイドル', '事', '描い', 'てる', '思い', '凄まじい', 'もの', 'あり', '作中', 'リアリティ', 'ショー', '出演', '誹謗中傷', '原因', '自殺', '遂げる', '女性', '時間', '下敷き', 'し', '展開', '組み込ま', 'れ', 'おり', '読む', 'の', '辛く', 'なる', '程', 'oshinoko', 'タイトル', '想像', 'し', 'い', '内容', '違い', '良い意味', '予想', '裏切ら', 'れ', '推し', 'アイドル', '絡む', '犯罪', '巻き込ま', 'れ', '殺さ', 'れ', '主人公', '推し', '産ん', '子供', 'お話', '先', '読', 'なる', '作品', 'アカ', '先生', '天才', '大好き', '転生', 'モノ', 'の', 'サスペンス', '要素', 'あり', 'アイドル', '芸能', '界', '裏側', 'リアル', '重い', 'の', '恋愛', '要素', 'あり', '犯人', '今後', '恋模様', '気', 'なり', '医師', '守秘義務', 'あっ', 'どこ', '誰', '聞か', 'れ', '患者', '受診', 'し', 'いる', 'こと', '偽名', '使っ', 'いる', 'こと', '言い', '意味', '違和感', 'あり', '私', '分から', '男性', 'アイドル', '好き', '共鳴', 'する', 'ところ', 'ある', 'の', 'タイトル', '見る', '売れ', 'いる', 'の', '設定', '粗', 'さ', '許容範囲', '表紙', 'キャラ', '死な', 'せ', '衝撃', '展開', '笑', '許せ', '技量', '不足', 'ごまかす', 'ため', '手段', '取る', '完結', '読ま', 'キャラ', '不憫', 'すぎる', 'あと', '宣伝', '鬱陶しい', '視界', '入る', 'YOASOBI', '曲', '知ら', '推し', 'アイドル', '話', '読む', '気', 'なら', 'の', '無料', '読', 'み', '意外', 'お話', '最初', '数', '話', '読', 'い', '気', 'なり', '話題', 'oshinoko', 'ある', 'し', 'アイドル', 'もの', '思っ', 'い', 'の', '良い意味', '裏切ら', 'れ', '思っ', 'ダーク', '内容', 'スタート', 'ここ', '展開', 'し', '行く', 'の', '気', 'なり', '別', 'サイト', '何', '話', '無料', '配信', 'さ', 'れ', 'い', '続き', '気', 'なり', '以前', '登録', 'し', 'て', 'こちら', 'サイト', '一気', '読', 'し', '一言', '言う', '面白い', 'おすすめ', 'アラフィフ', '私', '面白く', '読ま', 'せ', '貰っ', '嘘', '突き通せ', '本モノ', 'なる', '転生', 'てほん', 'ある', 'の', '前世', '記憶', '持っ', 'まま', '転生', 'し', 'さして', 'メリット', 'ない', '人生', '送っ', 'てる', '現在', 'バブ', 'バカ', 'やり直し', 'する', '記憶', '持っ', 'てる', '方', 'マシ', 'w', 'いい', 'oshinoko', 'なり', '子供', '映画', '観', 'き', 'いう', '読', 'み', '転生', 'モノ', '自分', '感性', '鈍っ', 'てる', 'の', 'ストーリー', '入り込め', '離脱', '年代', '楽しめる', '漫画', 'ある', '感想', '広告', '見かけ', '気', 'なっ', 'て', '作品', 'の', '笑える', '作品', '最初', '思っ', 'い', 'シリアス', 'なっ', 'ゆき', '一人一人', '人間ドラマ', '引き込ま', 'れ', 'ゆき', '泣け', '実父', '真実', '今後', 'めちゃくちゃ', '気', 'なり', '可愛い', '面白い', '思っ', 'て', 'W', '主人公', '違っ', '主人公', '作者', '推し', 'キャラ', 'の', 'キャラ', 'すごい', '贔屓', 'さ', 'れ', 'てる', 'の', '気', 'なり', '主人公', 'あれ', 'みたい', '最初', 'アイドル', '好き', '医者', 'さん', 'お話', 'の', '思っ', '亡くなり', '転生', 'アイドル', 'その子', 'お話', 'の', '思っ', 'アイドル', '亡くなる', '裏切ら', 'れ', '漫画', 'なかっ', '子供', '勧め', 'られ', 'アニメ', '見', '面白く', 'コミック', 'ある', 'の', '知ら', '無料', '楽しみ', '増え', '話題', '読', 'み', 'はまり', '転生', 'かー', '思っ', 'アイ', '亡くなる', 'ところ', '涙し', 'ミステリー', '要素', 'あり', '双子', '芸能界', '飛躍', 'ストーリー', 'あり', '買っ', 'しまい', '子供', 'アニメ', 'MV', '見', '歌っ', 'て', 'いま', 'アニメ', 'やっ', 'てる', 'ん', '軽い', '気持ち', '読', '始め', '思っ', 'て', '展開', 'エグ', 'いとこ', 'ろ', 'あっ', 'ビックリ', 'これ', '大人', '向け', '面白い', 'アニメ', '読', 'き', 'アニメ', 'ほう', '作画', 'すごい', '赤坂アカ', 'かぐや', '様', '作者', 'さん', 'ポップ', 'キッチュ', 'ダーク', 'かん', '色々', '要素', '入り乱れ', '翻弄', 'さ', 'れ', 'いい', '意味', '先', '読め', 'アニメ', '方', '1巻', '2巻', '読', '進め', 'すごい', '引き込ま', 'れる', '作品', 'かぐや様は告らせたい', '知ら', 'それ', '合わせ', '読', '進め', '思い', '話題', 'なっ', 'い', '気', 'なっ', '読', 'み', '思っ', 'い', 'の', '良い意味', '全く', '違い', '良い', '作品', 'アニメ', '見', '思い', '読', 'みる', '作品', '出会える', 'ん', '発見', 'タイトル', '触り', '部分', '妊娠', 'し', 'アイドル', '変わら', '推す', '的', '話', '思っ', '読', '始め', 'あまり', '展開', 'のところ', '二度', '驚い', 'い', '先', 'なっ', 'いく', 'の', '楽しみ', '面白い', 'タイトル', 'アイドル', 'もの', 'もの', '思っ', 'て', 'アイドル', '母', '誰', '陰謀', '死ん', 'の', '父親', '誰', 'なのか', '双子', 'なる', 'の', 'サスペンス', '感じ', '面白い', '評判', 'いい', 'みたい', 'アイドル', '的', '軽い', '気持ち', '読', 'み', 'ない', 'これ', 'むちゃくちゃ', '面白い', 'キャラ', 'みんな', 'いい', 'すごい', '続き', 'さき', '気', 'なる', '華やか', '世界', 'ミステリアス', '闇', '深く', '絵', '最高', 'ストーリ', '引き込ま', 'れ', 'しまう', '続き', '気', 'なっ', '仕方', 'なくなる', '伏線', '張ら', 'れ', 'い', '回収', 'さ', 'れ', 'いく', 'ん', '思う', 'の', 'ほんとうに', '話', 'テンポ', 'いい', '続き', '読', 'しまい', 'Aqua', 'かな', 'ちゃん', 'くっつい', 'ほしい', '今後', 'なる', '楽しみ', '最初', '頃', 'テンポ', '良さ', 'びつくり', '展開', '驚き', 'づつ', 'テンポ', 'なり', '真相', '遠い', '感じ', 'し', 'き', 'スピードアップ', '望む', '感じ', '面白い', 'oshinoko', '供', '産まれ', '変わる', 'こと', 'あったらいいな', '思わ', 'せ', 'くれる', '話', '思い', '推し', '殺さ', 'れ', '復讐', '生きる', '子供', '話', 'なり', 'サスペンス', '色', '強く', 'なっ', '最初', '読む', 'の', 'やめ', '良かっ', '転生', 'モノ', '泣ける', 'の', 'あまり', '無い', 'コレ', '泣ける', 'アニメ化', 'さ', 'れ', 'てる', '作品', '失敗', 'しな', 'そう', '気', 'する', '鬼', '滅', 'みたい', '間', '空け', 'ツークール', '続け', '欲しい', '願う', 'oshinoko', '供', '産まれ', 'き', '生きる', '人生', '新しい', '内容', '初め', '面白く', '可愛く', '読', 'いけ', 'ママ', '死ん', 'じゃう', 'あたり', '真面目', '読', 'い', '双子', '未来', '書い', '欲しい', 'アイドル', '漫画', '言え', 'アイドル活動', '頑張る', 'ファン', '推し', '活', 'メイン', '描く', 'こと', '多い', 'こちら', '昨日', '自分', 'oshinoko', '産まれ', '変わる', '設定', '好き', '流行り', '乗っ', '読', '始め', '序盤', '展開', '気', 'なり', 'すぎる', '頭', '中', 'アイドル', '流れ', 'い', 'タイトル', '見', '想像', 'し', 'い', 'の', '違い', '単純', 'アイドル', 'アイドル', 'ファン', '転生', '物', 'ストーリー', '進む', '連れ', 'ミステリアス', '印象', '変わり', '面白い', '知人', 'おすすめ', 'さ', 'れ', '一巻', '読', 'み', '凄', 'すぎ', '絵', '頭', '鮮明', '焼き付く', '感じ', 'うち', 'アイ', 'マジモン', '嘘吐き', 'とこ', '一瞬', '持っ', 'いか', 'れ', 'ファン', 'アイドル', 'ありき', 'ストーリー', '思い', '転生', 'ミステリー', 'お仕事', 'もの', '読め', '広がり', 'すぎ', '収拾', 'つか', 'こと', 'なら', 'よう', '頑張っ', 'ほしい', '課金', 'し', '読ま', 'す', 'タイトル', '絵', 'みる', 'アイドル', '系', '思い', 'がち', '奥深く', '感動', 'する', '名作', '中', '名作', 'アニメ化', 'する', 'の', '納得', '何', 'ストーリー', '知らず', '話題', 'なっ', 'てる', 'やつ', '思っ', '読', '進め', '予想外', 'すぎる', '展開', 'びっくり', 'これ', '続き', '気', 'なる', 'YOASOBI', '歌', 'アイドル', '聴い', '漫画', '見', 'みよ', '思い', '見', 'み', '思っ', 'い', '人', '亡くなる', '歌', '好き', '娘', '見せ', 'られ', '大人', '楽しく', 'みれ', '一巻', '読', '展開', '早く', '終わる', 'の', '思っ', 'こと', 'なく', 'サスペンス', '的', '部分', 'あっ', '面白い', '個人的', '最終的', '2人', '転生', 'し', 'みたい', 'ところ', '見', 'アイドル', '話', '思っ', '読', 'ん', 'アニメ化', 'さ', 'れる', 'こと', '読', 'み', '転生', 'ミステリー', '要素', 'あっ', '読', '進める', 'の', '止まら', 'なる', '面白い', '無料', '分', '転生', 'モノ', '面白い', '物', 'あっ', 'ん', '続き', '購入', '予定', '絵', 'タッチ', 'し', 'いる', 'の', '苦手', '内容', 'し', 'い', '面白い', '読', '進め', 'られ', 'そう', '面白い', '話', '楽しみ', '仕方', '笑', '死ん', 'じゃう', '展開', '驚い', '先', '物語', '展開', 'びっくり', 'し', '話', '見る', 'たび', '次', '話', '気', 'なっ', '仕方', 'オススメ', 'し', 'w', 'イラスト', 'ストーリー', 'タイプ', 'はじめ', 'ほう', '展開', '早く', '？？？', '読', '進め', 'いく', 'うち', '引き込ま', 'れ', 'いき', '熱狂', '的', 'ファン', '息子', '愛', 'すごい', '王様のブランチ', 'ブック', 'コーナー', '芸人', 'さん', 'オススメ', 'し', 'て', '時', '興味', 'なかっ', 'の', '無料配信', '読', '見', '面白く', 'ハマり', '次', '課金', '購入', '予定', 'アニメ', '知り', '漫画', '読', '始め', '絵', '可愛い', 'ミステリー', 'サスペンス', '要素', 'あり', '無料', '分', '足ら', '購入', 'し', '読', '読', '始め', '止まり', 'おススメ', '魅力', '的', 'アイドル', '出産', '育児', '幸せ', '中', '事件', 'ショック', 'あり', 'その後', '産まれ', '代わり', '子供達', 'それぞれ', '目的', 'ため', '向かっ', 'いく', '話', '面白い', 'かぐや', '様', '作者', '作品', 'こと', '読', '始め', '期待', '通り', 'それ', '以上', '面白', 'さ', '読', '始める', '人', 'ネタバレ', '一切', '無し', '読', '欲しい', '最初', 'タイトル', '想像', 'し', 'て', 'の', '違い', '面白い', '転生', 'モノ', '思わ', '途中', '読', '続き', '気', 'なり', '広告', '絵', '可愛さ', '惹か', 'れ', '読', '始め', '雰囲気', 'ちがっ', 'めちゃくちゃ', '面白い', 'アイドル', '恋愛', '系', 'かなっ', '思っ', 'て', 'ふた', '開け', 'みれ', 'どっち', 'いう', 'サスペンス', '読', 'なり', 'めめ', '可愛い', '産まれ', '変わる', 'の', '見', 'こと', 'ない', '双子', '早め', 'バレ', 'ほしい', 'ファン', '二人', 'アイドル', '双子', '転生', 'し', '子供', 'なる', 'お母さん', 'なっ', 'アイドル', 'ファン', '襲わ', 'れ', '双子', 'ちがう', '人', '引き取ら', 'れる', '芸能界', 'ハイリ', '敵', 'さがし', '不運', '立ち向かう', '面白い', '話', 'あり', 'え', '設定', 'めちゃくちゃ', '面白い', 'ストーリー展開', '今後', '子供達', '成長', '重ね', '産婦人科医', '殺害', 'し', 'ストーカー', 'との', '絡み', 'なる', 'の', '漫画', '推し', 'これ', '面白い', '転生', 'モノ', '思い', 'サスペンス', '要素', 'ネタバレ', 'レビュー', '読', 'なんの', 'こっ', '思っ', 'まんま', '話', '思いつか', '絵', '見', '読', 'アニメ', 'なっ', '先', '気', 'なり', '読', 'み', 'めちゃくちゃ', '面白かっ', 'Aqua', 'ルビー', '守り', 'の', '分かる', '自分', 'こと', '考え', '思い', '応援', 'し', '主人公', '思っ', 'て', 'しょっぱな', 'い', 'なる', '衝撃', 'すぎ', '絵', '可愛く', '好き', 'ストーリー', '軽い', '思っ', 'い', '重い', '続き', '気', 'なる', 'キャラ', 'みんな', '強烈', '笑っ', 'い', '話', '内容', 'oshinoko', '供', '転生', 'する', '飛ん', '話', 'ミステリー', 'シリアス', '展開', '続く', '選り好み', 'しない', '読', 'もらい', '子供', '面白い', '聞い', 'い', 'テレビ放送', '始まっ', 'の', '機', '読', '始め', '思っ', 'い', '面白く', '無料', '読める', 'ところ', '毎日', '読', '早く', '続き', '読', 'たい', '娘', 'かぐや', '様', '好き', '一緒に', 'アニメ', '観', 'い', 'の', '2人', 'ハマっ', 'しまい', 'セリフ', '回し', 'クール', '好き', '私', 'Aqua', 'かな', 'ちゃん', '大好き', 'アニメ', '来', '面白い', 'アニメ', '漫画', '絵', '違い', 'すぎる', 'こと', 'たま', '有り', 'oshinoko', 'どちら', '変わら', '絵', 'きれい', 'アニメ', '先', '観', '漫画', '読', 'いこ', '思い', 'あらすじ', '読', '期待', 'し', 'て', '読', 'み', 'びっくり', '面白い', 'アニメ', '見', '予想外', '読', '応え', 'あっ', '作品', '出会える', 'の', '嬉しい', 'タイトル', '予想', 'し', '内容', '違っ', 'ストーリー', '捻っ', 'あっ', '面白く', '絵', 'キレイ', 'キャラクター', '個性', 'あっ', '飽き', '無料', '話', 'かま', '終わっ', '後', '読', 'しまい', 'そう', 'メディア', '化', 'さ', 'れ', 'てる', '方', '流れ', 'き', 'アイ', '可愛い', 'メディア', '化', '方', '話', '惹き', '込ま', 'れ', '放送', '分', 'み', 'ちゃっ', 'ルビー', 'Aqua', '幸せ', 'なっ', '欲しい', 'oshinoko', '供', '産まれ', '変わっ', '物語', 'ギャグ', '要素', 'サスペンス', '的', '要素', '詰まっ', 'い', '引き込ま', 'れ', '芸能界', '裏事情', 'リアル', '主題歌', '話題', 'なっ', 'てる', '読', 'み', '思っ', 'い', '話', 'ちがっ', '意味', '子', '怖い', '内容', 'ある', '言う', '部分', '好み', '面白い', 'アニメ', '始まっ', 'の', '見', '早く', '続き', '読', 'なっ', '漫画', '方', '来', '初め', '引き込ま', 'れる', '内容', 'oshinoko', '事', '思っ', 'い', 'の', '違う', '展開', '面白かっ', '押し', 'アイドル', '題', '軽い', '話', '思い', 'し', '内容', '話', '無量', '分', '一気', '読', 'し', '母', '刺さ', 'れ', '亡くなる', '話', '所', '泣け', '若い', '方', '読ま', 'れ', 'いい', '思い', '前世', '編', '幼少期', '舞台', 'アイドル', '章', '読', '面白い', '演劇', '2.5次元', 'ユーチューバー', '裏側', '舞台', '側', 'わかり', '視点', '楽しめ', '関わる', 'こと', 'なっ', 'アイドル', '熱烈', 'アイドル', 'ストーカー', '殺さ', 'れ', 'アイドル', '子供', '転生', 'し', 'ちゃう', 'ストーリー', 'アイドル', '漫画', 'あまり', '好き', 'なかっ', 'アニメ', 'み', 'ハマっ', 'しまい', '才能', '努力', '持ち合わせ', '人たち', '輝かしい', '世界', 'アイ', '死', '探る', 'サスペンス', '的', '要素', '惹き', 'つけ', 'られ', 'アイドル', '言う', 'し', '内容', 'の', '思っ', '復讐', 'ため', 'し', '内容', 'びっくり', 'し', 'アイ', '2人', '愛し', 'てる', '伝え', '所', 'ボロボロ', '泣き', 'タイトル', '意味', 'の', '序盤', '驚愕', 'アイドル', '推し', '事', '夢見', 'て', '気持ち', '形', '遭遇', '・', 'ポイント', '貯め', '全部', '読む', 'インスタ', '広告', 'き', '絵', '可愛く', '好き', 'アイドル', 'アイちゃん', '可愛い', '広告', '内容', '試し', '読', '内容', 'わから', '続き', '気', 'なる', '読', 'みよ', '思い', '赤坂アカ', '先生', '好き', '読', '始め', '面白い', 'タイトル', 'し', 'ファン', '推し', 'アイドル', '話', '思い', '転生', 'し', 'ミステリー', 'あっ', '続き', '気', 'なる', '漫画', '裏切る', '展開', '話題', '作品', '期待', 'し', 'て', '面白い', 'ひと', '死ぬ', '悲しみ', '切な', 'さ', 'な', 'さ', 'そう', '気楽', '読める', '感じ', '3話', 'めちゃくちゃ', '面白い', '思い', 'ハマっ', 'い', '実', 'お父さん', '誰', 'の', '気', 'なっ', '読', 'いこ', '思っ', 'い', 'オススメ', '作品', 'めちゃくちゃ', '話題', 'なっ', '星野', 'アイ', 'ちゃん', '可愛', 'すぎ', '読', '始め', '重たい', '話', 'びっくり', 'し', '面白い', '可愛い', 'かわいく', 'ハマっ', 'しまい', '読', '最後', 'とまり', 'ドキドキ', 'アニメ', '入っ', '漫画', '良い', '感じ', 'アニメ', '感', '凄かっ', 'それ', '劣ら', '漫画', 'し', 'て', '続き', '読', 'みよ', '思わ', 'せる', '話題', 'なっ', 'てる', 'の', 'あっ', '読', 'み', '思っ', 'てる', 'の', '違っ', 'そこ', '面白い', 'の', '絵', '好み', '自分', 'ハマら', 'もの', '詰め込ん', 'いる', 'ガチャガチャ', 'し', 'おら', 'ミステリー', '要素', '伏線', 'あり', '飽き', 'させ', 'oshinoko', '供', '意味', '驚い', '友人', '勧め', 'られ', 'い', '好み', 'ジャンル', 'な', 'さ', 'そう', '理由', '手', 'つけ', 'い', '読', 'み', '面白い', '意外性', '良かっ', 'アニメ', '見', '娘', 'ハマり', 'し', 'い', 'oshinoko', 'こと', '思っ', 'い', '展開', 'ショック', '消え', '先', '見逃せ', 'キャラクター', '絵', '魅力', 'ある', 'ギャグ', '面白い', 'まじめ', '話', 'なる', '急激', 'つまらなく', 'なる', '産まれ', '変わり', '設定', '全く', '意味', 'ない', 'もの', 'なっ', 'いる', '1話', '怒涛', '展開', '嘘', '思い', '読', '転生', 'モノ', 'oshinoko', '面白い', 'なっ', 'いく', 'の', '楽しみ', 'アイドル', 'サスペンス', '最高', 'アイ', 'お母さん', '顔', 'なっ', 'いく', '姿', '泣け', '残念', '悲しい', '決', '末', 'なり', 'これ', '以上', '悲しい', '決', '末', 'なり', 'よう', '早く', '続き', '読', 'たい', '目', '幸せ', 'かわい子ちゃん', 'いっぱい', 'Aqua', 'イケメン', 'し', '重曹', 'ちゃん', '可愛い', '最高', '謎', 'たくさん', 'ある', 'Aqua', '辿り', '着ける', 'はず', '話題', '漫画', '読', 'みよ〜', '軽い', '気持ち', '読', '始め', '思いの外', '内容', '面白かっ', '転生', 'モノ', 'イマイチ', '好き', 'ない', 'の', 'これ', '続き', '気', 'なり', '開幕', 'やら', 'れ', 'それ', '以上', '読', '進める', '気', 'なれ', '人気', 'ある', 'っぽい', 'すれ', '読む', '気', 'なれる', 'の', '教え', '欲しい', '転生', 'モノ', '苦手', '風', '説明', 'あれ', '設定', '納得', 'いって', '楽しく', '読め', '最初', 'ファン', '推し', 'アイドル', '話', '思っ', '気', 'なる', '…。', 'なっ', 'く', 'タイトル', '見', '推し', 'いる', 'アイドル', 'きらびやか', '話', '思っ', '推し', '産ん', '子供', '復讐劇', 'の', '期待', '裏切る', '展開', 'ドキドキ', 'し', '読', 'い', '伝説', '美少女', 'アイドル', '子供', 'メイン', 'キャラ', '最初', 'ストーリー', '惹き', 'つけ', 'られ', '子供たち', '前世', '記憶', '持っ', 'いる', 'の', '斬新', 'oshinoko', 'そ', 'ー', 'ゆ', 'ー', '意味', '読', 'い', 'し', 'いくつか', 'ネタバレレビュー', '読', '展開', '全く', '予想', 'つか', 'バージョン', '驚き', '流行っ', '面白', 'すぎ', '漫画', '読', 'みよ', '思い', '今', '見', '事', 'ない', '話し', '展開', '話', 'しょっ', '思っ', 'て', 'の', '180度', 'ひっくり返さ', 'れ', '結末', 'なる', 'の', '全く', '想像', 'つか', 'Aqua', '毎回', '閃く', '解決方法', 'イマドキ', 'リアル', '重曹', 'ちゃん', '私', '重曹', 'ちゃん', '幸せ', 'なっ', 'くれれ', 'よい', '無料', '分', '読', '最初', '意味', 'わから', '1話', '読', '返し', 'Gorou', '死ん', '経緯', '語ら', 'れ', 'まま', 'すごく', '気', 'なる', '他', '人', 'レビュー', 'よる', 'すごく', '面白い', '続き', '読も', 'タイトル', '想像', 'し', 'て', 'の', '違っ', 'めちゃくちゃ', '面白い', '赤ちゃん', '頃', 'Aqua', 'ルビー', '早熟', 'っぷり', '最高', 'ー', 'ミステリー', '要素', 'あっ', '続き', '楽しみ', '賞', '選ば', 'れ', 'い', '作品', '思っ', '何気なく', '毎日', '無料', '読', '始め', '意外', 'ストーリー展開', 'ドキドキ', 'し', '漢字', '書い', '展開', '誰', '読め', 'の', 'カリスマ', 'アイドル', 'アイ', '中心', '運命', '動き出す', 'インタビュー', '意味深', 'ストーリー', '追いつく', 'こと', '読', '返し', 'なり', '様々', '人々', '人生', '交差', 'し', '主人公', 'そこ', 'いる', 'oshinoko', '意味', '深さ', '読', 'み', 'わかる', '1話', '良い', '読', '欲しい', '作品', 'アイ', 'なくなる', 'シーン', '衝撃', '的', '子供', 'アイ', '追い詰め', '犯人', '追っ', 'いく', '事', 'アイドル', '目指す', 'ストーリー', '気', 'なっ', '読', 'い', '題名', 'まんま', '所', 'どころ', 'ダーク', 'ユーモア', 'テンポ', 'よく', '読', 'い', 'し', 'しまい', '子供', '立場', '推し', '応援', 'する', '主人公', '先', '気', 'なり', '前々', 'これ', 'くる', 'おもっ', 'い', '大賞', '取ら', 'れ', 'よう', '嬉しい', '絵', '綺麗', 'お話', '凝っ', 'て', '面白く', '読', '進め', 'られ', '赤坂アカ', '原作', '漫画', '好き', '面白い', '奥', '深い', '推し', 'アイ', '子供', '産まれ', '変わっ', 'アイ', '秘密', 'バラ', 'し', '犯人', '探す', '話', 'ドラマ', 'あっ', '面白い', '読', 'すすめ', 'い', '題名', 'イメージ', '最初', 'アイドルオタク', '追っかけ', 'お話', '思っ', 'い', 'アイドル', '物語', '有り', 'サスペンス', '有り', '展開', '面白い', '楽しみ', 'oshinoko', 'なり', 'よう', '転生', '物', '多い', 'なか', '作品', '意外性', 'あっ', '面白い', '続き', '買う', '検討中', 'アニメ', '始まり', '気', 'なっ', '読', 'み', 'oshinoko', 'こと', '笑', '今', '流行り', '転生', 'モノ', 'これはすごい', '設定', '展開', '楽しみ', '最初', 'ただ', '推し', 'アイドル', '女の子', 'お話', '思っ', 'い', 'oshinoko', '供', '転生', 'し', 'お話', 'びっくり', '続き', '気', 'なり', '面白い', '無料', '12話', '読ま', 'し', 'そこ', 'プロローグ', 'ん', '切な', 'すぎる', '展開', '泣き', 'なっ', 'いく', '楽しみ', 'アニメ化', 'さ', 'れる', 'の', '思っ', 'の', '読', 'み', 'すごく', '面白い', 'アイドル', '話', 'アイドル', '恋', '転生', '復讐', '話', '展開', '早く', '飽き', '続き', '気', 'なる', '漫画', '作家', 'さん', '描く', 'キャラクター', '好き', 'ファンタジー', '設定', '織り', '混ぜ', 'っ', 'い', '芸能界', '黒い', '部分', '苦悩', '重く', '描か', 'れ', 'い', '没頭', 'し', 'しまい', '動画サイト', 'アニメ化', 'さ', 'れる', '漫画', '的', '感じ', '紹介', 'さ', 'れ', 'い', '気', 'なっ', '読', 'み', '絵柄', '可愛い', '内容', '面白い', '重曹', '推し', 'くっつい', '欲しい', '通っ', 'てる', '美容院', '兄さん', '熱く', '語っ', 'い', 'ヤツ', 'これ', '確か', '面白い', '無料', '分', '１', '話', '読む', 'の', 'もどかしい', 'ソレ', '展開', '面食らい', '飛ん', 'ストーリー', '言葉', '重み', 'あり', '読', '応え', 'あり', 'アニメ', '漫画', '来', '転生', 'モノ', 'これ', 'なかっ', 'タイプ', '面白い', 'ミステリー', '要素', '強い', '続き', '気', 'なり', '読', 'コレ', 'サスペンス', 'キモチ', 'ドンデン', '返し', '逸品', '産まれ', '変わり', '私', '信じ', 'てる', 'こと', 'ある', 'の', '止まん', 'なり', 'アニメ', 'はまっ', '漫画', '読', 'み', '漫画', 'いい', '思っ', 'て', '内容', 'いい', '意味', '裏切ら', 'れ', 'い', '面白い', '今後', '展開', '気', 'なる', 'ーーー', 'タイトル', 'そっち', '意味', 'ツッコミ', '方', 'する', '思い', '好き嫌い', '別れ', 'そう', '作品', '私', '好み', '読', '進め', 'しまい', '続き', '気', 'なり', '食い', 'いる', 'よう', '読', 'しまい', 'おすすめ', '転生', 'モノ', '苦手', '意識', 'あり', 'これ', '面白い', '予想外', '展開', 'びっくり', 'し', 'アイドル', '漫画', '思っ', 'て', '違っ', 'い', '面白い', 'アニメ', 'し', 'てる', 'ん', '面白い', '納得', 'アニメ化', 'さ', 'れ', '観', 'めちゃくちゃ', '面白い', '続き', '気', 'なり', '本', '集めよ', '途中', '読', '進め', 'い', 'の', '面白い', '記憶', 'もっ', 'まま', 'oshinoko', '供', '産まれ', '考え', 'しまい', '笑', 'タイトル', '絵', '見る', 'アイドル', 'もの', 'コメディ', '印象', 'ちがい', 'スリル', 'ある', 'する', 'よう', 'ミステリー', 'おすすめ', '好き', '歌手', '方', 'おすすめ', 'し', 'い', 'ため', '見', 'みる', 'つもり', '1話', '試し', '読', 'し', 'ハマっ', 'しまい', 'いい', '意味', '予想', '裏切ら', 'れ', '闇', '鬱', '要素', 'てんこ盛り', 'し', '芸能界', '深淵', 'いう', '部分', 'すごい', 'それ', '作り出す', 'の', '視聴者', 'ファン', '考え', 'させ', 'られる', '内容', 'タイトル', 'アイドル', 'お話', '思っ', 'い', '裏切ら', 'れ', '最初', '方', '断念', 'せ', '読', '進め', 'もらえる', 'ハマっ', 'いく', '思い', '1巻', 'アイ', 'Aqua', 'ルビー', '物語', '3巻', 'Aqua', '復讐', '物語', 'ルビー', '重曹', 'ちゃん', 'アイドル', 'なっ', 'いる', '物語', '楽しみ', 'Aqua', 'いい', 'Aqua', '神', '推し', '推せる', 'アイ', '可愛い', 'Aqua', 'たん', '闇落ち', '最高', '可愛', 'すぎる', 'Aqua', 'たん', 'Aqua', 'たん', '全て', '捧げ', '入金', 'し', 'YOASOBI', '歌', 'ヒット', 'し', 'てる', '記事', 'リンク', 'し', '読', '始め', '絵', 'イメージ', '異なり', '小説化', 'できる', 'よう', 'ミステリー', '要素', 'ある', 'お話', 'めちゃくちゃ', 'ハマり', 'タイトル', '見', 'ポップ', '話', '想像', 'し', 'い', 'の', '転生', 'あり', '育成', 'あり', 'サスペンス', 'あり', 'めちゃくちゃ', '面白い', '流行り', '物', '避け', 'ちゃう', '癖', 'あっ', '読', '面白い', '転生', '思っ', 'アイドル', '凄い', 'ん', '漫画', '思っ', '設定', 'お話', '斬新', '面白い', '自分', 'アイドルヲタク', 'の', 'あり', '事', '起き', '面白', 'そう', '笑', '友達', '面白い', 'いう', '読ま', 'し', '無料', '分', '読ま', 'し', 'ファンタジー', 'ミステリー', '合わさっ', 'ストーリー', 'なっ', 'いる', '気', 'し', '犯人', 'わかっ', 'くる', 'の', '気', 'なり', '最近', '芸能', '闇', '感じ', 'リアル', 'すごい', '業界', '人', '読', '面白い', '思い', '早く', 'アニメ化', 'し', 'ほしい', '好き', 'ん', 'アイ', '子供', '主人公', '話', 'よう', '面白', 'さ', '分かっ', 'き', '感じ', '子供', 'すげ', 'ー', '名前', 'つけ', '笑', '嘘', '愛', 'アイ', '言わ', 'れる', 'そうかもしれない', '思っ', 'しまう', '作画', '神', 'ストーリー', '来', 'なる', '展開', '先', '展開', '楽しみ', '今', 'テレビアニメ', '人気', '作品', '設定', '斬新', 'ストーリー', 'し', 'て', '先', '気', 'なる', '面白', 'さ', 'おススメ', 'アニメ', '観る', '面白い', '初め', '方', '予想外', '展開', 'つい', 'いく', '笑', 'Aqua', 'イケメン', '好き', 'Vtuber', '出', 'くる', '聞い', '早く', '続き', '見', 'アニメ', '見', '始め', '気', 'なっ', '読ま', 'し', 'アニメ', '見', '人', 'すごく', '読', 'やすい', '丁寧', '絵', '良かっ', '続き', '気', 'なり', 'かぐや様は告らせたい', 'き', '最初', '全く', '違う', 'お話', '戸惑い', '面白', '過ぎ', 'のめり込み', 'おすすめ', '最初', '面白く', '思い', '読', 'い', '読', 'いく', 'うち', 'ハマっ', 'しまい', '全く', '新しい', 'ジャンル', '漫画', '思う', 'oshinoko', '意味', '込め', 'られ', 'て', 'oshinoko', '転生', 'し', 'それ', 'おわり', 'ひとつ', '終われ', 'ひとつ', 'はじまる', 'めちゃくちゃ', '楽しい〜', 'すごい', '飛ん', '来', '最初', '恋愛', 'もの', 'なっと', '思っ', 'て', 'の', 'なる', 'そい', 'ゆう', '転生', '話', 'かっと', 'なる', '楽しみ', '最近', '凄い', '良く', '聞く', '思っ', '読', '始め', '人気', '理由', 'わかる', '気', 'し', '展開', '面白い', '続き', '楽しみ', 'し', 'い', '単純', 'アイドル', '話', '思い', '途中', 'シリアス', '話', 'なり', '良い意味', '裏切ら', 'れ', 'アニメ', '見', '気', 'なっ', '読', '見', 'ありそうでなかった', 'よう', '感じ', 'ハマり', '考え', 'させ', 'られる', 'ところ', 'あり', '漫画', '詳細', '知れ', '楽しめ', 'タイトル', '今どき', 'やつ', '敬遠', 'し', 'い', '知人', '薦め', 'られ', '読', '始め', '皆さん', '言う', 'よう', '食わず嫌い', '良く', '面白い', '１巻', '読ま', 'し', '設定', 'ディープ', 'すご', 'すぎる', '転生', 'モノ', 'なかっ', '先生', '遺体', 'みつかっ', 'て', 'の', '何', '伏線', '楽しみ', 'アニメ', 'み', 'きっかけ', '読', '始め', '可愛い', '絵', '読', 'やすく', 'コミカル', '部分', '楽しい', '無料', 'たくさん', 'あっ', '嬉しい', '想像', 'し', 'い', 'アイドル', '話', '違っ', '面白い', '大人', '都合', '振り回さ', 'れる', 'アイドル', '達', '可哀想', 'なる', 'とき', 'ある', '転生', '物', '中', '一番', '好き', 'アイドル', '推す', 'おっさん', '話', '評価', '高い', 'ん', '数', '話', '読', '思っ', 'て', 'すごい', '展開', '無料', '分', '読', 'しまっ', '来月', '続き', '買っ', '読ま', 'す', '笑', 'アイドル', '推し', '分から', '思い', '読', 'み', 'ハマり', 'アイ', '話', '思い', '先', '気', 'なり', 'タイトル', 'oshinoko', '意味', '分かっ', 'なる', '転生', '要素', 'あり', '復讐劇', 'サスペンス', '要素', 'あり', '犯人', '誰', 'の', '気', 'なる', 'アニメ化', 'さ', 'れ', '漫画', '界', '推し', 'てる', '漫画', '一', '度', '読ま', '思っ', 'て', '作品', '一言', 'やばい', '見', 'そん', '人', '薦め', 'られ', '読', '好き', 'アイドル', '自分', '病院', '受診', 'し', '妊娠', '発覚', 'し', 'ファン', '殺さ', 'れ', 'アイドル', '赤ちゃん', '転生', '現実離れ', 'し', 'い', '私', '残念', 'oshinoko', 'かぐや', '様', 'こ', 'くらせ', '作家', 'さん', '描い', 'て', 'ん', '知ら', '有名', '漫画', '読', 'み', '面白かっ', '絵', 'ストーリー', 'めちゃくちゃ', '良い', 'Aqua', 'ルビー', 'お互い', '前世', '知る', 'エピソード', '今後', '絶対', '描か', 'れる', '思う', 'の', '面白い', '絵', '可愛い', '転生', '産まれ', '変わり', '系', '話', '違和感', 'なけれ', '楽しく', '読める', '思い', '目', '中', '星', '気', 'なる', 'アニメ', '観る', '原作', '方', '読む', '悩ん', 'ため', '評価', '3', '内容', '重', 'め', '読', '応え', 'ある', 'あと', '絵', '好み', '変わる', 'Ai', 'ちゃん', '健気', 'さ', '可愛い', 'アニメ', '歌', '歌詞', 'ある', 'Ai', 'ちゃん', '名言', '泣ける', 'はじめ', 'ストーリー', '展開', 'なる', '予想外', '設定', 'スゴ', 'い', '思っ', '転生', 'モノ', '他', 'ある', 'oshinoko', '供', 'なれる', 'サイコー', '主人公', '死ぬ', 'ビックリ', 'し', '20話', '目', 'あたり', 'タイトル', '読', '設定', 'ギャップ', '驚い', 'こと', '理解', 'する', 'の', 'かかっ', 'これ', 'これ', '楽しく', '読', '絵', 'キャラ', 'みんな', 'よう', '見え', '子', 'だれ', 'なる', 'の', '難', '芸能界', '内幕', 'モノ', 'みたい', '切り口', 'いい', '思う', '展開', '読め', 'ハマっ', 'しまい', '芸能界', '裏側', '見せ', 'ミステリー', '要素', 'あり', '見所', 'たくさん', '深層', '近づけ', 'の', '絵', '可愛い', 'テンポ', 'よく', '話', '進ん', 'いく', 'の', '先', '読め', '面白い', 'ダーク', '部分', 'はね', '除ける', '明るい', 'キャラ設定', '漫画', '推し', 'かぐや', '様', '好き', '本作', '未読', '試し', '読', 'し', 'ハマり', 'し', '現在', 'アニメ', '観', 'い', 'ここ', '有名', 'なっ', '内容', '言う', 'こと', 'ありません', '絵', '綺麗', 'ストーリー', '入っ', 'くる', 'ん', 'アニメ', '見', '続き', '気', 'なっ', '話', '購入', 'し', '絵', '綺麗', 'ストーリー', 'テンポ', '良く', '内容', '濃く', '読', 'で', '飽き', 'アニメ', '面白かっ', '漫画', '読', '始め', 'ん', '面白い', '簡単', '予想', '超え', 'くる', 'ところ', 'お気に入り', '場面', '場面', '面白い', 'ストーリー展開', '面白い', '先', '知り', 'なる', '転生', '物', '新た', '設定', '新鮮', '課金', 'しよ', '思っ', '表紙', 'タイトル', '想像', '逸し', 'ストーリー', '惹き', '込ま', 'れ', 'しまっ', 'oshinoko', '意味', 'の', '驚い', '面白い', '読', '始め', '闇', '具合', '漫画', '言え', 'なし', '展開', 'なる', 'の', 'し', '読', '続けよ', '思い', '話', '読ま', 'し', 'アイドル', '子供', 'いる', '違う', 'ファン', '殺さ', 'れ', 'しまう', 'あり', '得', '続き', '読ま', '気', 'なり', 'アイドル', '子供', '転生', '話', 'の', '読', 'み', 'なん', '殺さ', 'れ', 'てる', '先', '亡くなっ', '娘', '転生', '有り得る', '先生', '転生', '難しく', '気', 'なる', '無料', '分', '読', 'み', '導入', '設定', '都合', '良', 'すぎる', '設定', '微妙', '気持ち', 'その後', 'ストーリー', 'し', 'て', '面白かっ', 'あり', 'え', '設定', '楽しく', '読め', '赤ちゃん', '賢い', 'の', 'いい', 'ん', '思い', '安心', '安全', '楽しい', '方向', '進ん', 'いく', 'いい', '有名人', '紹介', 'し', '広告', '見かけ', '気', 'なっ', 'い', '読ま', 'し', '面白い', '絵', 'すごく', '可愛い', '読', 'い', '意味', 'ドキドキ', 'する', 'ストーリー', 'し', 'い', '惹き', '込ま', 'れ', '十話', '泣け', '謎', 'いくつか', '解き明かさ', 'れ', 'て', '話', '待ち遠しい', '作品', '気', 'なっ', 'い', '読む', '機会', 'なく', 'アニメ', '主題歌', '聴い', '漫画', '読', '始め', '正直', 'ナメ', 'い', '面白い', 'テレビ', '人気', '読', '始め', '最初', 'アイ', '主役', '進ん', 'いく', 'お話', '思っ', 'て', '殺さ', 'れ', '意外', '展開', '続き', '気', 'なり', '思っ', 'い', 'ストーリー', '違っ', 'い', '転生', 'し', 'oshinoko', '産まれ', '赤ちゃん', '主人公', 'なり', 'ストーリー', '進ん', 'いく', '思っ', 'い', '予想外', '展開', '子供', '見', 'いる', 'アニメ', '興味本位', '読', '始め', '面白い', '一緒に', 'アニメ', '見', '始め', '読', 'つづけ', '思い', 'アニメ', '見', 'ハマり', '途中', 'ディープ', '出来事', '泣き', 'ただ', 'アイドル', 'もの', 'ない', '復讐劇', 'アイドル', '俳優', '上り詰め', 'ゆく', '過程', 'リアル', '面白い', '大好き', '作品', 'アニメ', '見', '漫画', '読', 'なっ', '読', 'い', 'ポップ', '話', '思っ', 'て', 'いい', '意味', '裏切られる', '作品', 'アニメ', '話題', 'なっ', 'い', '読', 'み', 'アイドル', '実情', 'リアル', '描い', '面白い', '作品', '思い', '個人', '的', '絵', 'タッチ', '好み', 'なく', '内容', '面白い', '思い', 'oshinoko', '供', '産まれ', '変わっ', 'ラッキー', '話', 'ダーク', '部分', 'あっ', '芸能界', '事情', '知れ', '面白い', 'アニメ化', '美少年', 'アイドル', '産婦人科医', '話', '医師', 'アイドル', '子供', '産まれ', '変わり', '数々', '数奇', 'こと', '起こり', 'コメディ', '要素', '読', 'やすい', '設定', '面白い', 'アイドル', '子供', '産まれ', '変わっ', '復讐', 'する', 'いう', '双子', '誰', '犯人', 'ん', '途中', '読め', 'い', '今', 'ありそうでなかった', 'お話', 'し', '読', '進め', 'い', '早く', '続き', '読', 'たい', '作品', 'アイドル', '子供', 'アイドル', '道', '話', '思っ', '予想外', '展開', '続き', 'これ', '読', '応え', '満点', 'アニメ', '観', '漫画', '読', 'みたい', '思い', '読', '始め', '面白い', '子供たち', 'アニメ', '観', '考え', 'させ', 'られる', 'こと', 'ある', '漫画', '読ま', 'せ', '思い', '音楽', '流行っ', 'て', '見', '転生', 'モノ', 'oshinoko', '話', 'の', '読', '1巻', '途中', '続き', '気', 'なり', 'アニメ', '漫画', '感じ', '読', '始め', '内容', '濃く', '読', 'ごたえ', 'あり', '人間', '裏', '汚い', 'ところ', '色々', '描写', '描か', 'れ', 'い', 'おすすめ', '絵柄', '好み', '引き込ま', 'れる', '話', '展開', '心', '鷲掴み', '私', '心', '言っ', 'ストーリー', '連続', '怖く', '読め', '只今', '中断', 'し', '心', '落ち着か', 'せ', 'いる', 'ところ', '話', '絵', '可愛い', '期待', 'せ', '読だし', '登場人物', 'みんな', 'かわいく', 'いい', 'お話', 'アニメ', '始まっ', 'キャラ', 'ひとりひとり', '大好き', '1話', '1話', '盛り上がり', 'あっ', '激', 'アツ', 'すぎる', 'ストーリー', 'いい', '絵', '可愛い', 'はじめ', '知り合い', '話', 'ストーリー', '簡単', '聞い', 'き', 'もっ', 'おもっ', '読', 'キモ', 'く', 'めちゃくちゃ', '面白かっ', '最初', '推し', '活動', '思っ', 'ミステリー', 'なっ', 'いく', 'Aqua', 'いい', 'かっこいい', 'Aqua', '前世', '気', 'なる', 'イラスト', '可愛さ', '内容', 'ギャップ', 'やら', 'れ', 'ストーリー', '性', 'し', 'い', '人間', 'ドラマ', '見る', '本格的', '感じ', '子供', '面白い', 'いう', '読', 'み', '無料', '分', '面白い', '展開', 'いい', '意味', '裏切っ', 'き', '大人', '夢中', 'なる', '思い', '前', '途中', '読', 'い', '最近', '読だし', '続き', '気', 'なり', '出', 'てる', 'とこ', '読', 'アニメ', '見', 'みよ', '思い', '明るく', '楽しい', '話', '思っ', 'て', '真逆', 'びっくり', 'し', 'なっ', 'いく', 'の', '父親', '誰', 'の', 'すごく', '気', 'なり', '話', '思っ', '序盤', 'い', '人', 'い', 'なる', '衝撃', 'アニメ', '見', '可愛い', 'お話', '思っ', '違う', '方向', 'いく', '面白い', '続き', '気', 'なり', '横槍メンゴ', 'さん', '作品', '好き', '読', 'み', '原作', 'ある', '作風', '違う', 'そこ', '面白い', '謎', '解き明かさ', 'れる', 'の', 'たのしみ', '舞台', '演劇', '魅力', '伝え', 'いる', 'サスペンス', '要素', '強く', '今後', '展開', '目', '離せ', '転生', 'モノ', 'の', 'ありき', '面白い', 'スタート', '衝撃的', 'ただ', 'アイドル', '題材', '色々', '要素', '詰め込ま', 'れ', 'い', '読', '進め', 'しまい', '面白い', '殺さ', 'れ', 'トップ', 'アイドル', '子供', '産まれ', '変われ', 'の', 'うらやましい', '限り', 'すで', '彼', '失っ', '家族', '悲しい', '好み', '絵', 'なかっ', '漫画', '大賞', 'ノミネート', '作品', 'こと', '読', 'い', 'そ', 'おき', 'かー', '展開', 'ハマっ', 'しまっ', 'ただ', 'キラキラ', '系', 'アイドル', '話', '思っ', 'い', 'いい', '意味', '裏切ら', 'れ', '読', '進める', '事', 'どう話', '展開', 'し', 'く', 'の', '楽しみ', 'アイドル', '出世', '話', '思っ', '復讐劇', '転生', 'し', 'てる', '双子', '赤ちゃん', '笑える', '中身', '前世', 'まま', '余計', '笑える', 'アニメ', '1話', '1時間半', 'あっ', '長い', '思っ', 'ん', '全部', '見る', 'こと', 'し', 'アニメ', 'ん', '映画', '見', 'てる', '気分', 'なる', '漫画', 'アニメ', '見', '漫画', '読', 'はじめ', 'アニメ', '漫画', '展開', 'やっ', 'てる', 'ん', 'おいつき', 'そう', '最近', '話題', 'なっ', 'い', '読', '始め', 'ただ', 'アイドル', '漫画', '思い', '奥', '深い', 'ダーク', 'ところ', 'あり', '引き込ま', 'れ', 'ハマり', '漫画', 'き', 'ホント', '面白い', '展開', '進ん', 'しまい', 'はじめ', '衝撃', '話', '読め', 'い', '続き', '気', 'なる', '読ま', 'す', '数', '話', '読', 'ミステリー', 'っ', 'わか', '読', 'みる', 'わ!', '最近', '推し', 'て', 'の', '無料', 'なっ', '連載開始', '頃', '読', 'い', '最近', '話題', '読', 'めちゃくちゃ', '続き', '気', 'なっ', '毎日', '無料', '無視', 'し', '課金', 'し', 'まくっ', '笑', '読ま', '嫌い', 'YOASOBIPV', '興味', '持っ', '無料', '分', '読', '始め', '虜', '無料', '分', '怒涛', '展開', 'ハマっ', '推し', '話題', 'の', '知っ', 'い', '読ま', 'し', '先生', '可哀想', '犯人', '捕まら', 'アイちゃん', '信頼', 'し', 'て', '先生', '死ん', 'でる', 'の', '普通', '幸せ', 'そう', '子育て', 'し', 'てる', '違和感', '平積み', 'さ', 'れ', 'てる', 'の', '見かけ', 'て', '勝手', '想像', 'し', 'て', '話', '違っ', '良い意味', '衝撃', '面白かっ', '最新', '読', 'しまっ', '転生', 'モノ', '跡', 'リアル', '塊', 'すごく', '引き込ま', 'れ', '全て', 'ツッコミ', '秀逸', 'キャラクター', '一人一人', '個性的', '輝い', 'てる', 'アイ', '愛する', '2人', 'ファン', '描く', '芸能界', '真実', '真相', '分かる', 'の', 'いつ', 'の', 'ドキドキ', 'し', 'しまい', '早く', '続き', '読', '絵', '可愛い', 'の', 'ある', 'ストーリー', 'ハラハラドキドキ', '面白い', '現代', '闇', '見せ', 'もらい', '芸能界', '裏側', '垣間見', 'れる', '感じ', 'すき', 'タイトル', '風', '繋がる', 'の', 'ビックリ', 'し', 'oshinoko', '推し', '殺さ', 'れ', 'ビックリ', '先', '気', 'なり', 'アニメ', '見', 'ハマり', 'アニメ', '続き', '気', 'なっ', '購入', 'し', '漫画', 'イラスト', '綺麗', '読', 'やすく', '面白かっ', '原作', '知ら', 'まま', 'アニメ', '見', '興味', '持ち', '途中', 'アニメ', '平行', 'し', '読む', 'つもり', '追い越し', '読', 'しまい', 'そう', 'アニメ', '見', '始め', '原作', 'ここ', '見つけ', '読', '始め', '漫画', '描き方', '違っ', '面白い', 'アニメ', '先', '読', '進め', 'アイちゃん', '振り', 'きり', '具合', 'ハマる', '笑', '展開', 'アイちゃん', 'ストーリー', 'もっ', '見', 'い', '登場人物', '女の子', '達', '可愛い', 'キャラクター', 'それぞれ', '魅力的', '描か', 'れ', 'いる', 'シリアス', '話', 'あり', '恋愛模様', '気', 'なる', '最高', '一', '冊', '漫画喫茶', '続き', '読', 'しまい', 'アイ', '子供', '活躍', 'する', '姿', '見れ', '嬉しい', '先生', '患者', 'こと', '気づく', '日', 'くる', 'の', '思っ', 'い', '話', '良い', 'よう', 'かけ離れ', 'い', '面白い', '母親', 'アイドル', '亡くなっ', 'しまう', '父親', 'わから', '謎', '謎', '呼ぶ', 'これ', '最後', '気', 'なる', '作品', '毎週', '楽しみ', 'し', 'てる', '漫画', 'アイドル', '思え', '転生', 'モノ', 'サスペンス', '芸能界', '怒涛', '展開', '横槍', '先生', '絵', 'マッチ', 'し', '面白い', '興味', 'なかっ', 'ハマり', 'そう', '誰', '犯人', 'の', '気', 'なり', '人間', '裏側', 'コミカル', '残酷', '考え', 'られる', '作品', '知り合い', 'オススメ', 'さ', 'れ', '病み', '途中', '展開', '早い', '今', 'ない', 'ストーリー', 'リアル', 'ブラック', '加減', 'バランス', '絶妙', '思い', '久々', 'はまっ', '漫画', 'アイ', '死ん', 'なる', '思っ', 'そ', 'ー', 'ゆ', 'ー', 'こと', 'の', '面白', 'すぎる', 'Aqua', '推し', 'ものすごく', '人気', '面白い', 'ん', '思っ', 'い', '出だし', '予想外', '連続', 'びっくり', 'し', '横槍', '先生', '絵', '可愛い', '今', '無い', 'ストーリー展開', '読', '進め', 'ただ', '推活', '話', '無く', '一人一人', '設定', '凝っ', 'い', '引き込ま', 'れ', '友達', '勧め', 'られ', '読', '始め', 'めちゃくちゃ', '面白い', '先', '気', 'なり', 'アニメ', '見', '始め', '進み', '具合', '読', 'いこ', '12話', '読ま', 'し', '展開', '早く', '引き込ま', 'れ', '現実', '絶対', 'ない', '設定', '面白く', '読ま', 'せる', '素晴らしい', 'ストーリー展開', '読', '始め', '止まり', 'すごく', '惹か', 'れる', 'ストーリー', '絵', '可愛い', '昔', '好き', '作家', 'さん', '1話', '読', '心', 'つかま', 'れ', 'てる', 'wAi', 'ちゃん', 'オタ', '医師', 'キャラ', 'いい', '普通', 'かっこいい', 'Ai', 'ちゃん', '可愛い', '不思議', '転生', '系', '可愛い', 'ママ', '良い', 'キャラ', '面白かっ', 'ん', 'ママ', '刺さ', 'れ', 'しまっ', '悲しく', 'て続き', '読め', '気', 'なり', '漫画', '麒麟', '川島', 'さん', '漫画', '沼', '番組', '1番', '面白い', '作品', '的', '感じ', '押さ', 'れ', 'ネット', '拡散', '知り', '試し', '読', '読', '進め', 'しまい', '絵', '可愛い', 'の', '双子', '可愛い', '見る', 'の', '楽しい', '読', '始め', '時', 'ある', 'アイドル', '系', '内容', '思い', '2', '重', '3', '重', '驚かさ', 'れる', '設定', '引き込ま', 'れ', '今後', '展開', '楽しみ', 'oshinoko', 'タイトル', '推し', '子', '産まれ', '子', '推し', 'なる', '話', 'なのか', 'ややこしい', '思っ', 'い', '見事', '初っ端', '裏切ら', 'れ', 'アニメ版', '観', 'コミ', '原作', '探し', 'み', 'あり', 'ー', '読', 'み', 'ん', '原作', 'ハマり', 'アニメ', '入り', 'アニメ', '面白', 'すぎる', '原作', '読む', 'こと', 'タイトル', '上手い', '感心', '最後', '読', 'アイドル', '系', 'キャピ', 'っ', '話', '思っ', '母親', '殺さ', 'れ', '前世', '記憶', 'ある', '子', '達', '成長物語', 'い間', '大好き', '母親', '為', '奮闘', 'する', '双子', '話題', 'なっ', 'いる', '無料', 'の', '読', '始め', 'み', '展開', 'あり', '得', '設定', 'ん', '引き込ま', 'れる', 'ストーリー', '追っ', 'しまう', '楽しみ', '娘', '達', 'アニメ', '観', 'い', 'こちら', '漫画', '試し', '読', 'し', 'ハマっ', 'しまい', '絵', '可愛く', 'ストーリー', '面白い', '途中', '読', 'の', 'すっごい', '面白かっ', '良い意味', '裏切り', 'よい', '先', '気', 'なり', 'アニメ', '見', '思っ', 'て', 'の', '違う', 'く', 'て', 'ハマり', 'し', '面白い', 'アイ', 'ルビー', 'Aqua', '可愛い', '最初', 'ながら見', 'する', '途中', '気づい', '目', '離せ', 'なる', '涙', '流し', 'てる', 'w', '先', 'めちゃくちゃ', '気', 'なる', 'アニメ', 'き', '想像', 'し', 'て', 'の', '全く', '違っ', '内容', '度肝', '抜か', 'れ', 'かなり', '続き', '気', 'なり', '読', '思い', '衝撃', '的', 'ストーリー', '笑', '夢', '叶え', 'られる', 'ん', '思っ', '気', 'なる', '伏線', '回収', 'さ', 'れ', 'いく', 'の', '楽しみ', '漫画', '想像', '超える', '面白い', 'ストーリー', '設定', 'ハマり', 'し', 'めちゃめちゃ', '笑っ', 'ちゃう', 'あり', '得', '先', '気', 'なる', '最初', '見', '時', '期待', 'せ', '見', 'い', '読', '進める', '思っ', '面白かっ', '絵', '可愛', '過ぎ', 'なか', '思っ', 'い', 'はまる', 'アニメ', '知っ', '早く', '知り', '面白い', '途中', '見', 'て', '読', '進め', '人気', 'ある', 'の', '面白い', '主人公', 'oshinoko', 'とこ', '1番', '驚き', '謎', 'あっ', '早く', '完結', '読', 'たい', 'ママ', '生き', 'て', 'ほしかっ', 'ヲタ芸', '赤ちゃん', '幸せ', 'ヲタク', '道', '進ん', '欲しかっ', '続き', '気', 'なるー', '最初', 'あれ', '産まれ', '変わる', 'ある', 'お話', '思っ', '読', '進める', 'お話', 'ハマっ', 'しまい', '絵', '好き', '昔', 'めんご', '先生', '漫画', '好き', '読ま', 'し', 'め', 'っ', 'っ', 'っ', '面白い', '凄', 'すぎる', '赤坂アカ', '先生', '作品', '今', '漁り', '予想外', '展開', 'ストーリー', '進み', '方', 'テンポ', '良く', '読', 'やすい', '読', '進め', 'られる', '内容', '面白く', 'なっ', 'いく', 'の', '楽しみ', '他', '作品', '被ら', 'よう', '気', 'し', 'ら', '芸能界', '闇', '感じる', '良い', '作品', '感じ', 'い', '絵', 'キレイ', '惹か', 'れ', '青春時代', 'お話', '大人', '読', '内容', '引き込ま', 'れ', '楽しく', '読める', '作品', '話', '面白い', 'テレビ', 'お勧め', '紹介', 'さ', 'れ', 'い', 'の', 'きっかけ', '読', '始め', '途中', '続き', '気', 'なり', '転生', '仕方', '面白く', 'oshinoko', '供', 'なれる', '羨ましい', '悲しい', 'こと', 'ある', '成長', 'し', '2人', 'なる', '気', 'なっ', '見', '続け', 'テレビ', '紹介', 'さ', 'れ', '友人', 'オススメ', 'さ', 'れ', '読', 'み', 'oshinoko', '意味', 'なのか', '続き', '気', 'なり', '横槍メンゴ', 'さん', '絵', '可愛く', '好き', '読', '始め', 'の', '涙し', '読', '内容', 'の', '早く', '続き', '読', 'たい', '無料', '読', '少な', 'すぎる', 'ー', 'ファン', '多い', '作品', 'ん', '子供', 'なっ', '主人公', '可愛', 'すぎる', 'ー', '内容', '画', '良い', 'めちゃめちゃ', '面白い', '作品', 'ストーリー', '性', '高く', 'ところどころ', '笑える', '要素', 'あり', 'サスペンス', '的', '展開', 'にも', '目', '離せ', '面白い', 'で', 'くる', '女の子', '可愛い', '話', '面白い', 'いう', 'こと', 'ない', '入荷', 'さ', 'れ', 'て', '読', 'しまい', 'はやく', '続き', '更新', 'さ', 'れ', 'アニメ', '一', '気', '見', 'て続き', '気', 'なっ', '漫画', '読', '始め', '芸能界', '裏側', '描写', 'すごく', 'リアル', '描か', 'れ', 'い', '面白い', '読', '初め', '時', 'ぼんやり', '思っ', 'た方向', '違う', '方向', '進ん', 'いき', '深い', '話', 'なっ', 'いき', '無料', '分', '読', 'の', '続き', '気', 'なり', '読', '途中', 'どこ', '犯人', '絡ん', '来る', 'の', 'ハラハラドキドキ', 'する', 'アイ', '血', '受け継ぐ', '2人', 'しあわせ', 'なっ', 'ほしい', '転生', 'モノ', '話', 'いい', '思い', 'し', '読', 'いる', '中', '好み', 'わかれる', 'しれ', '私', '読', 'いい', '思い', 'クズの本懐', '好き', 'こちら', '読', 'み', '先生', '漫画', '内容', '面白い', '絵', '可愛い', '大好き', '恋愛漫画', 'オタク', '系', '言え', 'サスペンス', 'ミステリー', '先', '気', 'なる', '作品', '一気', '読', 'し', '作品', '話', '楽しみ', '転生', 'モノ', 'アイドル', '人気', 'ある', 'の', 'なんでだろう', '興味本位', '読', 'み', '予想外', 'すぎ', 'て続き', '楽しみ', 'ほんわか', '最近', '流行り', 'やつ', '思っ', 'すごく', 'テーマ', '背景', 'ある', 'ほんわか', '見せ', 'ストーリー', '惹か', 'れ', 'アニメ', 'やっ', 'いる', 'の', '知っ', 'い', '面白い', '聞い', 'い', '原作', '知り', '読', 'み', '天性', '転生', 'モノ', 'ビックリ', '内容', '面白い', 'アニメ', '並行', 'し', '見', '最初', '泣き', 'そう', 'なっ', '途中', 'Aqua', '展開', '気', 'なる', '無料', '分', '読ま', 'し', '面白い', '今', '流行り', '転生', 'モノ', '好き', 'ん', 'ミステリー', '要素', '引っ張ら', 'れ', '文句なし', '５', '個', 'アニメ', '見', 'ドハマリ', 'し', '漫画', '読', 'き', '今後', '展開', '気', 'なる', 'ー', '早く', '続き', '読', 'たい', '見', 'の', '先生', 'Twitter', '無料配布', 'さ', 'れ', 'い', '時', 'そこ', 'アニメ化', 'さ', 'れ', '続き', '読', '始め', '知り合い', 'オススメ', '読', 'み', '想像', '違う', '展開', 'びっくり', '無料', 'ところ', 'あっ', '面白く', '課金', 'めちゃくちゃ', 'ネット上', '話題', '気', 'なっ', '読', 'み', '可愛い', '表紙', '想像', 'つか', 'ベクトル', 'ストーリー', 'アニメ', '見', '漫画', '飛び込ん', '感じ', 'ドハマリ', 'し', 'しまい', 'すごく', '続き', '気', 'なる', 'しめ', '面白い', 'アイドルオタク', 'し', 'いる', '手', '取っ', '設定', '受け付け', 'アイドルオタク', '思い', 'oshinoko', '産まれ', '面白い', '産まれ', '変わり', '前世', '記憶', '持っ', 'まま', 'oshinoko', '供', 'なる', '羨ましい', 'その後', '芸能界', '話', '引き込ま', 'れ', '作品', '読', '朝', 'なっ', 'しまっ', '芸能界', '漫画', '知ら', '事', 'いっぱい', '読', 'で', 'する', 'アニメ化', 'きっかけ', '読', 'み', '想像', 'スケール', 'デカ', 'く', 'て続き', 'めちゃくちゃ', '気', 'なり', '輪廻転生', 'ある', 'ん', '表紙', '子', 'い', 'なる', '展開', '転生', '犯人', '気', 'なる', '2人', 'お互い', '気づく', 'こと', 'ある', 'の', '楽しみ', '最近', '漫画', 'なか', '一番', 'これ', '紹介', 'さ', 'れ', '読', '展開', 'やくて', '先', 'き', 'なる', '今', '流行っ', 'いる', '聞い', '読', 'み', '転生', 'モノ', '明るく', '軽い', '感じ', '子供', '読む', 'いい', 'よう', '気', 'し', '大人', '読む', '物足りない', 'ストーリー', '展開', '設定', '胸', 'えぐる', 'よう', '言葉', '台詞', '評価', '高い', 'の', 'アニメ化', 'さ', 'れる', 'の', '納得', '表紙', '想像', '付か', '展開', 'ビックリ', 'し', '表紙', '絵', '苦手', '読ま', 'い', 'の', '損', 'し', '絵', '可愛い', '読', 'やすい', '笑え', 'るし', '内容', 'ダーク', 'ギャップ', 'あり', '続き', '気', 'なっ', '久しぶり', '課金', 'し', 'そう', 'アニメ', '見', '知っ', '設定', '面白く', '絵', '綺麗', 'ミステリー', '感じ', '次', '気', 'なる', '現代', 'リアル', '切り取っ', 'て', 'すごい', '読ま', 'し', '衝撃', '展開', '今後', '気', 'なり', '仕方', 'あり', 'アイ', '殺さ', 'れ', 'しまう', 'の', '驚き', 'まじ', 'これ', 'サイコウ', '何', 'いい', '全部', '素晴らしい', '面白', 'そう', 'タイトル', 'ひか', 'れ', 'み', 'やめ', 'られ', '読', 'やい', '絵', '素敵', 'ハマり', '続き', '楽しみ', 'アイドル', 'い', 'いい', '面白い', '早く', '続き', '読', '絵', '可愛い', 'ハマり', 'すぎ', '魅力', '的', 'キャラクター', 'シリアス', '展開', 'リアル', '芸能', '設定', 'それぞれ', '場', '成長', 'し', 'いく', 'の', '面白い', 'アニメ', '見', 'ーーーー', '凄い', 'よかっ', 'oshinoko', 'めちゃくちゃ', '好き', '作画', 'いい', '泣ける', '応援', 'し', 'ガチ', '気', 'なっ', 'い', '無料', '気', '読', 'み', '面白く', '読め', 'ちゃい', '絵柄', '可愛い', 'スタート', '一転', '極上', 'ミステリー', 'なる', '秀逸', '絵柄', '可愛い', 'ここ', '展開', '気', 'なっ', 'しまう', 'めちゃくちゃ', '面白い', '最初', '表紙', '見', '時', '何', 'アイドル', '成長', '系', '漫画', '思い', '見', 'の', 'Netflix', 'アニメ', '見', '思っ', 'て', 'の', '違う', '思い', '気', 'なっ', '漫画', '先読', 'き', 'い', 'w', 'なっ', 'ちゃう', 'の', 'モヤモヤ', 'する', 'よう', '気持ち', 'なる', 'こと', 'あり', '先', '気', 'なっ', '一気', '読', 'し', 'ちゃい', '転生', 'モノ', 'ご都合主義', '苦手', '興味', 'なかっ', 'の', 'アニメ', 'OP', 'MV', '見', '闇', '感じる', 'これ', '綺麗事', '期待', '膨らまし', '読', '始める', '2日', '既刊', '分', '11巻', '全て', '読', 'しまっ', '現実世界', '起き', 'いる', 'こと', 'リアル', '描か', 'れ', 'い', '表面', '上', 'こと', '作品', '批判', 'する', 'こと', 'なく', '物語', '深い', '所', '目', '向け', 'ほしい', '思っ', 'い', '作品', '他人事', '思わ', '一方的', '人', '物', '批判', 'する', 'こと', '誰か', '傷つける', '行為', 'こと', '気づい', 'ほしい', '思っ', 'い', 'あり', '得', '設定', 'ある', '活きる', 'シナリオ', '面白い', '世の中', '現実', '残虐', '性', '向き合っ', 'いる', '凄い', '作品', '衝撃', '的', '作品', '完結', 'する', 'の', '予想', 'でき', '最後', '楽しく', '見守り', 'アニメ化', 'し', 'い', 'ハマっ', 'しまい', '絵', '綺麗', '話', '気', 'なっ', 'はやく', '次', 'はやく', '次', 'なっ', 'しまう', 'よう', '続き', '気', 'なる', 'いい', '作品', 'ひ読', 'ください', '一見', '転生', 'モノ', 'かー', '見', 'い', 'アイ', '殺さ', 'れ', 'びっくり', 'し', 'ストーリー', '没入', 'し', 'しまい', 'の', 'ハマっ', 'しまい', '絵柄', '見', '読む', 'の', 'やめ', 'い', 'の', '読', 'みる', '面白い', 'ハマっ', 'しまっ', '全巻', '揃え', '迷っ', 'いる', '方', '読', 'みる', 'こと', 'オススメ', 'し', '次', '読', 'なる', 'よう', '漫画', '今', '読', 'い', '漫画', '面白', 'さ', 'トップ', '10', '間違い', '入る', '漫画', '毎回', '続き', '気', 'なる', '次', '展開', 'なる', 'の', '想像', 'つか', '楽しみ', '今回', '私', '地元', '出', 'き', 'びっくり', '笑', 'アニメ', '観', 'ハマり', '最初', 'コメディ', '感じ', 'スタート', '徐々', '増す', 'ダーク', '感', 'キャラ', '一人一人', '個性', 'たっ', 'てる', 'ストーリー', '凄い', '久しぶり', 'ハマり', '一話', '目', '大事', '続く', '物語', '良く', 'する', 'の', '悪く', 'する', 'の', 'これ', '大事', '一話', '目', '期待', '大', 'なり', '二話', '目', '以降', '続く', 'い', '原作', 'キツ', 'く', 'なる', '分かる', '話', '盛り込み', 'ジャ', 'ナイ', '何度', '繰り返し', '読', '物語', '埋没', 'する', 'の', 'あり', '原作', '寄り', 'すぎる', '別', '話し', 'パラレルワールド', '面白い', '色々', '世界', '在り', '楽しん', 'タイトル', '表紙', 'オタオタ', 'し', 'てる', '敬遠', 'し', '食わず嫌い', 'いけ', 'アニメ化', 'バズ', 'るし', '軽い', '気持ち', '読', 'み', '出だし', 'イメージ', 'どおり', '思い', '読', '進める', '先入観', 'スゴ', 'い', '復讐劇', '始まり', '産まれ', '変わっ', '前世', '記憶', 'し', 'て', '知識', '含め', '長い', '長い', '復讐劇', '始まっ', '引き込ま', 'れ', 'しまう', '面白', 'さ', '壊れ', 'いき', 'テーマ', '一つ', '嘘', 'ある', '思う', 'の', '世界観', '嘘', '感じ', 'ギャップ', 'えぐい', '漫画', '描い', '赤坂アカ', '先生', '横槍メンゴ', '先生', '主題歌', 'アイドル', '聴い', '原作', '方', '気', 'なっ', '読', '来', 'メチャクチャ', '面白く', '内容', '濃く', '深い', '主題歌', '歌詞', '意味', '良く', 'わかっ', 'ハマっ', 'い', '登場', 'キャラ', '個性的', 'Aqua', 'あかね', '二人', '恋愛模様', '引き込ま', 'れ', '自分', 'あまり', 'アイドル', 'アイドル', 'し', 'てる', 'アニメ', '好き', 'ん', '娘', '勧め', 'られ', 'アニメ', '観', 'ハマっ', 'しまい', '笑', '漫画', '夢中', 'ただ', 'アイドル', '物語', 'なく', 'アイ', '真犯人', '探す', 'サスペンス', '有り', 'ミステリー', 'あり', '芸能界', '闇', '要素', 'あっ', '凄く', '大好き', 'アク', '原作漫画', '業界', '環境', '説明', '精緻', 'ストーリー', 'だれ', '引き込ま', 'れる', '魅力的', 'アニメ', '最初', '内容', '自信', 'ある', 'できる', '放映', '芸能', 'クリエイター', '環境', '放映', 'し', '制作', '者', 'なる', '人', '勧誘', 'し', 'てる', '層', '厚く', 'し', 'てる', '思う', 'ネット小説', 'ネット', 'コミック', '敵', '取り込む', '会議', '培っ', '方針', '凄い', '思い', '能力', '熱意', '結果', '出す', '運営能力', 'それら', '要素', '素晴らしい', '面白く', '見', 'い', 'アニメ', '入り', '続き', '読', 'たくっ', '読', 'たくっ', 'アニメ', '漫画', '方', '頭', '中', '入っ', 'き', '最高', 'アニメ', '見', '早く', '続き', '読', '購入', 'し', '絵', '綺麗', '読', 'やすく', '感激', 'し', 'おり', '全巻', '揃っ', 'い', 'の', '早く', '次', '巻', 'みたい', '可愛い', 'キャラ', 'たくさん', 'い', 'ものすごく', '個性', '的', 'キャラ', '多い', '他', 'ものすごく', 'ミステリアス', 'すご〜い', 'アニメ化', 'する', 'なっ', '試し', '一巻', '無料', '読', 'し', 'はまり', 'キャラ', '1人1人', '心情', '描写', '面白く', 'ストーリー', '伏線', 'まみれ', '最新巻', 'たどりつき', '試し', '一巻', '無料', '読', 'し', 'はまり', 'キャラ', '1人1人', '心情', '描写', '面白く', 'ストーリー', '伏線', 'まみれ', '最新巻', 'たどりつき', 'ここ', '晒し', '大丈夫', '思う', '程', '真偽', '別', '業界', '事', '詳細', '説得力', 'ある', 'ストーリー', '惹き', '込ま', 'れ', '読む', '前', 'ある', '推し', '事', 'ラブストーリー', '転生', 'モノ', 'mix', '思っ', '自分', '恥じ', '1巻', '主役', '殺害', 'さ', 'れる', '展開', '驚き', '子供', 'ファン', '転生', '母親', '殺害犯', '探し', 'いく', '復讐', 'ストーリー', '軸', '登場人物', 'それぞれ', '作り', '込ま', 'れ', '役割', '仕事', '観', '人生', '共感', 'し', '応援', 'し', 'なっ', '早く', '結末', '知り', '様', '続い', '欲しい', 'よう', '私', '推し', 'Aqua', '笑っ', '生き', 'られ', '様', '読', '普通', 'アイドル', '少年漫画', '思っ', 'て', '1巻', '読', '何', 'これ', 'ダバダバ', '号泣', 'もの', '衝撃', '受けて', '引き込ま', 'れ', 'アニメ', '見', '感動', '言葉', '説明', 'すれ', '設定', 'はち', 'ゃめちゃでありえないっと', '流し', 'しまう', '登場人物', '心情', 'それぞれ', '深く', '芸能界', '社会的', '仕組み', '説明', 'し', 'い', '光と影', '描写', 'さ', 'れ', '最初', '子供', '医者', 'アイ', '死ぬ', '系', '物語', '思っ', 'て', '驚き', '復讐劇', '思っ', 'て', 'これ', 'これ', 'いい', 'アニメ', '話', '存在', '知っ', '読', 'みる', '凄く', '面白く', '全巻', '購入', 'し', '明るく', '皆', '人気者', 'アイ', '凄く', '憧れ', '最初', '誰', '主人公', 'なのか', '分から', '読', '進め', 'いく', '内', 'はまり', '面白い', '勧め', 'アニメ', '3話', '見', '続き', '気', 'なっ', '原作', '読', '始め', '1巻', '正直', '面白', 'さ', '感じ', '3巻', '読', 'ほしい', '3巻', '読め', '作品', '面白', 'さ', '完全', 'のめり込み', '11巻', '買っ', '読', 'まった', '面白い', '今', '面白い', '漫画', '友人', '薦める', '漫画', '3巻', '持っ', 'い', 'ところ', 'アニメ', '始まり', '続き', '気', 'なっ', '全巻', '揃え', 'めちゃくちゃ', '面白い', '一人一人', '個性', '関係性', '目', '離せ', '何気なく', '読', '始め', 'ハマっ', 'しまい', 'キャラクター', '魅力', 'ストーリー', '展開', 'ドキドキ', 'し', '読', '耽っ', 'い', '衝撃', '的', '展開', '読', '進め', 'しまい', 'ギャグ', 'パート', 'シリア', 'スパート', '落差', '激しい', '闇落ち', 'し', 'しまっ', 'Aqua', 'ルビー', '行動', '結末', 'なる', 'の', '見届け', '思い', '最高', 'なん', 'かも', '衝撃', '演劇', 'のめり込ん', 'しまう', 'よう', '観客', '気持ち', 'なり', '演劇', '興味', 'ある', 'これ', '機', '始め', '最初', '表紙', '子', '成長物語', 'なのかな', '思っ', 'て', '普通', '泣い', '親', 'いる', 'ボロボロ', '泣い', 'アイちゃん', '最後', '愛してる', '嗚咽', 'し', '漫画', '見', '感動', 'し', '重曹', 'ゲッター', 'インパクト', 'あり', 'すぎ', '最近', '泣け', 'なっ', '泣き', 'たい人', '上書き', 'する', '重曹', 'ゲッター', '見', 'し', '方', 'いい', 'アニメ版', '数', '話', '視聴', 'し', 'の', '馴染め', '視聴', '辞め', '友達', '相談', 'し', '原作', '薦め', 'られ', '電車', '降り', 'れ', '位', '一気', '読', 'する', 'ハマっ', 'しまい', '笑', 'wAqua', '君', '優秀', '過ぎ', '前世', '頭', 'いい', 'オタク', 'イメージ', 'ん', '恋愛', '演技', 'スキル', '高', 'い人', 'ん', '先生', '方', '芸能界', '漫画', '界', '裏', '取材力', '脱帽', 'し', '色々', '勉強', 'なり', 'たもう', '配信', '待て', 'アイドル', '題材', 'し', 'コメディ', '興味', '持て', 'アニメ化', 'きっかけ', '読', 'み', '驚き', '芸能界', '舞台', 'し', '犯人', '探す', 'ミステリ', 'サスペンス', '要素', 'ある', 'の', '加え', '業界', '裏話', '含め', '芸能界', '頑張る', '人たち', '描く', 'シビア', 'お仕事', '物', '楽しめる', 'めちゃくちゃ', '面白い', '続き', '気', 'なり', 'すぎ', '最新', '話', '全部', '一', '気', '読', 'し', 'しまっ', '作中', '幼稚園', '児', '京極夏彦', 'サイコロ', '本', '読む', 'ネタ', 'あっ', 'アニメ', '協賛', '京極夏彦', '名前', '出し', 'いる', '読', 'いる', 'の', '傑作', 'ミステリ', '小説', '言わ', 'れる', '絡新婦の理', 'これ', 'oshinoko', '単純', '犯人', '見つけ', '終わり', '話', '事件', '裏', '操る', '別', '黒幕', 'いる', '可能', '性', '示唆', 'し', 'いる', 'の', 'もし', 'そう', '一番', '最初', '容疑', '外れ', '人', '怪しい', '人知', '超え', '存在', 'いる', '世界', '一', 'ひねり', 'あり', 'そう', '何', 'せよ', '結末', '気', 'なる', '作品', 'おとこ', '媚び', 'アイドル', 'もの', '思っ', 'い', 'シリアス', 'あり', '考え', 'させ', 'られる', 'ところ', 'あり', '引き込ま', 'れ', 'いき', '最新刊', '購入', 'し', 'しまい', '続き', '気', 'なる', 'おすすめ', '内容', 'タイトル', '聞い', 'こと', '予備', '知識', '全く', 'なく', '読ま', 'し', 'アイドル', '推す', 'オタク', 'お話', '読', '進める', 'タイトル', '意味', '驚き', '読む', '手', '進み', 'それぞれ', '登場人物', '成長', '思惑', '垣間見', 'れ', '毎回', 'し', '読', '面白い', 'アイドル', '推す', 'エロ', 'っぽい', 'ストーリー', '思っ', '1巻', '分', '無料', 'あっ', '読', 'み', 'びっくり', 'エロ', 'っぽい', 'の', 'なし', 'いか', '思っ', 'い', 'なく', '転生', '物', 'ミステリー', '系', '泣き', 'お笑い', '入っ', '絵', '綺麗', '好み', 'ストーリー', '飛ん', 'いる', '読', 'い', '予想', 'つか', '楽しい', '値段', '高い', 'の', '残念', 'すごく', '引き込ま', 'れる', 'アニメ', 'し', 'てる', '1巻', '読', 'みよ', '思っ', '全巻', '買っ', 'て', 'タイトル', 'わから', '内容', 'テンポ', '良さ', 'こわい', '面白かっ', 'みんな', '読', '最初', 'きもい', 'おもっ', 'そこ', '乗り越える', '楽しめる', 'アイドル', '芸能人', '汚い', '所', '描か', 'れ', 'いる', '美しく', '惹き', '込ま', 'れる', 'よう', '感じ', 'し', '設定', '何もかも', '予想外', '先', '読め', '感じ', '面白い', '転生', '恋愛', 'サスペンス', '全部', '混ざっ', 'てる', '感じ', 'し', '最初', 'アイドル', '漫画', '思っ', 'い', 'の', 'か体', '水分', '全部', '抜け', 'アイ', '2人', '公表', 'せ', 'ファン', '愛', 'こもっ', '嘘', '吐き', '続け', 'それ', 'しよう', 'い', '頑張っ', '愛', 'しよう', 'し', 'いる', '姿', '見', 'めちゃくちゃ', '感情', '移入', 'し', 'しまい', 'あと', '愛してる', '込め', 'られ', '思い', 'その後', '2人', '復讐', 'し', 'やる', '思い', 'すごく', 'すごく', 'これ', '人類', '読', '欲しい', '思い', 'アイ', '活躍', 'し', 'いく', '中', 'ある日', '医者', 'Gorou', '殺し', '人', '現れ', 'アイ', '泣', 'ストーリー', '感動', '的', '10日', '前', 'アニメ', '見', '読出', 'し', '面白い', '二時間', '泣い', 'い', '絶対', '今年', '最高傑作', '1巻', '読ま', 'したがお', '面白', 'すぎる', '笑い', '有り', '涙', '有り', 'ん', 'キャラ', 'ストーリー', '没入', 'し', 'しまう', '素晴らしい', '作品', 'ある', 'の', '今', '気付か', 'かんじ', 'すごく', '感動', 'する', '作品', 'ネタバレ', '含み', 'アイ', '殺さ', 'れ', 'しまう', 'ところ', '星野', 'Aqua', 'ルビー', '復讐', 'する', 'ところ', '共感', 'でき', 'ぜひ', '一', '度', '手', '取っ', 'み', 'ください', '初め', '少女漫画', '思っ', '本屋', '見かけ', '興味', 'なく', '人気', '気', 'なっ', 'い', '今回', '無料', '版', '読', '衝撃', '受け', 'にも', '魅力', '的', 'キャラ', '芸能界', '厳しさ', 'アイ', '胸中', '1', '冊', 'これだけ', '詰め込ん', 'ある', 'すごい', '今', '買っ', 'てる', '漫画', '全部', '売っ', 'oshinoko', '買い', '僕', 'ルビー', '推し', '絵', '可愛く', '読', 'やすい', 'キャラクター', 'それぞれ', 'いい', '味', 'だして', '読', 'で', '面白い', '読め', 'ArimaKana', 'かな', 'ちゃん', '発', '登場', '時', '大好き', 'Aqua', '闇', '救える', 'の', 'かな', 'ちゃん', 'い', 'あかね', 'ストレス', 'たまる', '家族', 'ぐるみ', '思っ', 'て', '違', 'く', '復習', 'みたい', 'なっ', 'てる', 'それ', 'すごい', '面白い', '久しぶり', '感動', 'し', '涙し', '作品', 'アニメ', '始まり', '盛り上がる', '思い', '皆さん', 'アニメ', '漫画', '見', '頂き', '作品', '評価', 'お願い', 'し', 'めちゃくちゃ', '面白い', '一気', '読', 'し', '絵', 'きれい', '文句なし', 'ママ', '死ん', 'ほしく', '芸能界', '産婦人科医', '知識', 'いか', 'せ', 'の', '勿体ない', 'それ', '上回る', '内容', '表紙', 'かわいく', '試し', '読', '入っ', 'ん', '絵', 'すごく', '可愛い', '1巻', '重要', '人物', '死ぬ', '予想', 'し', 'て', '出来事', '私的', 'すごく', '斬新', 'いい', '思い', '迷っ', 'いる', '人', 'ひ読', 'ください', '名前', '知っ', 'て', 'イラスト', 'いい', '思っ', 'アニメ', '手', '付け出し', 'もの', 'アニメ', '漫画', '最高', 'すぎ', '電子書籍', '版', '買っ', '全部', '読', 'まじ', 'し', 'ほんま', '面白かっ', 'みんな', '見', 'ほしい', '作品', '一つ', '展開', '続い', '息', '着け', '今後', 'なる', 'の', '目', '話せ', '主人公', '達', '以外', '登場人物', '達', '描か', 'れ', 'い', '彼ら', 'あと', 'Aqua', 'ルビー', '関わっ', 'いく', '事', 'なっ', 'いく', 'の', '物語', '終着', '見え', '凄い', '評判', '作品', '前々', '名前', '知っ', 'い', 'の', 'オタク', '主人公', 'ルンルン', 'ライフ', 'ストーリー', '思っ', '読ま', 'せ', 'アニメ', '観', '原作', '読', '始め', 'ゴメン', 'さい', '面白い', 'ルンルンライフ', 'ストーリー', '始め', 'アニメ', '1話', '見', 'みる', '予想外', '面白かっ', 'ここ', '来', '予備', '知識', 'なし', 'い', '驚き', 'っぱなし', '続き', '気', 'なり', 'トラウマ', '経', '大切', '距離', '置く', '真意', '重', 'すぎる', 'ルビー', '真実', '知っ', '結局', '2人', '変わっ', 'しまっ', '暗い', '感情', '向く', '先', '同じ', 'の', '切ない', '真っ黒', 'なっ', 'もの', '白', '戻れ', 'の', '嘘つき', 'だらけ', '世界', '復讐', '遂げ', 'アイ', '産まれ', '2人', '誰か', '愛し', '幸せ', 'なっ', '欲しい', '個人的', 'ArimaKana', '１', '番', 'ウザ', 'く', 'キライ', 'Aqua', '好き', '好き', 'たまら', 'ツンデレ', '天の邪鬼', '面倒くさい', 'クソ女', 'ArimaKana', 'どっか', '退場', 'し', 'ほしい', 'キライアニメ', '観', 'てる', 'ArimaKana', 'ウザ', 'い', '以前', '無料', 'なに', '読', '始め', 'アイ', 'キャラ', '好き', 'なれ', '20', 'p', 'ギブ', 'し', 'い', '今回', '1巻', '無料', '序盤', 'アイ', '奔放', 'さ', 'イラ', 'つき', '1巻', '読切り', 'アイ', '以外', '登場人物', 'それぞれ', '共感', 'でき', 'ストーリー', 'スピード感', '引き込ま', 'れる', '華やか', '芸能', '界', '表', '裏', '努力', 'ストーリー', '要', 'サスペンス', '要素', 'ドキドキ', 'し', '次', '気', 'なる', 'よう', '巧み', '仕掛け', 'られ', 'い', 'ラスト', 'ハッピーエンド', 'し', 'ほしい', 'なる', '予想', 'でき', '1巻', '無料', 'ページ', '開き', 'タイトル', 'アイドル', '物', 'し', '作品', '思い', '予想外', '展開', '進み', 'あまり', '面白', 'さ', '大人買い', 'し', 'しまい', '読', '進め', 'タイトル', '意味', '間違っ', '解釈', 'し', 'い', 'ころ', '気づき', 'おすすめ', 'できる', '漫画', '3巻', '読', 'ストーリー', '面白い', 'ご都合主義', '多く', '現実', '戻っ', 'しまい', 'サスペンス', '要素', '強く', '先', '読め', '続き', '書き', 'なる', '作品', '思い', 'タイトル', '表紙', '絵', '好み', '外れ', 'い', 'の', '評価', '立ち読', '読', 'み', '面白く', '結局', '読', 'しまい', 'サスペンス', 'ファンタジー', '設定', '芸能界', '裏話', '詳細', '描か', 'れ', 'いる', '現実味', 'あっ', '引き込ま', 'れ', '現在', '配信', 'さ', 'れ', 'いる', '10巻', '読', 'き', '最初', '主人公', '彼', '慕う', 'アイドル', '好き', '少女', '夢', '見', '本物', '出会い', '繰り広げ', 'られる', 'サスペンス', '劇か', '思い', 'いい', '意味', 'めちゃくちゃ', '裏切ら', 'れ', '作品名', '読', '進める', '意味', '感心', 'し', 'きり', '中盤', 'さしかかる', 'ころ', '初期', 'キャラ', '印象', '消え去り', '芸能界', '群雄割拠', 'モノ', 'なっ', 'いき', 'それ', '面白い', '消え', 'かかっ', '完全', '消え', '思っ', 'キャラ', '思わ', '復活', '成長', 'し', '物語', '幅', '広がっ', 'ひとりひとり', 'ルーツ', '掘り下げ', 'いく', '過程', '面白い', '半グレ', '系', '作品', 'ルーツ', 'たどり', 'ある', '環境', '道', '踏み外さ', '得', '的', '胸', 'ク', '〇', '言い訳', '垂れ流', 'さ', 'れ', '辟易', 'する', 'こと', 'ある', '作品', 'キャラ', '掘り下げ', '見事', '思う', '圧倒的', '絵', 'カワイイ', '青年誌', '連載', 'さ', 'れ', 'いる', '男性ウケ', '狙っ', 'こと', '思わ', 'せる', '女性', '見', 'カワイイ', '顔立ち', 'ツボ', '抑え', 'いる', '途中', '芸能界', '出世', '物語', 'サスペンス', '要素', '加わっ', 'き', '正直', 'ところ', 'そこ', 'いいんじゃない', '思う', 'ところ', 'ある', '実現', 'し', 'い', '再会', 'ため', 'そこ', 'ところ', '展開', '必要', 'の', '思う', 'アニメ化', 'イジリ', 'さ', 'れ', 'ヒット', 'なる', 'の', '将来', '令和初', '期', '傑作', 'ひとつ', 'かぞえ', 'られる', 'の', '確実', 'おすすめ', '作品', 'oshinoko', '２', '話', '１０話', '冒頭', 'インタビュー', 'あり', 'なか', '６話', '女優', 'インタビュー', 'かな', 'ちゃん', 'くん', 'おこら', 'れる', '言う', 'ところ', '気', 'なっ', 'い', 'くん', 'Aqua', 'こと', 'ん', '今', 'Aqua', 'かな', 'ちゃん', '関係', 'あれ', '経緯', 'くん', '呼び', 'なる', 'の', '2人', '関係性', '変化', '凄く', '気', 'なっ', 'いる', '楽しみ', '売れ', 'なっ', 'き', '子役', 'かな', 'ちゃん', 'Aqua', '元気づけ', 'られ', '良い', '笑顔', 'アンタ', 'oshinoko', 'なっ', 'やる', 'シーン', '大好き', 'アニメ', '応援', 'し', '芸能界', '物', '大好き', 'ん', 'こちら', '一風', '変わっ', '作品', '表紙', '可愛い', '絵柄', '想像', 'つか', 'よう', '芸能', '界', '闇', '殺人事件', '犯人', '探す', '展開', 'なっ', 'いき', '続き', '気', 'なっ', '気', 'なっ', 'ジャンプラ', '毎週', '読', 'い', 'コミックス', '購入', 'し', 'い', 'アニメ化', '人気', '出る', '思い', '世界観', '引き込ま', 'れる', '作品', '大好き', 'アイドル', '子供', '転生', 'し', 'その後', 'アイドル', '殺さ', 'れ', 'ちゃっ', '復讐', 'しよ', 'し', 'いる', 'Aqua', 'めちゃくちゃ', 'かっこよく', '好き', 'すごく', 'おすすめ', '毎回', '新刊', 'でる', '集中', 'する', '気合い', '入れ', '読', 'い', '前世', '自分', '母', '殺し', 'の', '誰', '本題', '目', '前', '起こる', '出来事', '並行', 'し', '進め', 'いく', 'タイプ', 'お話', '作品', 'もの', '早く', '本筋', '方', '進ま', 'せ', '集中', '途切れ', 'しまう', 'こと', 'ある', 'の', '作品', 'ドラマ', '編', '恋愛', 'リアリティー', 'ショー', '編', '2', '5', '舞台', '編', 'それぞれ', 'お話', '単体', '切り取っ', '全部', '面白い', 'すごい', 'Aqua', '中心', '双子', '妹', 'こちら', '前世', '記憶', '持ち', '描写', 'あり', '深', '掘り', 'さ', 'れ', 'まま', '進ん', 'き', '感じ', 'まま', '行く', 'の', '思い', '覚醒', 'する', 'シーン', '出', '惹き', '込ま', 'れ', '覚悟', '決め', 'キャラ', '動い', 'いく', 'の', 'かっこいい', '毎回', '次', '出る', 'の', '楽しみ', '漫画', 'TV', 'コスプレ', '暴露', '編', '終わり', '次', '主役', 'ArimaKana', 'なに', '感じ', 'ところ', '話', '終わり', '僕', '言い', 'の', '一言', 'ArimaKana', '幸せ', 'なっ', 'ほしい', '話', 'キャラクター', '増える', 'ありがち', '被っ', 'てる', '理由', 'ある', 'それ', '回収', 'し', 'キャラクター', '区別', 'つき', 'やすく', 'なる', 'ストーリー', 'サスペンス', '要素', '主', '業界人', '裏話', '的', 'もの', 'あちこち', '入っ', 'い', '偏り', '気味', 'の', 'ある', '自分', '業界', '足', '突っ込ん', 'よう', '気分', 'なる', '圧倒的', '臨場', '感', '生々し', 'さ', '楽しみ', 'アク', 'たん', '闇', 'ルビ', 'たん', '暗躍', 'どれ', 'これ', '絶妙', 'フラグ立て', 'まくり', '続き', '気', 'なり', 'すぎ', '今後', '出', 'き', 'そう', 'キャラ', 'たち', '追加', '登場', 'し', 'キャラ', '表情', '豊か', 'すぎる', 'ん', '暗黒', '微笑', 'うま', 'すぎ', '笑', '絵', '綺麗', 'すぎ', '少女漫画', '思う', '最初', 'お母さん', 'アイドル', '家族', 'コメディー', '思っ', 'ん', '違い', 'アイドル', '表', '顔', '裏の顔', '表し', '作品', 'した', '話', '多い', '読', 'しまう', '…。', '興味', '引く', '作品', '表紙', '少女漫画', '思っ', '青年漫画', 'だし', '１', '巻', '無料', '読', 'み', '結果', '２巻', '購読', 'し', '意欲', 'ブワァァァ', '湧い', 'しまっ', '笑', '１巻', '目', 'テンポ', '良く', 'ストーリー', '進み', '２巻', '目', '本番', '買っ', '読む', '展開', '予測', 'さ', 'せる', '1巻', '惹か', 'れ', '全巻', '読破', '推し', '増え', 'いく', 'Aqua', '動か', 'の', '原動力', '大事', '華やか', '業界', 'テーマ', '被害者', 'その後', '復讐', '物語', '暗い', 'の', 'いい', '創り', '上げ', 'られ', '復讐', '鬼', 'イカれた', '神話', 'なぞる', 'よう', '燃え', 'あの日', '死に損なっ', 'ん', '足元', '悪魔', 'すくわ', 'れ', 'の', '脳内再生', 'し', 'て', 'ピッタシ', '作品', '笑', '目', '白黒', '使い分け', 'られ', 'ん', '分かり', 'やすく', 'いいね', '停滞', '後ろ', '下がっ', 'てる', '同然', '頑張っ', '輝い', '欲しい', '兄妹', '対決', 'みたい', '願望', 'ツイッター', '見かけ', 'し', '読', 'とき', 'なん', '都合', '転生', 'モノ', '思っ', 'い', 'の', '簡単', 'もの', '1巻', '展開', '続き', '本当', '物語', '2巻', '始まる', 'の', '上手', 'すぎ', '表紙', 'すごく', '可愛く', '華やか', 'アイドル', '推し', '明るく', '見える', '題材', '闇', '垣間見', 'える', 'そこら', 'じゅう', '闇', 'だらけ', '最高', '思い', 'ストーリー', '大好き', 'ドハマリ', 'し', 'い', '先', 'なっ', 'いく', 'の', '楽しみ', '誰', '犯人', 'の', '気', 'なり', '芸能界', '闇', '深', 'すぎ', 'よう', '展開', 'なる', 'の', '分かり', '産まれ', '変わり', '人生', 'やり直し', '芸能界', '生き方', '読む', 'の', '楽しい', 'アイドル', '亡くなっ', 'こと', '衝撃', '双子', 'それぞれ', '前世', 'アイ', '思い入れ', 'あり', '復讐', 'する', 'の', '面白い', '初め', 'アイドル', 'ヲタ', '話', '思っ', 'ミステリー', 'あり', '芸能界', 'サクセス', '成り上がり', 'あり', 'ストーリー', '引き込ま', 'れ', '一気', '読', '人気', 'ある', 'の', '頷け', '続編', '楽しみ', 'アニメ化', 'きっかけ', '読', '始め', 'ミステリー', '要素', 'あっ', '夢中', '読', '進め', '芸能界', '裏側', '見', 'いる', '感じ', '面白い', 'ジャンプ+', '話', '追っ', '続き', '気', 'なり', '過ぎ', '今', '重曹', 'ちゃん', '幸せ', 'なっ', 'ほしい', '願い', '芸能界', '恋愛', 'リアリティ番組', '2.5次元', '裏側', '妙', 'リアリティ', '感', 'あり', '読', 'い', 'どこか', 'ゾクゾク', 'し', 'ストーリー', '楽しみ', 'し', 'い', 'サスペンス', '芸能界', '恋愛', '復讐', 'アイドル', '色々', '要素', 'てんこ盛り', '面白い', 'ファーストステージ', '編', '好き', '新生', 'B', '小町', '可愛く', '最高', 'タイトル', '回収', 'シーン', '言うまでもない', 'サスペンス', '部分', '謎', '明らか', 'なっ', 'て', '面白い', 'アイ', '美人', 'Aqua', 'ルビー', '美形', '父親', '美しい', 'ん', '笑', '私', '恋愛', '要素', '好き', '普段', '復讐', '頭', 'いっぱい', 'Aqua', 'かな', 'ちゃん', 'いる', 'とき', '素', '笑顔', '見せ', 'いじけ', '傷つい', '特別', '感じ取れる', '描写', 'あっ', 'かな', 'ちゃん', '方', 'Aqua', '全て', '惚れ', 'たり', 'Aqua', 'ArimaKana', 'かな', 'ちゃん', '見', 'お互い', '想い', '早く', 'くっつけ', '距離感', 'アカ', '先生', 'かぐや様は告らせたい', '感', 'あっ', 'うずうず', 'し', '読', 'ArimaKana', 'かな', 'ちゃん', '性格', 'かぐや', '近い', '笑', 'Aqua', 'ArimaKana', 'かな', 'ちゃん', '出会い', '意味', '持つ', '事', 'なる', '6話', 'ナレーション', 'あっ', '今後', '二', '人', '関係', 'なる', '楽しみ', '殺人未遂', '人として', '最低', '事', 'し', 'あかね', '幸せ', 'なら', 'ほしい', '最新巻', '内容', 'なり', '先生', '姿', '見つけ', 'られ', 'の', '良かっ', 'の', 'しれ', 'ルビー', 'ちゃん', '辛く', 'Aqua', 'くん', '悲しく', '憎い', 'こと', '真相', '近づき', '落ち着ける', 'よう', 'なる', 'の', '思い', '落ち着け', 'そう', 'なく', '子', 'たち', 'アイちゃん', '何', 'し', '言う', 'ん', '気持ち', 'なり', '展開', '速く', '面白い', 'リアリティー', 'ショー', '2.5次元', '実写化', 'リアル', '世界', '漫画', '見る', 'の', 'ない', 'そこ', '興味深い', '名前', '知っ', 'い', '目', '中', '星', '絵', 'おもっ', 'い', 'の', '２０２２年', '漫画', '大賞', '注目', 'さ', 'れ', 'い', '購入', '話題作', '面白い', '才能', 'ある', 'アイドル', '活躍', 'あなた', '転生', '一巻', '設定', '凄', 'すぎ', 'その後', '影', '担当', '双子', '兄', '芸能界', '巻き込ま', 'れ', 'いく', '姿', '応援', 'し', 'なる', '展開', '続き', 'いつ', '双子', 'お互い', '転生', '気づく', 'の', '赤坂アカ', 'さん', 'かぐや様は告らせたい', 'ファン', 'ん', 'oshinoko', '立ち読', '倍増', 'なっ', 'おり', '見事', '沼', 'ハマり', '値段', '高め', '可愛い', 'イラスト', '素敵', '作品', '思い', '最初', 'メインヒロイン', 'アイ', '活躍', 'メイン', 'なる', '思っ', 'て', 'アイ', 'ファン', 'アイ', '子供', '転生', 'する', 'ところ', '始まり', '元凶', '父親', '探し', 'ため', 'アイ', '業界', '入っ', '活躍', 'し', 'いく', '続き', '気', 'なっ', '仕方', '作品', 'すごく', 'いい', 'かぐや', '様', '告', 'ら', 'せ', 'よう', 'ドライ', 'リアリスト', 'じみ', 'キャラ', '主観', 'コミカル', '会話', '面白', 'Aqua', '目的', '今後', 'なる', 'の', '気', 'なる', '転生', 'モノ', '話', '自体', 'リアリティ', 'あり', 'メンゴ', '先生', '書く', '女の子', '可愛く', 'アイドル', '個々', 'キャラ', '推せる', 'ﾉ', '予想', '裏切る', 'ストーリー展開', '連続', '面白い', '舞台', '芸能界', 'ところ', '非現実感', '楽しめ', '絵', '綺麗', '読', 'ごたえ', 'あり', '最初', '目', '中', 'し', 'てる', '感じ', '苦手', '思っ', 'い', 'の', '内容', '面白く', '気付い', '最新刊', '読', 'い', '芸能界', '裏事情', 'みたい', 'の', 'リアル', '面白い', '紙', '書籍', '5巻', '読ま', 'し', '広告', '良く', '見る', '作品', '印象', '最初', '転生', 'モノ', 'バブみ', 'オギャ', 'の', '楽しむ', 'コメディ', '思い', '中身', 'サスペンス', '芸能', '育成', 'モノ', '芸能', '育成', '部分', '面白い', '一見', '価値', 'アリ', '普通', '日常生活', '味わえ', '物語', '登場人物', '達', '場面', '応じ', '喜怒哀楽', '何', '違和感', 'なく', '楽しめる', '絵', '綺麗', '読', 'やすい', 'エピソード', '面白い', 'の', '天才', '漫画', '家', '脚本家', '話', '興味深く', '面白かっ', '脚本家', '仕事', '重要性', '説明', 'し', 'い', '素晴らしい', '主人公', '出しゃばっ', 'こ', 'の', '好感', '持て']\n"
          ]
        }
      ],
      "source": [
        "#list型に変換する\n",
        "words = text.str.split().explode().tolist()\n",
        "print(words)"
      ]
    },
    {
      "cell_type": "markdown",
      "metadata": {
        "id": "3Za9TMux61YE"
      },
      "source": [
        "## **ストップワードの除去**"
      ]
    },
    {
      "cell_type": "code",
      "execution_count": null,
      "metadata": {
        "id": "Ojnienx_rkRa"
      },
      "outputs": [],
      "source": [
        "# ストップワードの設定。出力結果を見ながら手動で設定\n",
        "stop_words = [\"ある\", \"ない\", \"いる\", \"する\", \"の\", \"よう\", \"なる\", \"それ\", \"てる\",\n",
        "              \"これ\", \"こう\", \"ため\", \"そう\", \"れる\", \"しまう\", \"こ\", \"から\",\n",
        "              \"少し\", \"よく\", \"ところ\", \"いう\", \"みる\", \"とても\", \"んな\", \"いく\", \"くる\", \"と\",\n",
        "              \"む\",\"ら\",\"見る\",\"そ\",\"モノ\",\"内容\",\"う\",\"読\",\"思\",\"思っ\",\n",
        "              \"も\",\"さ\",\"いい\",\"まか\",\"的\",\"して\",\"化\",\"で\",\n",
        "              \"なか\",\"ちょっ\",\"まだ\",\"方\", \"アイドル\",\"し\",\"れ\",\"なっ\",]"
      ]
    },
    {
      "cell_type": "code",
      "execution_count": null,
      "metadata": {
        "id": "cvDzcDUXGGXQ"
      },
      "outputs": [],
      "source": [
        "#ストップワード除去の関数\n",
        "def remove_stop_words(content):\n",
        "  for word in stop_words:#設定したstop_wordから一単語ずつ取り出して・・・\n",
        "    content = content.replace(word, \"\")#stop_wordに該当する単語は空文字変換する\n",
        "  return content"
      ]
    },
    {
      "cell_type": "code",
      "execution_count": null,
      "metadata": {
        "id": "5N_8N6oQH3Hf",
        "colab": {
          "base_uri": "https://localhost:8080/",
          "height": 260
        },
        "outputId": "3177f41e-d83a-4920-e89b-1535e365f38c"
      },
      "outputs": [
        {
          "output_type": "execute_result",
          "data": {
            "text/plain": [
              "                                             content  \\\n",
              "0  まさか、号泣するとは思わず、自分でも驚いています。漫画大賞ノミネートされていたので読ました。...   \n",
              "1  最初は絵があまり好みでなく、また「好きなアイドルの子供として転生して、アイドル（母）とキャッ...   \n",
              "2  アニメ見て原作読たくなり来ました。アニメは原作を丁寧にしている分、わかりやすいし、原作は原作...   \n",
              "\n",
              "                                   content_takenized  \\\n",
              "0  号泣 する 思わ 自分 驚い い 漫画 大賞 ノミネート さ れ い 読ま し 芸能界 事 ...   \n",
              "1  最初 絵 好み 好き アイドル 子供 転生 し アイドル 母 しながら 芸能界 目指す 話 ...   \n",
              "2  アニメ 見 原作 読 なり 来 アニメ 原作 丁寧 し いる 分 わかり やすい 原作 原作...   \n",
              "\n",
              "                                    content_stopword  \n",
              "0  号泣  わ 自分 驚い い 漫画 大賞 ノミネート   い ま  芸能界 事 違 角度 知 ...  \n",
              "1  最初 絵 好み 好き  子供 転生   母 なが 芸能界 目指す 話 決めつけ  い 母 ア...  \n",
              "2  アニメ 見 原作  なり 来 アニメ 原作 丁寧   分 わかり やすい 原作 原作  感じ...  "
            ],
            "text/html": [
              "\n",
              "  <div id=\"df-cccb1ea0-9b56-49c2-a4ab-79d6b9a26b9f\" class=\"colab-df-container\">\n",
              "    <div>\n",
              "<style scoped>\n",
              "    .dataframe tbody tr th:only-of-type {\n",
              "        vertical-align: middle;\n",
              "    }\n",
              "\n",
              "    .dataframe tbody tr th {\n",
              "        vertical-align: top;\n",
              "    }\n",
              "\n",
              "    .dataframe thead th {\n",
              "        text-align: right;\n",
              "    }\n",
              "</style>\n",
              "<table border=\"1\" class=\"dataframe\">\n",
              "  <thead>\n",
              "    <tr style=\"text-align: right;\">\n",
              "      <th></th>\n",
              "      <th>content</th>\n",
              "      <th>content_takenized</th>\n",
              "      <th>content_stopword</th>\n",
              "    </tr>\n",
              "  </thead>\n",
              "  <tbody>\n",
              "    <tr>\n",
              "      <th>0</th>\n",
              "      <td>まさか、号泣するとは思わず、自分でも驚いています。漫画大賞ノミネートされていたので読ました。...</td>\n",
              "      <td>号泣 する 思わ 自分 驚い い 漫画 大賞 ノミネート さ れ い 読ま し 芸能界 事 ...</td>\n",
              "      <td>号泣  わ 自分 驚い い 漫画 大賞 ノミネート   い ま  芸能界 事 違 角度 知 ...</td>\n",
              "    </tr>\n",
              "    <tr>\n",
              "      <th>1</th>\n",
              "      <td>最初は絵があまり好みでなく、また「好きなアイドルの子供として転生して、アイドル（母）とキャッ...</td>\n",
              "      <td>最初 絵 好み 好き アイドル 子供 転生 し アイドル 母 しながら 芸能界 目指す 話 ...</td>\n",
              "      <td>最初 絵 好み 好き  子供 転生   母 なが 芸能界 目指す 話 決めつけ  い 母 ア...</td>\n",
              "    </tr>\n",
              "    <tr>\n",
              "      <th>2</th>\n",
              "      <td>アニメ見て原作読たくなり来ました。アニメは原作を丁寧にしている分、わかりやすいし、原作は原作...</td>\n",
              "      <td>アニメ 見 原作 読 なり 来 アニメ 原作 丁寧 し いる 分 わかり やすい 原作 原作...</td>\n",
              "      <td>アニメ 見 原作  なり 来 アニメ 原作 丁寧   分 わかり やすい 原作 原作  感じ...</td>\n",
              "    </tr>\n",
              "  </tbody>\n",
              "</table>\n",
              "</div>\n",
              "    <div class=\"colab-df-buttons\">\n",
              "\n",
              "  <div class=\"colab-df-container\">\n",
              "    <button class=\"colab-df-convert\" onclick=\"convertToInteractive('df-cccb1ea0-9b56-49c2-a4ab-79d6b9a26b9f')\"\n",
              "            title=\"Convert this dataframe to an interactive table.\"\n",
              "            style=\"display:none;\">\n",
              "\n",
              "  <svg xmlns=\"http://www.w3.org/2000/svg\" height=\"24px\" viewBox=\"0 -960 960 960\">\n",
              "    <path d=\"M120-120v-720h720v720H120Zm60-500h600v-160H180v160Zm220 220h160v-160H400v160Zm0 220h160v-160H400v160ZM180-400h160v-160H180v160Zm440 0h160v-160H620v160ZM180-180h160v-160H180v160Zm440 0h160v-160H620v160Z\"/>\n",
              "  </svg>\n",
              "    </button>\n",
              "\n",
              "  <style>\n",
              "    .colab-df-container {\n",
              "      display:flex;\n",
              "      gap: 12px;\n",
              "    }\n",
              "\n",
              "    .colab-df-convert {\n",
              "      background-color: #E8F0FE;\n",
              "      border: none;\n",
              "      border-radius: 50%;\n",
              "      cursor: pointer;\n",
              "      display: none;\n",
              "      fill: #1967D2;\n",
              "      height: 32px;\n",
              "      padding: 0 0 0 0;\n",
              "      width: 32px;\n",
              "    }\n",
              "\n",
              "    .colab-df-convert:hover {\n",
              "      background-color: #E2EBFA;\n",
              "      box-shadow: 0px 1px 2px rgba(60, 64, 67, 0.3), 0px 1px 3px 1px rgba(60, 64, 67, 0.15);\n",
              "      fill: #174EA6;\n",
              "    }\n",
              "\n",
              "    .colab-df-buttons div {\n",
              "      margin-bottom: 4px;\n",
              "    }\n",
              "\n",
              "    [theme=dark] .colab-df-convert {\n",
              "      background-color: #3B4455;\n",
              "      fill: #D2E3FC;\n",
              "    }\n",
              "\n",
              "    [theme=dark] .colab-df-convert:hover {\n",
              "      background-color: #434B5C;\n",
              "      box-shadow: 0px 1px 3px 1px rgba(0, 0, 0, 0.15);\n",
              "      filter: drop-shadow(0px 1px 2px rgba(0, 0, 0, 0.3));\n",
              "      fill: #FFFFFF;\n",
              "    }\n",
              "  </style>\n",
              "\n",
              "    <script>\n",
              "      const buttonEl =\n",
              "        document.querySelector('#df-cccb1ea0-9b56-49c2-a4ab-79d6b9a26b9f button.colab-df-convert');\n",
              "      buttonEl.style.display =\n",
              "        google.colab.kernel.accessAllowed ? 'block' : 'none';\n",
              "\n",
              "      async function convertToInteractive(key) {\n",
              "        const element = document.querySelector('#df-cccb1ea0-9b56-49c2-a4ab-79d6b9a26b9f');\n",
              "        const dataTable =\n",
              "          await google.colab.kernel.invokeFunction('convertToInteractive',\n",
              "                                                    [key], {});\n",
              "        if (!dataTable) return;\n",
              "\n",
              "        const docLinkHtml = 'Like what you see? Visit the ' +\n",
              "          '<a target=\"_blank\" href=https://colab.research.google.com/notebooks/data_table.ipynb>data table notebook</a>'\n",
              "          + ' to learn more about interactive tables.';\n",
              "        element.innerHTML = '';\n",
              "        dataTable['output_type'] = 'display_data';\n",
              "        await google.colab.output.renderOutput(dataTable, element);\n",
              "        const docLink = document.createElement('div');\n",
              "        docLink.innerHTML = docLinkHtml;\n",
              "        element.appendChild(docLink);\n",
              "      }\n",
              "    </script>\n",
              "  </div>\n",
              "\n",
              "\n",
              "<div id=\"df-499715a6-6f26-482a-bf71-1389a3b8f6d7\">\n",
              "  <button class=\"colab-df-quickchart\" onclick=\"quickchart('df-499715a6-6f26-482a-bf71-1389a3b8f6d7')\"\n",
              "            title=\"Suggest charts\"\n",
              "            style=\"display:none;\">\n",
              "\n",
              "<svg xmlns=\"http://www.w3.org/2000/svg\" height=\"24px\"viewBox=\"0 0 24 24\"\n",
              "     width=\"24px\">\n",
              "    <g>\n",
              "        <path d=\"M19 3H5c-1.1 0-2 .9-2 2v14c0 1.1.9 2 2 2h14c1.1 0 2-.9 2-2V5c0-1.1-.9-2-2-2zM9 17H7v-7h2v7zm4 0h-2V7h2v10zm4 0h-2v-4h2v4z\"/>\n",
              "    </g>\n",
              "</svg>\n",
              "  </button>\n",
              "\n",
              "<style>\n",
              "  .colab-df-quickchart {\n",
              "      --bg-color: #E8F0FE;\n",
              "      --fill-color: #1967D2;\n",
              "      --hover-bg-color: #E2EBFA;\n",
              "      --hover-fill-color: #174EA6;\n",
              "      --disabled-fill-color: #AAA;\n",
              "      --disabled-bg-color: #DDD;\n",
              "  }\n",
              "\n",
              "  [theme=dark] .colab-df-quickchart {\n",
              "      --bg-color: #3B4455;\n",
              "      --fill-color: #D2E3FC;\n",
              "      --hover-bg-color: #434B5C;\n",
              "      --hover-fill-color: #FFFFFF;\n",
              "      --disabled-bg-color: #3B4455;\n",
              "      --disabled-fill-color: #666;\n",
              "  }\n",
              "\n",
              "  .colab-df-quickchart {\n",
              "    background-color: var(--bg-color);\n",
              "    border: none;\n",
              "    border-radius: 50%;\n",
              "    cursor: pointer;\n",
              "    display: none;\n",
              "    fill: var(--fill-color);\n",
              "    height: 32px;\n",
              "    padding: 0;\n",
              "    width: 32px;\n",
              "  }\n",
              "\n",
              "  .colab-df-quickchart:hover {\n",
              "    background-color: var(--hover-bg-color);\n",
              "    box-shadow: 0 1px 2px rgba(60, 64, 67, 0.3), 0 1px 3px 1px rgba(60, 64, 67, 0.15);\n",
              "    fill: var(--button-hover-fill-color);\n",
              "  }\n",
              "\n",
              "  .colab-df-quickchart-complete:disabled,\n",
              "  .colab-df-quickchart-complete:disabled:hover {\n",
              "    background-color: var(--disabled-bg-color);\n",
              "    fill: var(--disabled-fill-color);\n",
              "    box-shadow: none;\n",
              "  }\n",
              "\n",
              "  .colab-df-spinner {\n",
              "    border: 2px solid var(--fill-color);\n",
              "    border-color: transparent;\n",
              "    border-bottom-color: var(--fill-color);\n",
              "    animation:\n",
              "      spin 1s steps(1) infinite;\n",
              "  }\n",
              "\n",
              "  @keyframes spin {\n",
              "    0% {\n",
              "      border-color: transparent;\n",
              "      border-bottom-color: var(--fill-color);\n",
              "      border-left-color: var(--fill-color);\n",
              "    }\n",
              "    20% {\n",
              "      border-color: transparent;\n",
              "      border-left-color: var(--fill-color);\n",
              "      border-top-color: var(--fill-color);\n",
              "    }\n",
              "    30% {\n",
              "      border-color: transparent;\n",
              "      border-left-color: var(--fill-color);\n",
              "      border-top-color: var(--fill-color);\n",
              "      border-right-color: var(--fill-color);\n",
              "    }\n",
              "    40% {\n",
              "      border-color: transparent;\n",
              "      border-right-color: var(--fill-color);\n",
              "      border-top-color: var(--fill-color);\n",
              "    }\n",
              "    60% {\n",
              "      border-color: transparent;\n",
              "      border-right-color: var(--fill-color);\n",
              "    }\n",
              "    80% {\n",
              "      border-color: transparent;\n",
              "      border-right-color: var(--fill-color);\n",
              "      border-bottom-color: var(--fill-color);\n",
              "    }\n",
              "    90% {\n",
              "      border-color: transparent;\n",
              "      border-bottom-color: var(--fill-color);\n",
              "    }\n",
              "  }\n",
              "</style>\n",
              "\n",
              "  <script>\n",
              "    async function quickchart(key) {\n",
              "      const quickchartButtonEl =\n",
              "        document.querySelector('#' + key + ' button');\n",
              "      quickchartButtonEl.disabled = true;  // To prevent multiple clicks.\n",
              "      quickchartButtonEl.classList.add('colab-df-spinner');\n",
              "      try {\n",
              "        const charts = await google.colab.kernel.invokeFunction(\n",
              "            'suggestCharts', [key], {});\n",
              "      } catch (error) {\n",
              "        console.error('Error during call to suggestCharts:', error);\n",
              "      }\n",
              "      quickchartButtonEl.classList.remove('colab-df-spinner');\n",
              "      quickchartButtonEl.classList.add('colab-df-quickchart-complete');\n",
              "    }\n",
              "    (() => {\n",
              "      let quickchartButtonEl =\n",
              "        document.querySelector('#df-499715a6-6f26-482a-bf71-1389a3b8f6d7 button');\n",
              "      quickchartButtonEl.style.display =\n",
              "        google.colab.kernel.accessAllowed ? 'block' : 'none';\n",
              "    })();\n",
              "  </script>\n",
              "</div>\n",
              "\n",
              "    </div>\n",
              "  </div>\n"
            ]
          },
          "metadata": {},
          "execution_count": 33
        }
      ],
      "source": [
        "# 関数を適用して、その結果をcontent_stopwaods列を作成して追加する\n",
        "df[\"content_stopword\"] = df[\"content_takenized\"].apply(remove_stop_words)\n",
        "df.head(3)"
      ]
    },
    {
      "cell_type": "code",
      "execution_count": null,
      "metadata": {
        "id": "ppzkR3aXiA2i",
        "colab": {
          "base_uri": "https://localhost:8080/"
        },
        "outputId": "bec25a13-c5fe-49c0-e523-0a379e600bfc"
      },
      "outputs": [
        {
          "output_type": "stream",
          "name": "stdout",
          "text": [
            "<class 'pandas.core.series.Series'>\n"
          ]
        }
      ],
      "source": [
        "#データの確認\n",
        "print(type(df['content_stopword']))"
      ]
    },
    {
      "cell_type": "code",
      "execution_count": null,
      "metadata": {
        "id": "R713BTf91I9w",
        "colab": {
          "base_uri": "https://localhost:8080/"
        },
        "outputId": "df9a8bf3-d0c4-4e9a-d7b1-ba803886cafb"
      },
      "outputs": [
        {
          "output_type": "stream",
          "name": "stdout",
          "text": [
            "object\n"
          ]
        }
      ],
      "source": [
        "# データの型を表示\n",
        "print(df['content_stopword'].dtype)"
      ]
    },
    {
      "cell_type": "code",
      "execution_count": null,
      "metadata": {
        "id": "HBkUT5xkbprv"
      },
      "outputs": [],
      "source": [
        "# 単語のリストを取得し、出現回数を集計\n",
        "import re\n",
        "\n",
        "words = [re.findall(r'\\w+', text) for text in df['content_stopword']]\n",
        "words = [word for sublist in words for word in sublist]\n",
        "word_counts = Counter(words)\n",
        "\n",
        "\n",
        "# 出現回数の多い順にソートして結果を取得\n",
        "result = word_counts.most_common()\n",
        "\n",
        "result"
      ]
    },
    {
      "cell_type": "markdown",
      "metadata": {
        "id": "w4agXU2NKSWG"
      },
      "source": [
        "## **WorldCloud 描画**"
      ]
    },
    {
      "cell_type": "code",
      "execution_count": null,
      "metadata": {
        "id": "qOaVUFH19gN5"
      },
      "outputs": [],
      "source": [
        "# resultからword, countの二つの要素をそれぞれとをそれぞれ取り出して、wordをキー、countを数値とした辞書型、つまりfrequenciesに変換\n",
        "frequencies = {word: count for word, count in result}"
      ]
    },
    {
      "cell_type": "code",
      "execution_count": null,
      "metadata": {
        "id": "nBGiNl_db6Nf"
      },
      "outputs": [],
      "source": [
        "# ワードクラウドの作成と表示\n",
        "wordcloud = WordCloud(background_color='white',#WordCloudの背景色を白に設定\n",
        "                      max_words=200,#表示する最大の単語数を125に制限\n",
        "                      font_path='/usr/share/fonts/truetype/fonts-japanese-gothic.ttf',\n",
        "                      width=1000,\n",
        "                      height=600,\n",
        "                      ).fit_words(frequencies)#テキストの単語の頻度情報を使用してWordCloudを生成"
      ]
    },
    {
      "cell_type": "code",
      "execution_count": null,
      "metadata": {
        "id": "uev5YGZHdJqX"
      },
      "outputs": [],
      "source": [
        "\n",
        "#生成した画像の表示\n",
        "plt.figure(figsize=(15,10))\n",
        "plt.imshow(wordcloud)\n",
        "plt.axis(\"off\")\n",
        "plt.show()\n",
        "# 画像を保存\n",
        "#wordcloud.to_file(\"/content/drive/My Drive/datamix-data-science-course-nlp/IG_step_Report/wordcloud_5keiyoushi_doushi.png\")"
      ]
    },
    {
      "cell_type": "markdown",
      "metadata": {
        "id": "LwFmNIUALwu9"
      },
      "source": [
        "# ベクトル化"
      ]
    },
    {
      "cell_type": "markdown",
      "metadata": {
        "id": "xzaFFDjXNBwn"
      },
      "source": [
        "## **Universal Sentence Encoder (USE)**\n",
        "\n",
        "\n",
        "* USEは文全体の意味を捉えるための埋め込み表現を生成するのに対して、Word2Vecは単語の意味や関連性を捉える。\n",
        "\n",
        "* USEは、文脈を考慮して各単語のベクトルを足し合わせ、その後、文章の長さで正規化することで、文章全体の意味を表現するベクトルを生成。文章の長さが異なる場合、単語の数が異なるため、単純にベクトルを足し合わせるだけでは適切な比較や類似度の計算ができない。そのため、最終的な文章のベクトル表現を得るためには、文章の長さで正規化が行われる。これにより、異なる長さの文章でも比較可能なベクトル表現が得られる。\n",
        "\n",
        "* 特に、文章の類似度を判定するタスクはコサイン類似度をターゲットに学習されているので、コサイン類似度を使ったタスクと相性が良い\n",
        "\n",
        "* Transformerを用いたものと、Deep Averaging Network (DAN)を用いたものがある。"
      ]
    },
    {
      "cell_type": "code",
      "execution_count": null,
      "metadata": {
        "id": "WvUGwOB3tJGv"
      },
      "outputs": [],
      "source": [
        "# Universal Sentence Encoderモデルの読み込み\n",
        "import tensorflow_hub as hub\n",
        "embed = hub.load(\"https://tfhub.dev/google/universal-sentence-encoder/4\")"
      ]
    },
    {
      "cell_type": "code",
      "execution_count": null,
      "metadata": {
        "id": "VGJjk8Croekm"
      },
      "outputs": [],
      "source": [
        "df['content'].head"
      ]
    },
    {
      "cell_type": "code",
      "execution_count": null,
      "metadata": {
        "id": "F1LLoxhYsVYM"
      },
      "outputs": [],
      "source": [
        "# DataFrameの'content'列に対してUSEを適用する\n",
        "vectors_USE = embed(df['content'])\n",
        "vectors_USE"
      ]
    },
    {
      "cell_type": "markdown",
      "metadata": {
        "id": "BfVQ1Oz8omL4"
      },
      "source": [
        "## **TF-IDF**"
      ]
    },
    {
      "cell_type": "markdown",
      "metadata": {
        "id": "4PzPmk825qPz"
      },
      "source": [
        "# クラスタリング"
      ]
    },
    {
      "cell_type": "markdown",
      "metadata": {
        "id": "zOlSrVje548c"
      },
      "source": [
        "## **K-means法**"
      ]
    },
    {
      "cell_type": "markdown",
      "metadata": {
        "id": "DHVDKtw06AUk"
      },
      "source": [
        "\n",
        "\n",
        "*   クラスタ数を事前に指定する、適切なクラスタ数を決定するためにはエルボー法を使う。\n",
        "\n",
        "*   クラスタリングの収束（中心の変化や、最大反復回数で判断）\n",
        "*   モデルの評価法：各クラスタの特徴を解釈し、意味のあるクラスタリングになているのか判断\n",
        "*   クラスタ内の特徴的なキーワードや文書を分析して、さらにクラスタの内容理解を深める\n",
        "\n",
        "\n"
      ]
    },
    {
      "cell_type": "code",
      "execution_count": null,
      "metadata": {
        "id": "KLl-FZZW7h3w"
      },
      "outputs": [],
      "source": [
        "# インポート\n",
        "%matplotlib inline\n",
        "import numpy as np\n",
        "import matplotlib.pyplot as plt\n",
        "from sklearn.cluster import KMeans"
      ]
    },
    {
      "cell_type": "code",
      "execution_count": null,
      "metadata": {
        "id": "Onm9_4MKfC8v"
      },
      "outputs": [],
      "source": [
        "df_vectors_USE = pd.DataFrame(vectors_USE)"
      ]
    },
    {
      "cell_type": "code",
      "execution_count": null,
      "metadata": {
        "id": "Sq4EOYiBeTre"
      },
      "outputs": [],
      "source": [
        "kmeans = KMeans(n_clusters=2, random_state=0)\n",
        "kmeans.fit(df_vectors_USE)\n",
        "data_with_cls = df_vectors_USE.assign(cls_label = kmeans.predict(df_vectors_USE))\n",
        "print(len(data_with_cls))\n",
        "data_with_cls.head(10)"
      ]
    },
    {
      "cell_type": "markdown",
      "metadata": {
        "id": "Qr4q4URVvkTB"
      },
      "source": [
        "## Count Vectrizer\n",
        "\n"
      ]
    },
    {
      "cell_type": "markdown",
      "metadata": {
        "id": "JBHBk7ttvHak"
      },
      "source": [
        "まずレビュー全体にカウントベクトライザーを適用して単語の出現回数を把握。\n",
        "\n",
        "\n",
        "その後、各クラスタごとにも同じようにカウントベクトライザー。\n",
        "\n",
        "レビュー全体に対して、意味のあるクラスタリングができているのか確認出来る。"
      ]
    },
    {
      "cell_type": "code",
      "execution_count": null,
      "metadata": {
        "id": "O37YgOoKEta9"
      },
      "outputs": [],
      "source": [
        "# クラスタラベルつきのレビュー原文のデータフレーム作成\n",
        "df_cls  = pd.DataFrame(data_with_cls[\"cls_label\"])\n",
        "df_cls = pd.concat([df_cls , df['content']], axis=1)\n",
        "\n",
        "print(len(df_cls))\n",
        "df_cls.head(30)"
      ]
    },
    {
      "cell_type": "code",
      "execution_count": null,
      "metadata": {
        "id": "ix6cjiJGIS0E"
      },
      "outputs": [],
      "source": [
        "# 分かち書きで形態素解析\n",
        "mecab_neologd = MeCab.Tagger(\"-d {0} -Owakati\".format(path))\n",
        "\n",
        "# 関数の定義\n",
        "def parse_morphemes(text):\n",
        "  result = []\n",
        "  node = mecab_neologd.parseToNode(text)\n",
        "  while node:\n",
        "    if node.feature.split(\",\")[0] in [\"形容詞\",\"名詞\",\"副詞\"]:\n",
        "       result.append(node.surface)#表層形で抽出\n",
        "    elif node.feature.split(\",\")[0] in [\"動詞\"]:\n",
        "       result.append(node.feature.split(\",\")[6])#基本形で抽出\n",
        "    node = node.next\n",
        "\n",
        "  return \" \".join(result)\n"
      ]
    },
    {
      "cell_type": "code",
      "execution_count": null,
      "metadata": {
        "id": "qLRuzibFJF31"
      },
      "outputs": [],
      "source": [
        "# 関数を適用、その結果をcontent_tokenized列を作成して追加する\n",
        "df_cls[\"content_takenized\"] = df[\"content\"].apply(parse_morphemes)\n",
        "df_cls.head(7)"
      ]
    },
    {
      "cell_type": "code",
      "execution_count": null,
      "metadata": {
        "id": "Hd_5vzrCCCbo"
      },
      "outputs": [],
      "source": [
        "# 欠損値を空の文字列で置き換える\n",
        "df_cls[\"content_takenized\"] = df_cls[\"content_takenized\"].fillna(\"\")\n",
        "\n",
        "# ストップワード除去\n",
        "df_cls[\"content_stopword\"] = df_cls[\"content_takenized\"].apply(remove_stop_words)\n",
        "df_cls.head(3)\n"
      ]
    },
    {
      "cell_type": "code",
      "execution_count": null,
      "metadata": {
        "id": "7LF5Vk-1sPDK"
      },
      "outputs": [],
      "source": [
        "len(df_cls)"
      ]
    },
    {
      "cell_type": "code",
      "execution_count": null,
      "metadata": {
        "id": "0cV7Xgp2oOOK"
      },
      "outputs": [],
      "source": [
        "import matplotlib.pyplot as plt\n",
        "import matplotlib.font_manager as fm\n",
        "\n",
        "# \"cls_label\"列の値ごとのカウントを取得\n",
        "label_counts = df_cls[\"cls_label\"].value_counts()\n",
        "\n",
        "# 割合を計算\n",
        "percentages = (label_counts / len(df_cls)) * 100\n",
        "\n",
        "# セクションの色を定義\n",
        "colors = [\"skyblue\" if label == 0.0 else \"orange\" if label == 1.0 else \"green\" for label in label_counts.index]\n",
        "\n",
        "# ラベルと割合を表示\n",
        "labels = label_counts.index.astype(str)\n",
        "\n",
        "# フォントのパスを指定してフォントを読み込む\n",
        "font_path = \"/usr/share/fonts/opentype/ipafont-gothic/ipagp.ttf\"\n",
        "font_prop = fm.FontProperties(fname=font_path)\n",
        "\n",
        "# 円グラフを作成\n",
        "plt.figure(figsize=(8, 8))\n",
        "plt.pie(percentages, labels=labels, autopct='%1.1f%%', colors=colors)\n",
        "\n",
        "# タイトルのフォントを設定\n",
        "plt.title(\"cls_labelの割合\", fontproperties=font_prop, fontsize=14)\n",
        "\n",
        "plt.axis('equal')  # アスペクト比を保持して円を描画\n",
        "plt.show()\n",
        "\n"
      ]
    },
    {
      "cell_type": "code",
      "execution_count": null,
      "metadata": {
        "id": "BEFZ5aC-FJmg"
      },
      "outputs": [],
      "source": [
        "# カウントベクトライザーをインポート\n",
        "from sklearn.feature_extraction.text import CountVectorizer"
      ]
    },
    {
      "cell_type": "code",
      "execution_count": null,
      "metadata": {
        "id": "0GUQNovWMaQK"
      },
      "outputs": [],
      "source": [
        "# わかち書き済みの、全てのデータを単語に分割してリスト化\n",
        "text = df_cls[\"content_stopword\"]\n",
        "# テキストを単語に分割する\n",
        "words = text.str.split( )\n",
        "# リストの要素を文字列に変換\n",
        "str_words_all = [str(word) for word in words]"
      ]
    },
    {
      "cell_type": "code",
      "execution_count": null,
      "metadata": {
        "id": "QbglubpJ9egD"
      },
      "outputs": [],
      "source": [
        "# cls_label0も同じ方法で単語に分割してリスト化\n",
        "cls_label0_text = df_cls.loc[df_cls[\"cls_label\"] == 0, \"content_stopword\"]\n",
        "# テキストを単語に分割する\n",
        "cls_label0_words = cls_label0_text.str.split( )\n",
        "# リストの要素を文字列に変換\n",
        "str_words_cls_label0 = [str(word) for word in cls_label0_words]"
      ]
    },
    {
      "cell_type": "code",
      "execution_count": null,
      "metadata": {
        "id": "f_G5pw_uBjva"
      },
      "outputs": [],
      "source": [
        "# cls_label1も同じ方法で単語に分割してリスト化\n",
        "cls_label1_text = df_cls.loc[df_cls[\"cls_label\"] == 1.0, \"content_stopword\"]\n",
        "# テキストを単語に分割する\n",
        "cls_label1_words = cls_label1_text.str.split( )\n",
        "# リストの要素を文字列に変換\n",
        "str_words_cls_label1 = [str(word) for word in cls_label1_words]"
      ]
    },
    {
      "cell_type": "code",
      "execution_count": null,
      "metadata": {
        "id": "BMTYDXpOBjmD"
      },
      "outputs": [],
      "source": [
        "# cls_label2も同じ方法で単語に分割してリスト化\n",
        "cls_label2_text = df_cls.loc[df_cls[\"cls_label\"] == 2.0, \"content_stopword\"]\n",
        "# テキストを単語に分割する\n",
        "cls_label2_words = cls_label2_text.str.split( )\n",
        "# リストの要素を文字列に変換\n",
        "str_words_cls_label2 = [str(word) for word in cls_label2_words]"
      ]
    },
    {
      "cell_type": "code",
      "execution_count": null,
      "metadata": {
        "id": "PcKcHjXsHRtg"
      },
      "outputs": [],
      "source": [
        "  # ベクトル化する文字列\n",
        "# データ全体に対してカウントベクトライザー\n",
        "# CountVectorizerオブジェクトを初期化\n",
        "vec_count_all = CountVectorizer()\n",
        "sample = np.array(str_words_all)\n",
        "# ベクトル化\n",
        "vec_count_all.fit(sample)\n",
        "X_all = vec_count_all.transform(sample)\n",
        "\n",
        "# 各単語の出現回数を計算\n",
        "word_counts_all = X_all.sum(axis=0).A1  # ベクトルの各列の和を計算\n",
        "\n",
        "# 出現回数が多い順にソートしたインデックスを取得\n",
        "sorted_indices_all = np.argsort(-word_counts_all)\n",
        "\n",
        "# 各単語と出現回数を表示\n",
        "for index in sorted_indices_all:\n",
        "    word = vec_count_all.get_feature_names_out()[index]\n",
        "    count = word_counts_all[index]\n",
        "    print('単語: {}, 出現回数: {}'.format(word, count))\n"
      ]
    },
    {
      "cell_type": "code",
      "execution_count": null,
      "metadata": {
        "id": "OJoSbKMB-fGo"
      },
      "outputs": [],
      "source": [
        "\n",
        "# CountVectorizerオブジェクトを初期化\n",
        "vec_count_cls0 = CountVectorizer()\n",
        "sample0 = np.array(str_words_cls_label0)\n",
        "\n",
        "# ベクトル化\n",
        "X_cls0 = vec_count_cls0.fit_transform(sample0)\n",
        "\n",
        "# 各単語の出現回数を計算\n",
        "word_counts_cls0 = X_cls0.sum(axis=0).A1  # ベクトルの各列の和を計算\n",
        "\n",
        "# 出現回数が多い順にソートしたインデックスを取得\n",
        "sorted_indices_cls0 = np.argsort(-word_counts_cls0)\n",
        "\n",
        "\n",
        "# 各単語と出現回数を表示\n",
        "for index in sorted_indices_cls0:\n",
        "    word = vec_count_cls0.get_feature_names_out()[index]\n",
        "    count = word_counts_cls0[index]\n",
        "    print('単語: {}, 出現回数: {}'.format(word, count))\n"
      ]
    },
    {
      "cell_type": "code",
      "execution_count": null,
      "metadata": {
        "id": "2JbaaERg-e8f"
      },
      "outputs": [],
      "source": [
        "# クラスタ1に対してカウントベクトライザー\n",
        "# CountVectorizerを初期化\n",
        "vec_count_cls1 = CountVectorizer()\n",
        "\n",
        "sample1 = np.array(str_words_cls_label1)\n",
        "# ベクトル化\n",
        "vec_count_cls1.fit(sample1)\n",
        "X_cls1 = vec_count_cls1.transform(sample1)\n",
        "\n",
        "# 各単語の出現回数を計算\n",
        "word_counts_cls1 = X_cls1.sum(axis=0).A1  # ベクトルの各列の和を計算\n",
        "\n",
        "# 出現回数が多い順にソートしたインデックスを取得\n",
        "sorted_indices_cls1 = np.argsort(word_counts_cls1)[::-1]\n",
        "\n",
        "# 各単語と出現回数を表示\n",
        "for index in sorted_indices_cls1:\n",
        "    word = vec_count_cls1.get_feature_names_out()[index]\n",
        "    count = word_counts_cls1[index]\n",
        "    print('単語: {}, 出現回数: {}'.format(word, count))\n"
      ]
    },
    {
      "cell_type": "code",
      "execution_count": null,
      "metadata": {
        "id": "zwo3fGgv-eu8"
      },
      "outputs": [],
      "source": [
        "# # クラスタ2に対してカウントベクトライザー\n",
        "# sample2 = np.array(str_words_cls_label2)\n",
        "# # CountVectorizerを初期化\n",
        "# vec_count2 = CountVectorizer()\n",
        "\n",
        "# # ベクトル化\n",
        "# X_cls2 = vec_count2.fit_transform(sample2)\n",
        "\n",
        "# # 各単語の出現回数を計算\n",
        "# word_counts_cls2 = X_cls2.sum(axis=0).A1  # ベクトルの各列の和を計算\n",
        "\n",
        "# # 出現回数が多い順にソートしたインデックスを取得\n",
        "# sorted_indices_cls2 = np.argsort(word_counts_cls2)[::-1]\n",
        "\n",
        "# # 各単語と出現回数を表示\n",
        "# for index in sorted_indices_cls2:\n",
        "#     word = vec_count2.get_feature_names_out()[index]\n",
        "#     count = word_counts_cls2[index]\n",
        "#     print('単語: {}, 出現回数: {}'.format(word, count))\n"
      ]
    },
    {
      "cell_type": "code",
      "execution_count": null,
      "metadata": {
        "id": "If0b8vHTfS91"
      },
      "outputs": [],
      "source": [
        "# 全体\n",
        "# カウントベクトライザーを適用したデータから単語の出現回数を単語ごとに計算して、データフレーム化\n",
        "all_word_counts = X_all.toarray().sum(axis=0)\n",
        "sorted_indices = np.argsort(-all_word_counts)  # 出現回数の降順でソートしたインデックスを取得\n",
        "\n",
        "data = {}\n",
        "\n",
        "# ソートされた単語と出現回数をデータに追加 (特定の単語は追加しない、出現回数が10回以下の単語はデータフレームに追加しない)\n",
        "for idx in sorted_indices:\n",
        "    word = list(vec_count_all.vocabulary_.keys())[list(vec_count_all.vocabulary_.values()).index(idx)]\n",
        "    count = all_word_counts[idx]\n",
        "    if count >= 10 and word not in [\"する\", \"なる\", \"いる\", \"見る\", \"どう\", \"まだ\",\n",
        "                                    \"思う\", \"れる\", \"ある\", \"いい\", \"感じ\", \"これ\",\n",
        "                                    \"てる\",\"みる\",\"しまう\", \"知る\", \"内容\", \"すごく\",\n",
        "                                    \"いく\",\"こと\",\"られる\",\"とても\",\"もの\",\"よく\",\n",
        "                                    \"くる\",\"モノ\",\"よう\",\n",
        "                                    \"そう\",\"すぎる\",\"ところ\"]:\n",
        "        data[word] = [count]\n",
        "\n",
        "df_words_count = pd.DataFrame(data)  # データフレームを作成\n",
        "df_words_count.index = [\"ALL\"]  # 行名を設定\n",
        "print(df_words_count)"
      ]
    },
    {
      "cell_type": "code",
      "execution_count": null,
      "metadata": {
        "id": "03XRRb-xoyG2"
      },
      "outputs": [],
      "source": [
        "# cls_0のデータフレーム作成　word_counts_cls1\n",
        "\n",
        "# データフレームを作成\n",
        "df_cls0 = pd.DataFrame(columns=vec_count_cls0.get_feature_names_out(), index=[\"cls0\"])\n",
        "\n",
        "# 各単語と出現回数をデータフレームに追加\n",
        "for index in sorted_indices_cls0:\n",
        "    word = vec_count_cls0.get_feature_names_out()[index]\n",
        "    count = word_counts_cls0[index]\n",
        "    df_cls0[word] = count\n",
        "\n",
        "# 列名を出現回数が多い順にソート\n",
        "df_cls0 = df_cls0[df_cls0.columns.sort_values(ascending=False)]\n",
        "\n",
        "# データフレームを表示\n",
        "print(df_cls0)\n"
      ]
    },
    {
      "cell_type": "code",
      "execution_count": null,
      "metadata": {
        "id": "4AQd2zDKruLb"
      },
      "outputs": [],
      "source": [
        "# cls_1のデータフレーム作成　word_counts_cls1\n",
        "\n",
        "# データフレームを作成\n",
        "df_cls1 = pd.DataFrame(columns=vec_count_cls1.get_feature_names_out(), index=[\"cls1\"])\n",
        "\n",
        "# 各単語と出現回数をデータフレームに追加\n",
        "for index in sorted_indices_cls1:\n",
        "    word = vec_count_cls1.get_feature_names_out()[index]\n",
        "    count = word_counts_cls1[index]\n",
        "    df_cls1[word] = count\n",
        "\n",
        "# 列名を出現回数が多い順にソート\n",
        "df_cls1 = df_cls1[df_cls1.columns.sort_values(ascending=False)]\n",
        "\n",
        "# データフレームを表示\n",
        "print(df_cls1)\n"
      ]
    },
    {
      "cell_type": "code",
      "execution_count": null,
      "metadata": {
        "id": "rNhs17Uw81V9"
      },
      "outputs": [],
      "source": [
        "df.head()"
      ]
    },
    {
      "cell_type": "code",
      "execution_count": null,
      "metadata": {
        "id": "1KvHtrqosXHl"
      },
      "outputs": [],
      "source": [
        "# # cls_2のデータフレーム作成\n",
        "\n",
        "# # データフレームを作成\n",
        "# df_cls2 = pd.DataFrame(columns=vec_count2.get_feature_names_out(), index=[\"cls2\"])\n",
        "\n",
        "# # 各単語と出現回数をデータフレームに追加\n",
        "# for index in sorted_indices_cls2:\n",
        "#     word = vec_count2.get_feature_names_out()[index]\n",
        "#     count = word_counts_cls2[index]\n",
        "#     df_cls2[word] = count\n",
        "\n",
        "# # 列名を出現回数が多い順にソート\n",
        "# df_cls2 = df_cls2[df_cls2.columns.sort_values(ascending=False)]\n",
        "\n",
        "# # データフレームを表示\n",
        "# print(df_cls2)"
      ]
    },
    {
      "cell_type": "code",
      "execution_count": null,
      "metadata": {
        "id": "H4qY2XiBgXpW"
      },
      "outputs": [],
      "source": [
        "import matplotlib.font_manager as fm\n",
        "\n",
        "# TOP50語のデータを取得し、出現回数の多い順にソート\n",
        "top_words = df_words_count.iloc[:, :50].loc[\"ALL\"]\n",
        "top_words_sorted = top_words.sort_values(ascending=False)\n",
        "\n",
        "# フォントのパスを指定してフォントを読み込む\n",
        "font_path = \"/usr/share/fonts/opentype/ipafont-gothic/ipagp.ttf\"\n",
        "font_prop = fm.FontProperties(fname=font_path)\n",
        "\n",
        "# バーのプロット\n",
        "plt.figure(figsize=(20, 15))\n",
        "\n",
        "plt.barh(top_words.index, top_words.values)# barh()を使用して水平なバープロットを作成\n",
        "plt.xticks(rotation=90, fontproperties=font_prop)  # X軸のフォントを設定\n",
        "plt.yticks(fontproperties=font_prop)  # Y軸のフォントを設定\n",
        "plt.xlabel(\"出現回数\", fontproperties=font_prop)  # Xラベルのフォントを設定\n",
        "plt.ylabel(\"単語\", fontproperties=font_prop)  # Yラベルのフォントを設定\n",
        "plt.title(\"単語の出現回数 TOP50\", fontproperties=font_prop)  # タイトルのフォントを設定\n",
        "plt.tight_layout()\n",
        "plt.show()"
      ]
    },
    {
      "cell_type": "code",
      "execution_count": null,
      "metadata": {
        "id": "lkvY7UzifguI"
      },
      "outputs": [],
      "source": [
        "# データフレームを結合して新しいデータフレームを作成\n",
        "df_words_allcount = pd.concat([df_words_count, df_cls0, df_cls1], axis=0, ignore_index=True)\n",
        "\n",
        "# 列名ごとにデータを更新\n",
        "columns = df_words_allcount.columns\n",
        "\n",
        "for column in columns:\n",
        "    # データフレームごとに列名の存在チェック\n",
        "    for df in [df_words_count, df_cls0, df_cls1]:\n",
        "        if column not in df.columns:\n",
        "            df[column] = 0\n",
        "\n",
        "# 行ごとにデータを更新\n",
        "for i in range(len(df_words_allcount)):\n",
        "    row = df_words_allcount.loc[i]\n",
        "    for df in [df_words_count, df_cls0, df_cls1]:\n",
        "        if df.empty:\n",
        "            continue\n",
        "        if df.iloc[0].name in row.index:\n",
        "            df_value = df.loc[df.iloc[0].name, row.index]\n",
        "            row[row.index] = df_value\n"
      ]
    },
    {
      "cell_type": "code",
      "execution_count": null,
      "metadata": {
        "id": "0TDIgs0Tt87A"
      },
      "outputs": [],
      "source": [
        "df_words_allcount.head()"
      ]
    },
    {
      "cell_type": "markdown",
      "metadata": {
        "id": "ZmoD-Ql6lmTh"
      },
      "source": []
    },
    {
      "cell_type": "code",
      "execution_count": null,
      "metadata": {
        "id": "iNegt2U3lXT4"
      },
      "outputs": [],
      "source": [
        "# 行名を変更する\n",
        "df_words_allcount = df_words_allcount.rename(index={0: 'all', 1: 'cls_0', 2:'cls_1'})\n",
        "\n",
        "# 行名が変更されたデータフレームを表示\n",
        "print(df_words_allcount)"
      ]
    },
    {
      "cell_type": "markdown",
      "metadata": {
        "id": "VBPPDbnRlmDo"
      },
      "source": []
    },
    {
      "cell_type": "code",
      "execution_count": null,
      "metadata": {
        "id": "xahOztrjithq"
      },
      "outputs": [],
      "source": [
        "\n",
        "# フォントのパスを指定してフォントを読み込む\n",
        "font_path = \"/usr/share/fonts/opentype/ipafont-gothic/ipagp.ttf\"\n",
        "font_prop = fm.FontProperties(fname=font_path)\n",
        "\n",
        "# cls_0のデータを取り出す\n",
        "row_cls_0 = df_words_allcount.loc[\"cls_0\"].iloc[:50]\n",
        "\n",
        "# バーのプロット\n",
        "plt.figure(figsize=(20, 15))\n",
        "plt.barh(row_cls_0.index, row_cls_0.values)# barh()を使用して水平なバープロットを作成\n",
        "plt.xticks(rotation=90, fontproperties=font_prop)  # X軸のフォントを設定\n",
        "plt.yticks(fontproperties=font_prop)  # Y軸のフォントを設定\n",
        "plt.xlabel(\"出現回数\", fontproperties=font_prop)  # Xラベルのフォントを設定\n",
        "plt.ylabel(\"単語\", fontproperties=font_prop)  # Yラベルのフォントを設定\n",
        "plt.title(\"cls_0 単語の出現回数(クラスター分割数：2) TOP50\", fontproperties=font_prop)  # タイトルのフォントを設定\n",
        "plt.tight_layout()\n",
        "plt.show()\n",
        "\n"
      ]
    },
    {
      "cell_type": "code",
      "execution_count": null,
      "metadata": {
        "id": "hN3vE39RdRue"
      },
      "outputs": [],
      "source": [
        "# cls_1を可視化\n",
        "# フォントのパスを指定してフォントを読み込む\n",
        "font_path = \"/usr/share/fonts/opentype/ipafont-gothic/ipagp.ttf\"\n",
        "font_prop = fm.FontProperties(fname=font_path)\n",
        "\n",
        "# cls_0のデータを取り出す\n",
        "row_cls_1 = df_words_allcount.loc[\"cls_1\"].iloc[:50]\n",
        "\n",
        "# バーのプロット\n",
        "plt.figure(figsize=(20, 15))\n",
        "plt.barh(row_cls_1.index, row_cls_1.values)# barh()を使用して水平なバープロットを作成\n",
        "plt.xticks(rotation=90, fontproperties=font_prop)  # X軸のフォントを設定\n",
        "plt.yticks(fontproperties=font_prop)  # Y軸のフォントを設定\n",
        "plt.xlabel(\"出現回数\", fontproperties=font_prop)  # Xラベルのフォントを設定\n",
        "plt.ylabel(\"単語\", fontproperties=font_prop)  # Yラベルのフォントを設定\n",
        "plt.title(\"cls_0 単語の出現回数(クラスター分割数：2) TOP50\", fontproperties=font_prop)  # タイトルのフォントを設定\n",
        "plt.tight_layout()\n",
        "plt.show()"
      ]
    },
    {
      "cell_type": "code",
      "execution_count": null,
      "metadata": {
        "id": "JJ3DHU_3wDbn"
      },
      "outputs": [],
      "source": [
        "# # cls_2を可視化\n",
        "# # フォントのパスを指定してフォントを読み込む\n",
        "# font_path = \"/usr/share/fonts/opentype/ipafont-gothic/ipagp.ttf\"\n",
        "# font_prop = fm.FontProperties(fname=font_path)\n",
        "\n",
        "# # cls_2のデータを取り出す\n",
        "# row_cls_2 = df_words_allcount.loc[\"cls_2\"].iloc[:50]\n",
        "\n",
        "# # バーのプロット\n",
        "# plt.figure(figsize=(20, 15))\n",
        "# plt.barh(row_cls_2.index, row_cls_1.values)# barh()を使用して水平なバープロットを作成\n",
        "# plt.xticks(rotation=90, fontproperties=font_prop)  # X軸のフォントを設定\n",
        "# plt.yticks(fontproperties=font_prop)  # Y軸のフォントを設定\n",
        "# plt.xlabel(\"出現回数\", fontproperties=font_prop)  # Xラベルのフォントを設定\n",
        "# plt.ylabel(\"単語\", fontproperties=font_prop)  # Yラベルのフォントを設定\n",
        "# plt.title(\"cls_0 単語の出現回数 TOP50\", fontproperties=font_prop)  # タイトルのフォントを設定\n",
        "# plt.tight_layout()\n",
        "# plt.show()"
      ]
    },
    {
      "cell_type": "code",
      "execution_count": null,
      "metadata": {
        "id": "pc5VhEs3r8Jf"
      },
      "outputs": [],
      "source": [
        "df_words_allcount.head()"
      ]
    },
    {
      "cell_type": "code",
      "execution_count": null,
      "metadata": {
        "id": "HzNh_Gk6vaUj"
      },
      "outputs": [],
      "source": []
    },
    {
      "cell_type": "code",
      "execution_count": null,
      "metadata": {
        "id": "z_1HPHMQ-xEv"
      },
      "outputs": [],
      "source": [
        "# 1行目から3行目までの各列の値の合計を計算し、最終行目に追加\n",
        "df_words_allcount.loc[\"All\"] = df_words_allcount.iloc[1:3].sum()\n",
        "df_words_allcount.head()"
      ]
    },
    {
      "cell_type": "code",
      "execution_count": null,
      "metadata": {
        "id": "jIxDCIA4_N2Y"
      },
      "outputs": [],
      "source": [
        "import matplotlib.font_manager as fm\n",
        "\n",
        "# TOP50語のデータを取得し、出現回数の多い順にソート\n",
        "top_words = df_words_allcount.loc[\"All\"].nlargest(50)\n",
        "\n",
        "# フォントのパスを指定してフォントを読み込む\n",
        "font_path = \"/usr/share/fonts/opentype/ipafont-gothic/ipagp.ttf\"\n",
        "font_prop = fm.FontProperties(fname=font_path)\n",
        "\n",
        "# バーのプロット\n",
        "plt.figure(figsize=(20, 15))\n",
        "\n",
        "# 各単語の出現回数を可視化\n",
        "plt.barh(top_words.index, df_words_allcount.loc[\"cls_0\", top_words.index], label=\"cls_0\", color=\"skyblue\")\n",
        "plt.barh(top_words.index, df_words_allcount.loc[\"cls_1\", top_words.index], label=\"cls_1\", color=\"orange\", left=df_words_allcount.loc[\"cls_0\", top_words.index])\n",
        "# plt.barh(top_words.index, df_words_allcount.loc[\"cls_2\", top_words.index], label=\"cls_2\", color=\"green\", left=df_words_allcount.loc[\"cls_0\", top_words.index]+df_words_allcount.loc[\"cls_1\", top_words.index])\n",
        "\n",
        "plt.xticks(rotation=90, fontproperties=font_prop)  # X軸のフォントを設定\n",
        "plt.yticks(fontproperties=font_prop)  # Y軸のフォントを設定\n",
        "plt.xlabel(\"出現回数\", fontproperties=font_prop)  # Xラベルのフォントを設定\n",
        "plt.ylabel(\"単語\", fontproperties=font_prop)  # Yラベルのフォントを設定\n",
        "plt.title(\"単語の出現回数 (クラスター数：2)(TOP50)\", fontproperties=font_prop)  # タイトルのフォントを設定\n",
        "plt.legend(prop=font_prop)  # 凡例のフォントを設定\n",
        "plt.tight_layout()\n",
        "plt.show()\n"
      ]
    },
    {
      "cell_type": "code",
      "execution_count": null,
      "metadata": {
        "id": "jnMoOaPiIkfB"
      },
      "outputs": [],
      "source": [
        "import matplotlib.pyplot as plt\n",
        "import matplotlib.font_manager as fm\n",
        "\n",
        "# 行 \"cls_0\" の各列の値の合計を計算\n",
        "total_counts = df_words_allcount.loc[\"cls_0\"].sum()\n",
        "\n",
        "# TOP30語のデータを取得し、出現回数の多い順にソート\n",
        "top_words = df_words_allcount.loc[\"cls_0\"].nlargest(30)\n",
        "\n",
        "# 各単語の出現回数の割合を計算\n",
        "percentages = (top_words / total_counts) * 100\n",
        "\n",
        "# フォントのパスを指定してフォントを読み込む\n",
        "font_path = \"/usr/share/fonts/opentype/ipafont-gothic/ipagp.ttf\"\n",
        "font_prop = fm.FontProperties(fname=font_path)\n",
        "\n",
        "# バーのプロット\n",
        "plt.figure(figsize=(10, 6))\n",
        "plt.barh(range(len(top_words.index)), percentages, color=\"skyblue\")  # バーを水平方向にプロット\n",
        "\n",
        "# Y軸の目盛りとラベルを設定\n",
        "plt.yticks(range(len(top_words.index)), top_words.index, fontproperties=font_prop)\n",
        "\n",
        "# ラベルやタイトルのフォントを設定\n",
        "plt.xlabel(\"出現割合 (%)\", fontproperties=font_prop)  # X軸のラベル\n",
        "plt.title(\"cls_0の単語の出現回数割合 (TOP30)\", fontproperties=font_prop, fontsize=14)\n",
        "\n",
        "plt.tight_layout()\n",
        "plt.show()\n"
      ]
    },
    {
      "cell_type": "code",
      "execution_count": null,
      "metadata": {
        "id": "G-K9faeNvyed"
      },
      "outputs": [],
      "source": [
        "import matplotlib.font_manager as fm\n",
        "\n",
        "# TOP50語のデータを取得し、出現回数の多い順にソート\n",
        "top_words = df_words_allcount.loc[\"All\"].nlargest(50)\n",
        "\n",
        "# フォントのパスを指定してフォントを読み込む\n",
        "font_path = \"/usr/share/fonts/opentype/ipafont-gothic/ipagp.ttf\"\n",
        "font_prop = fm.FontProperties(fname=font_path)\n",
        "\n",
        "# バーのプロット\n",
        "plt.figure(figsize=(20, 15))\n",
        "\n",
        "# 各単語の出現回数を可視化\n",
        "plt.barh(top_words.index, df_words_allcount.loc[\"cls_0\", top_words.index], label=\"cls_0\", color=\"skyblue\")\n",
        "plt.barh(top_words.index, df_words_allcount.loc[\"cls_1\", top_words.index], label=\"cls_1\", color=\"orange\", left=df_words_allcount.loc[\"cls_0\", top_words.index])\n",
        "# plt.barh(top_words.index, df_words_allcount.loc[\"cls_2\", top_words.index], label=\"cls_2\", color=\"green\", left=df_words_allcount.loc[\"cls_0\", top_words.index]+df_words_allcount.loc[\"cls_1\", top_words.index])\n",
        "\n",
        "plt.xticks(rotation=90, fontproperties=font_prop)  # X軸のフォントを設定\n",
        "plt.yticks(fontproperties=font_prop)  # Y軸のフォントを設定\n",
        "plt.xlabel(\"出現回数\", fontproperties=font_prop)  # Xラベルのフォントを設定\n",
        "plt.ylabel(\"単語\", fontproperties=font_prop)  # Yラベルのフォントを設定\n",
        "plt.title(\"単語の出現回数 (クラスター数：2)(TOP50)\", fontproperties=font_prop)  # タイトルのフォントを設定\n",
        "plt.legend(prop=font_prop)  # 凡例のフォントを設定\n",
        "plt.tight_layout()\n",
        "plt.show()\n"
      ]
    },
    {
      "cell_type": "code",
      "execution_count": null,
      "metadata": {
        "id": "pLPNjBI6wP0e"
      },
      "outputs": [],
      "source": [
        "# 行 \"cls_0\" の各列の値の合計を計算\n",
        "total_counts = df_words_allcount.loc[\"cls_0\"].sum()\n",
        "\n",
        "# TOP30語のデータを取得し、出現回数の多い順にソート\n",
        "top_words = df_words_allcount.loc[\"cls_0\"].nlargest(30)\n",
        "\n",
        "# 各単語の出現回数の割合を計算\n",
        "percentages = (top_words / total_counts) * 100\n",
        "\n",
        "# フォントのパスを指定してフォントを読み込む\n",
        "font_path = \"/usr/share/fonts/opentype/ipafont-gothic/ipagp.ttf\"\n",
        "font_prop = fm.FontProperties(fname=font_path)\n",
        "\n",
        "# バーのプロット\n",
        "plt.figure(figsize=(10, 6))\n",
        "plt.barh(range(len(top_words.index)), percentages, color=\"skyblue\")  # バーを水平方向にプロット\n",
        "\n",
        "# Y軸の目盛りとラベルを設定\n",
        "plt.yticks(range(len(top_words.index)), top_words.index, fontproperties=font_prop)\n",
        "\n",
        "# ラベルやタイトルのフォントを設定\n",
        "plt.xlabel(\"出現割合 (%)\", fontproperties=font_prop)  # X軸のラベル\n",
        "plt.title(\"cls_0の単語の出現回数割合 (クラスター数：2) (TOP30)\", fontproperties=font_prop, fontsize=14)\n",
        "\n",
        "plt.tight_layout()\n",
        "plt.show()"
      ]
    },
    {
      "cell_type": "code",
      "execution_count": null,
      "metadata": {
        "id": "_BmO3OD8JbNa"
      },
      "outputs": [],
      "source": [
        "# 行 \"cls_1\" の各列の値の合計を計算\n",
        "total_counts = df_words_allcount.loc[\"cls_1\"].sum()\n",
        "\n",
        "# TOP30語のデータを取得し、出現回数の多い順にソート\n",
        "top_words = df_words_allcount.loc[\"cls_1\"].nlargest(30)\n",
        "\n",
        "# 各単語の出現回数の割合を計算\n",
        "percentages = (top_words / total_counts) * 100\n",
        "\n",
        "# フォントのパスを指定してフォントを読み込む\n",
        "font_path = \"/usr/share/fonts/opentype/ipafont-gothic/ipagp.ttf\"\n",
        "font_prop = fm.FontProperties(fname=font_path)\n",
        "\n",
        "# バーのプロット\n",
        "plt.figure(figsize=(10, 6))\n",
        "plt.barh(range(len(top_words.index)), percentages, color=\"skyblue\")  # バーを水平方向にプロット\n",
        "\n",
        "# Y軸の目盛りとラベルを設定\n",
        "plt.yticks(range(len(top_words.index)), top_words.index, fontproperties=font_prop)\n",
        "\n",
        "# ラベルやタイトルのフォントを設定\n",
        "plt.xlabel(\"出現割合 (%)\", fontproperties=font_prop)  # X軸のラベル\n",
        "plt.title(\"cls_1の単語の出現回数割合 (クラスター数：2) (TOP30)\", fontproperties=font_prop, fontsize=14)\n",
        "\n",
        "plt.tight_layout()\n",
        "plt.show()"
      ]
    },
    {
      "cell_type": "code",
      "execution_count": null,
      "metadata": {
        "id": "uHDo1fy78XSe"
      },
      "outputs": [],
      "source": [
        "\n",
        "\n",
        "if type(str_words_cls_label0) == list:\n",
        "    print(\"dataはリスト型です\")\n",
        "else:\n",
        "    print(\"dataはリスト型ではありません\")"
      ]
    },
    {
      "cell_type": "code",
      "execution_count": null,
      "metadata": {
        "id": "GN8k1ChXibC8"
      },
      "outputs": [],
      "source": [
        "!apt-get -y install fonts-ipafont-gothic\n",
        "import matplotlib.pyplot as plt\n",
        "plt.rcParams['font.family'] = 'IPAPGothic'"
      ]
    },
    {
      "cell_type": "code",
      "execution_count": null,
      "metadata": {
        "id": "iz9Uene6mD79"
      },
      "outputs": [],
      "source": [
        "!apt-get install fonts-ipafont-gothic\n"
      ]
    },
    {
      "cell_type": "code",
      "execution_count": null,
      "metadata": {
        "id": "bdj9VXyQ9ick"
      },
      "outputs": [],
      "source": [
        "import networkx as nx\n",
        "import matplotlib.font_manager as fm\n",
        "\n",
        "# 共起関係の抽出とエッジの作成\n",
        "G = nx.Graph()\n",
        "\n",
        "# クラスタ0\n",
        "for words in str_words_cls_label0:\n",
        "    # 単語の組み合わせを取得\n",
        "    word_pairs = [(words[i], words[i+1]) for i in range(len(words)-1)]\n",
        "\n",
        "    # 共起回数をカウント\n",
        "    word_counts = dict()\n",
        "    for pair in word_pairs:\n",
        "        if pair in word_counts:\n",
        "            word_counts[pair] += 1\n",
        "        else:\n",
        "            word_counts[pair] = 1\n",
        "\n",
        "    # 共起回数が閾値以上のエッジを追加\n",
        "    threshold = 5\n",
        "    for pair, count in word_counts.items():\n",
        "        if count >= threshold:\n",
        "            G.add_edge(pair[0], pair[1], weight=count)\n",
        "\n",
        "\n",
        "\n",
        "#日本語フォント読み込み\n",
        "import matplotlib.font_manager\n",
        "font_path = r'/usr/share/fonts/opentype/ipafont-gothic/ipag.ttf'\n",
        "font_prop = matplotlib.font_manager.FontProperties(fname=font_path)\n",
        "\n",
        "# ネットワーク図の描画\n",
        "plt.figure(figsize=(10, 8))\n",
        "pos = nx.spring_layout(G, k=0.5)  # ネットワークのレイアウトを指定\n",
        "weights = [G[u][v]['weight'] * 0.1 for u, v in G.edges()]  # エッジの太さを設定\n",
        "\n",
        "nx.draw_networkx_nodes(G, pos, node_color='lightblue', node_size=200)  # ノードの描画\n",
        "nx.draw_networkx_edges(G, pos, edge_color='gray', width=weights)  # エッジの描画\n",
        "nx.draw_networkx_labels(G, pos, font_size=8, font_color='black', font_family=font_prop.get_name())  # ラベルの描画\n",
        "\n",
        "plt.axis('off')  # 軸を非表示にする\n",
        "plt.title('単語共起ネットワーク', fontproperties=font_prop, fontsize=14)\n",
        "plt.show()\n"
      ]
    },
    {
      "cell_type": "code",
      "execution_count": null,
      "metadata": {
        "id": "KrqVd7N1kbBN"
      },
      "outputs": [],
      "source": []
    },
    {
      "cell_type": "code",
      "execution_count": null,
      "metadata": {
        "id": "MczAwKUrLRE3"
      },
      "outputs": [],
      "source": [
        "# def unify_notation(sentence):\n",
        "#   sentence = \\\n",
        "#     sentence \\\n",
        "#     .replace('転生もの', '転生モノ') \\\n",
        "#     .replace('生まれ', '産まれ') \\\n",
        "#     .replace('うまれ', '産まれ') \\\n",
        "#     .replace('よん', '読').replace('よみ', '読') .replace('読み', '読').replace('読ん', '読') \\\n",
        "#     .replace('はまって', 'ハマって') \\\n",
        "#     .replace('マンガ', '漫画') \\\n",
        "#     .replace('おもしろ', '面白') \\\n",
        "#     .replace('かわいい', '可愛い') \\\n",
        "#     .replace('\\n','') \\\n",
        "#     .replace(' ','') \\\n",
        "#     .replace('_', '') \\\n",
        "#     .replace('子ども', '子供') \\\n",
        "#     .replace('ヨアソビ', 'YOASOBI').replace('yoasobi', 'YOASOBI') \\\n",
        "#     .replace('わくわく', 'ワクワク') \\\n",
        "#     .replace('有馬', 'ArimaKana').replace('カナ', 'ArimaKana') \\\n",
        "#     .replace('あい', 'Ai')\\\n",
        "#     .replace('ゴロー', 'Gorou') \\\n",
        "#     .replace('アクア', 'Aqua') \\\n",
        "#     .replace('推しの子', 'oshinoko') #neologdにも”推しの子”は登録されてないのでローマ字表記に変える\n",
        "\n",
        "#   return sentence"
      ]
    },
    {
      "cell_type": "code",
      "execution_count": null,
      "metadata": {
        "id": "GfJ6wow6LQoN"
      },
      "outputs": [],
      "source": [
        "# #dfのcontent の各行に unify_notation() 関数を適用し、正しい表記に置換したテキストを返す\n",
        "# df['content'] = df['content'].apply(unify_notation)\n",
        "# df['content']"
      ]
    },
    {
      "cell_type": "markdown",
      "metadata": {
        "id": "9NZ35o583b9y"
      },
      "source": [
        "# LDA（Latent Dirichlet Allocation）"
      ]
    },
    {
      "cell_type": "code",
      "execution_count": null,
      "metadata": {
        "id": "LisJEmPvEJ4E"
      },
      "outputs": [],
      "source": []
    },
    {
      "cell_type": "markdown",
      "metadata": {
        "id": "V7noo98C3mtm"
      },
      "source": [
        "\n",
        "\n",
        "*   LDAは、文書を単語の集合として扱いどのようなトピックの組み合わせから生成されたのかを推定する\n",
        "*   LDAの結果として得られるトピック分布は、文書集合内のトピックの分布や各単語のトピックへの所属確率を表現\n",
        "\n",
        "\n",
        "▼特徴<br>\n",
        "・教師なし<br>\n",
        "・クラスタリングしたいカテゴリー数を指定する必要がある<br>\n",
        "・各カテゴリーの代表的な単語を抽出することができる<br><br>\n",
        "\n",
        "▼使い所の例<br>\n",
        "・トピック抽出：手元のデータにはどのようなトピックがあるのか<br>\n",
        "・トピックをより細分化したい：「スポーツ」記事カテゴリーの中にも複数サブトピックがあるかもしれない、それはどういったものなのか<br>\n",
        "・文書内容の傾向の変化を把握したい：5年前のニューストピックと現在のトピックはどう変わったのか\n",
        "\n"
      ]
    },
    {
      "cell_type": "code",
      "execution_count": null,
      "metadata": {
        "id": "oxJ7EGWX3gOr"
      },
      "outputs": [],
      "source": [
        "from gensim.corpora.dictionary import Dictionary\n",
        "from gensim.models import LdaModel"
      ]
    },
    {
      "cell_type": "code",
      "execution_count": null,
      "metadata": {
        "id": "xdsh4n2r5P7F"
      },
      "outputs": [],
      "source": [
        "#記事を単語のリストに変換\n",
        "list_content= [str(article).split() for article in df_cls[\"content_stopword\"]]\n"
      ]
    },
    {
      "cell_type": "code",
      "execution_count": null,
      "metadata": {
        "id": "jEt0NLyDWqo1"
      },
      "outputs": [],
      "source": [
        "df_cls.head()"
      ]
    },
    {
      "cell_type": "code",
      "execution_count": null,
      "metadata": {
        "id": "qlkYW4jC7xMP"
      },
      "outputs": [],
      "source": [
        "#単語のセットを作成\n",
        "dictionary = Dictionary(list_content)\n",
        "print(\"ユニーク単語数： \", len(dictionary))\n",
        "\n",
        "#出現記事数が5個以下（レアすぎる）、4割以上（共通しすぎる）の単語を取り除く\n",
        "dictionary.filter_extremes(no_below=3, no_above=0.4)\n",
        "print(\"レアすぎる、共通しすぎる単語を除去した後の単語数： \", len(dictionary))\n",
        "\n",
        "corpus = [dictionary.doc2bow(wd) for wd in list_content]\n",
        "\n",
        "#モデル学習、トピック数を12に設定\n",
        "lda = LdaModel(corpus, num_topics=12)"
      ]
    },
    {
      "cell_type": "code",
      "execution_count": null,
      "metadata": {
        "id": "-ermWvJx1ZTV"
      },
      "outputs": [],
      "source": [
        "#LDAの結果を見てみる、[(カテゴリー, 確率), (カテゴリー, 確率)]の形になっている\n",
        "\n",
        "lda[corpus[5]]"
      ]
    },
    {
      "cell_type": "code",
      "execution_count": null,
      "metadata": {
        "id": "h9as8gaVtNZp"
      },
      "outputs": [],
      "source": [
        "#LDAの結果をdataframeに整理すると、文章の各カテゴリーの確率が確認できる\n",
        "\n",
        "lda_df = pd.DataFrame(index = range(len(corpus)))\n",
        "\n",
        "for c in range(12):\n",
        "  lda_df[c] = 0.0\n",
        "\n",
        "for i in range(len(corpus)):\n",
        "  topic = lda[corpus[i]]\n",
        "  for t,p in topic:\n",
        "    lda_df.at[i, t] = p\n",
        "\n",
        "\n",
        "main_topic = lda_df.values.argmax(axis=1)\n",
        "\n",
        "main_topic\n",
        "# LDAのクラスタリング結果は実際の分類とかなり異なりますが、比較的に綺麗に分けられているクラスターもあります"
      ]
    },
    {
      "cell_type": "code",
      "execution_count": null,
      "metadata": {
        "id": "tYZdYI7HsQYq"
      },
      "outputs": [],
      "source": [
        "df_cls['topic'] = main_topic  # topic 列を追加\n",
        "\n",
        "# 一つずつ値を格納\n",
        "for i in range(len(df_cls)):\n",
        "    df_cls.at[i, 'topic'] = main_topic[i]\n",
        "\n",
        "df_cls.head(30)"
      ]
    },
    {
      "cell_type": "code",
      "execution_count": null,
      "metadata": {
        "id": "kLMPvZkodRNr"
      },
      "outputs": [],
      "source": [
        "!pip install japanize_matplotlib\n",
        "import japanize_matplotlib"
      ]
    },
    {
      "cell_type": "code",
      "execution_count": null,
      "metadata": {
        "id": "jrTCTsFoBHy5"
      },
      "outputs": [],
      "source": [
        "import matplotlib.pyplot as plt\n",
        "\n",
        "# 各トピックの数をカウント\n",
        "topic_counts = df_cls['topic'].value_counts()\n",
        "\n",
        "# 各トピックの割合を計算\n",
        "topic_percentages = topic_counts / topic_counts.sum()\n",
        "\n",
        "# トピックの割合を円グラフで表示\n",
        "labels = topic_counts.index.astype(str)  # トピックの値を文字列に変換\n",
        "colors = ['lightblue', 'lightgreen', 'lightyellow']  # 各トピックの色\n",
        "explode = (0.1,) * len(topic_counts)  # トピックの数に合わせてexplodeの要素を設定\n",
        "\n",
        "\n",
        "plt.pie(topic_percentages, labels=labels, colors=colors, explode=explode, autopct='%1.1f%%')\n",
        "plt.axis('equal')  # グラフを円形にする\n",
        "plt.title('Topic')  # グラフのタイトル\n",
        "plt.show()\n"
      ]
    },
    {
      "cell_type": "markdown",
      "metadata": {
        "id": "Wan2Pf8sENtN"
      },
      "source": [
        "# Word Association Network"
      ]
    },
    {
      "cell_type": "code",
      "execution_count": null,
      "metadata": {
        "id": "uwJUAQ6S8JRT"
      },
      "outputs": [],
      "source": [
        "import itertools\n",
        "from collections import Counter"
      ]
    },
    {
      "cell_type": "code",
      "execution_count": null,
      "metadata": {
        "id": "AhmN6kXrVLy8"
      },
      "outputs": [],
      "source": [
        "!pip install japanize_matplotlib\n",
        "import japanize_matplotlib"
      ]
    },
    {
      "cell_type": "code",
      "execution_count": null,
      "metadata": {
        "id": "KthzIVuQElzZ"
      },
      "outputs": [],
      "source": [
        "df_cls.head(50)\n",
        "#  エクセルファイルに変換して保0\n",
        "df_cls.to_excel('Topic12.xlsx', index=False)\n",
        "!cp Topic12.xlsx /content/drive/MyDrive/"
      ]
    },
    {
      "cell_type": "code",
      "execution_count": null,
      "metadata": {
        "id": "tV4M5ra2HUom"
      },
      "outputs": [],
      "source": [
        "len(df_cls)"
      ]
    },
    {
      "cell_type": "code",
      "execution_count": null,
      "metadata": {
        "id": "0nHRibmIEZHf"
      },
      "outputs": [],
      "source": [
        "# 単語ごとに分割する\n",
        "article_topic = [article.split() for article in df_cls.loc[df_cls[\"topic\"] == 11,  \"content_stopword\"]]\n",
        "print(article_topic)"
      ]
    },
    {
      "cell_type": "code",
      "execution_count": null,
      "metadata": {
        "id": "ayKd-57RKGZ_"
      },
      "outputs": [],
      "source": [
        "# ２つの単語が同じ記事の中に一緒に出現した回数をカウントするリストを作成\n",
        "\n",
        "# itertools.combinations() を使用して、article_topic0 の各記事内の単語の組み合わせを取得し、それらの組み合わせをリストとして pair_word に格納\n",
        "pair_word = [list(itertools.combinations(i, 2)) for i in article_topic]\n",
        "\n",
        "# pair_word の各要素から自身との組み合わせを除いた組み合わせを取得し、pair_word_no_self リストに格納しています。\n",
        "# ループを使用して各要素を処理し、条件 w1 != w2 を満たす組み合わせだけをリストに追加\n",
        "pair_word_no_self = []\n",
        "for p in pair_word:\n",
        "  pair_word_no_self.append(list((w1, w2) for w1, w2 in p if w1 != w2))\n",
        "\n",
        "# pair_word_no_self の各要素を pair_all リストに追加\n",
        "# pair_word_no_self をフラットなリストに変換するために、\n",
        "# extend() メソッドを使用して各要素を pair_all に追加\n",
        "pair_all = []\n",
        "for i in pair_word_no_self:\n",
        "  pair_all.extend(i)\n",
        "\n",
        "# pairs_counter の要素を出現回数で降順にソートし、上位60件の要素を取得しています。items() メソッドを使用して (要素, 出現回数) のタプルのリストを作成し、key パラメータを指定して出現回数でソート\n",
        "pairs_counter = Counter(pair_all)\n",
        "top_pair = sorted(pairs_counter.items(), key=lambda x: x[1], reverse=True)[:60]\n",
        "\n",
        "#最終のアウトプット\n",
        "# 上位10件の要素を表示\n",
        "print(top_pair[0:10])"
      ]
    },
    {
      "cell_type": "code",
      "execution_count": null,
      "metadata": {
        "id": "0OXfLAE4fKBW"
      },
      "outputs": [],
      "source": [
        "# データフレームの作成\n",
        "df_topic4_11 = pd.DataFrame(top_pair, columns=['単語', '出現回数'])\n",
        "\n",
        "# データフレームの表示\n",
        "print(df_topic4_11)\n",
        "\n",
        "#  エクセルファイルに変換して保0\n",
        "df_topic4_11.to_excel('df_topic4_11.xlsx', index=False)\n",
        "!cp df_topic4_11.xlsx /content/drive/MyDrive/\n"
      ]
    },
    {
      "cell_type": "code",
      "execution_count": null,
      "metadata": {
        "id": "AuzIralKKo0K"
      },
      "outputs": [],
      "source": [
        "#アウトプットをdataframeに格納\n",
        "\n",
        "w1 = []\n",
        "w2 = []\n",
        "freq = []\n",
        "\n",
        "# データフレームの作成\n",
        "for n,f in top_pair:\n",
        "    w1.append(n[0])\n",
        "    w2.append(n[1])\n",
        "    freq.append(f)\n",
        "\n",
        "# 可視化用のデータを作成、出現頻度を重み（可視化した時の単語の距離）として設定\n",
        "weighted_edges = np.array(pd.DataFrame({'first_word': w1, 'second_word': w2, '出現頻度': freq}))\n",
        "\n",
        "#共起ネットワークを可視化\n",
        "import networkx as nx\n",
        "G = nx.Graph()\n",
        "G.add_weighted_edges_from(weighted_edges)\n",
        "\n",
        "plt.figure(figsize=(15,8))\n",
        "nx.draw_networkx(G, node_color = \"white\", node_size = 300, font_size = 13, font_family = \"IPAexGothic\")\n",
        "\n",
        "# 軸と軸の間隔を広げる\n",
        "plt.subplots_adjust(left=0.1, right=0.9, top=0.9, bottom=0.1)\n",
        "\n",
        "# plt.figure(figsize=(15,8))\n",
        "# nx.draw_networkx(G, node_color=\"white\", node_size=1000, font_size=16, font_family=\"IPAexGothic\", edge_color=\"black\", linewidths=0.5, width=weighted_edges[:, 2])\n",
        "# plt.axis(\"off\")\n",
        "# plt.show()"
      ]
    },
    {
      "cell_type": "code",
      "execution_count": null,
      "metadata": {
        "id": "q9KlaoYzX25G"
      },
      "outputs": [],
      "source": [
        "!pip install pyLDAvis\n",
        "\n"
      ]
    },
    {
      "cell_type": "markdown",
      "metadata": {
        "id": "B7woSRE6Mddm"
      },
      "source": [
        "# pyLDAvis"
      ]
    },
    {
      "cell_type": "markdown",
      "metadata": {
        "id": "gpWg2yTTMK2p"
      },
      "source": [
        "\n",
        "\n",
        "*   トピックに含まれるドキュメント数で円の大きさが変わり、またトピックごとの単語分布の主成分分析結果で、トピック間の距離を視覚的に可視化\n",
        "*   右側の棒グラフは、単語の発生頻度と選択トピック内での発生頻度、パラメータλを変えると、この2つの比率を変えて順位を変えられる\n",
        "*   単語にオンマウスすると、その単語のトピックごとの発生頻度が左側で円の大きさとなって可視化\n",
        "\n"
      ]
    },
    {
      "cell_type": "code",
      "execution_count": null,
      "metadata": {
        "id": "nLLTziio43r9"
      },
      "outputs": [],
      "source": [
        "# 必要なライブラリをインポート\n",
        "import pyLDAvis.gensim\n",
        "import gensim\n",
        "from gensim.models import LdaModel\n",
        "from gensim.corpora import Dictionary\n",
        "\n",
        "# 単語のセットを作成\n",
        "dictionary = Dictionary(list_content)\n",
        "print(\"ユニーク単語数：\", len(dictionary))\n",
        "\n",
        "# 出現記事数が5個以下（レアすぎる）、4割以上（共通しすぎる）の単語を取り除く\n",
        "dictionary.filter_extremes(no_below=3, no_above=0.4)\n",
        "print(\"レアすぎる、共通しすぎる単語を除去した後の単語数：\", len(dictionary))\n",
        "\n",
        "corpus = [dictionary.doc2bow(wd) for wd in list_content]\n",
        "\n",
        "# モデル学習、トピック数を8に設定\n",
        "lda = LdaModel(corpus, num_topics=8)\n",
        "\n",
        "# 可視化用のデータを作成\n",
        "data = pyLDAvis.gensim.prepare(lda, corpus, dictionary)\n",
        "\n",
        "# 可視化データを表示\n",
        "pyLDAvis.display(data)\n"
      ]
    },
    {
      "cell_type": "code",
      "execution_count": null,
      "metadata": {
        "id": "faMtlCaH7Tkr"
      },
      "outputs": [],
      "source": [
        "\n",
        "# 可視化データをHTML形式で保存\n",
        "pyLDAvis.save_html(data, 'visualization.html')\n",
        "pyLDAvis.save_html(data, '/content/drive/MyDrive/visualization.html')\n"
      ]
    }
  ],
  "metadata": {
    "colab": {
      "provenance": [],
      "toc_visible": true,
      "include_colab_link": true
    },
    "kernelspec": {
      "display_name": "Python 3",
      "name": "python3"
    },
    "language_info": {
      "name": "python"
    }
  },
  "nbformat": 4,
  "nbformat_minor": 0
}